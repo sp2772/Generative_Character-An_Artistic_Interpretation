{
 "cells": [
  {
   "cell_type": "code",
   "execution_count": null,
   "id": "c30abe6c-e6bf-44ba-90ed-aea1627a6d14",
   "metadata": {},
   "outputs": [
    {
     "name": "stdout",
     "output_type": "stream",
     "text": [
      "Starting Vivian DCGAN training...\n",
      "\n",
      "============================================================\n",
      "Training Vivian DCGAN\n",
      "============================================================\n",
      "Loading images from: vivian_nsfw_sfw_cropped_combined_faces\n",
      "Found 5836 images\n",
      "Training samples: 5836\n",
      "Batches per epoch: 729\n",
      "\n",
      "Epoch 1/400\n"
     ]
    },
    {
     "name": "stderr",
     "output_type": "stream",
     "text": [
      "\n",
      "poch 1: 100%|██████████████████████████████████████████| 729/729 [06:16<00:00,  1.94it/s, G_Loss=3.2270, D_Loss=0.6131]"
     ]
    },
    {
     "name": "stdout",
     "output_type": "stream",
     "text": [
      "Epoch 1 completed - Avg G Loss: 3.2270, Avg D Loss: 0.6131\n",
      "Saved sample images for epoch 1\n",
      "\n",
      "Epoch 2/400\n"
     ]
    },
    {
     "name": "stderr",
     "output_type": "stream",
     "text": [
      "\n",
      "poch 2: 100%|██████████████████████████████████████████| 729/729 [07:02<00:00,  1.72it/s, G_Loss=2.1034, D_Loss=0.5387]"
     ]
    },
    {
     "name": "stdout",
     "output_type": "stream",
     "text": [
      "Epoch 2 completed - Avg G Loss: 2.1034, Avg D Loss: 0.5387\n",
      "\n",
      "Epoch 3/400\n"
     ]
    },
    {
     "name": "stderr",
     "output_type": "stream",
     "text": [
      "\n",
      "poch 3: 100%|██████████████████████████████████████████| 729/729 [06:28<00:00,  1.88it/s, G_Loss=2.1299, D_Loss=0.5560]"
     ]
    },
    {
     "name": "stdout",
     "output_type": "stream",
     "text": [
      "Epoch 3 completed - Avg G Loss: 2.1299, Avg D Loss: 0.5560\n",
      "\n",
      "Epoch 4/400\n"
     ]
    },
    {
     "name": "stderr",
     "output_type": "stream",
     "text": [
      "\n",
      "poch 4: 100%|██████████████████████████████████████████| 729/729 [06:11<00:00,  1.96it/s, G_Loss=2.2056, D_Loss=0.5663]"
     ]
    },
    {
     "name": "stdout",
     "output_type": "stream",
     "text": [
      "Epoch 4 completed - Avg G Loss: 2.2056, Avg D Loss: 0.5663\n",
      "\n",
      "Epoch 5/400\n"
     ]
    },
    {
     "name": "stderr",
     "output_type": "stream",
     "text": [
      "\n",
      "poch 5: 100%|██████████████████████████████████████████| 729/729 [06:19<00:00,  1.92it/s, G_Loss=2.2431, D_Loss=0.5493]"
     ]
    },
    {
     "name": "stdout",
     "output_type": "stream",
     "text": [
      "Epoch 5 completed - Avg G Loss: 2.2431, Avg D Loss: 0.5493\n",
      "Saved sample images for epoch 5\n",
      "\n",
      "Epoch 6/400\n"
     ]
    },
    {
     "name": "stderr",
     "output_type": "stream",
     "text": [
      "\n",
      "poch 6: 100%|██████████████████████████████████████████| 729/729 [06:34<00:00,  1.85it/s, G_Loss=2.3259, D_Loss=0.5353]"
     ]
    },
    {
     "name": "stdout",
     "output_type": "stream",
     "text": [
      "Epoch 6 completed - Avg G Loss: 2.3259, Avg D Loss: 0.5353\n",
      "\n",
      "Epoch 7/400\n"
     ]
    },
    {
     "name": "stderr",
     "output_type": "stream",
     "text": [
      "\n",
      "poch 7: 100%|██████████████████████████████████████████| 729/729 [06:27<00:00,  1.88it/s, G_Loss=2.3623, D_Loss=0.5258]"
     ]
    },
    {
     "name": "stdout",
     "output_type": "stream",
     "text": [
      "Epoch 7 completed - Avg G Loss: 2.3623, Avg D Loss: 0.5258\n",
      "\n",
      "Epoch 8/400\n"
     ]
    },
    {
     "name": "stderr",
     "output_type": "stream",
     "text": [
      "\n",
      "poch 8: 100%|██████████████████████████████████████████| 729/729 [06:29<00:00,  1.87it/s, G_Loss=2.3329, D_Loss=0.5160]"
     ]
    },
    {
     "name": "stdout",
     "output_type": "stream",
     "text": [
      "Epoch 8 completed - Avg G Loss: 2.3329, Avg D Loss: 0.5160\n",
      "\n",
      "Epoch 9/400\n"
     ]
    },
    {
     "name": "stderr",
     "output_type": "stream",
     "text": [
      "\n",
      "poch 9: 100%|██████████████████████████████████████████| 729/729 [06:35<00:00,  1.84it/s, G_Loss=2.2729, D_Loss=0.4996]"
     ]
    },
    {
     "name": "stdout",
     "output_type": "stream",
     "text": [
      "Epoch 9 completed - Avg G Loss: 2.2729, Avg D Loss: 0.4996\n",
      "\n",
      "Epoch 10/400\n"
     ]
    },
    {
     "name": "stderr",
     "output_type": "stream",
     "text": [
      "\n",
      "poch 10: 100%|█████████████████████████████████████████| 729/729 [06:40<00:00,  1.82it/s, G_Loss=2.2765, D_Loss=0.4990]"
     ]
    },
    {
     "name": "stdout",
     "output_type": "stream",
     "text": [
      "Epoch 10 completed - Avg G Loss: 2.2765, Avg D Loss: 0.4990\n",
      "Saved sample images for epoch 10\n",
      "Saved comparison images for epoch 10\n",
      "\n",
      "Epoch 11/400\n"
     ]
    },
    {
     "name": "stderr",
     "output_type": "stream",
     "text": [
      "\n",
      "poch 11: 100%|█████████████████████████████████████████| 729/729 [07:08<00:00,  1.70it/s, G_Loss=2.2853, D_Loss=0.4942]"
     ]
    },
    {
     "name": "stdout",
     "output_type": "stream",
     "text": [
      "Epoch 11 completed - Avg G Loss: 2.2853, Avg D Loss: 0.4942\n",
      "\n",
      "Epoch 12/400\n"
     ]
    },
    {
     "name": "stderr",
     "output_type": "stream",
     "text": [
      "\n",
      "poch 12: 100%|█████████████████████████████████████████| 729/729 [07:08<00:00,  1.70it/s, G_Loss=2.2184, D_Loss=0.4858]"
     ]
    },
    {
     "name": "stdout",
     "output_type": "stream",
     "text": [
      "Epoch 12 completed - Avg G Loss: 2.2184, Avg D Loss: 0.4858\n",
      "\n",
      "Epoch 13/400\n"
     ]
    },
    {
     "name": "stderr",
     "output_type": "stream",
     "text": [
      "\n",
      "poch 13: 100%|█████████████████████████████████████████| 729/729 [07:10<00:00,  1.69it/s, G_Loss=2.2049, D_Loss=0.4879]"
     ]
    },
    {
     "name": "stdout",
     "output_type": "stream",
     "text": [
      "Epoch 13 completed - Avg G Loss: 2.2049, Avg D Loss: 0.4879\n",
      "\n",
      "Epoch 14/400\n"
     ]
    },
    {
     "name": "stderr",
     "output_type": "stream",
     "text": [
      "\n",
      "poch 14: 100%|█████████████████████████████████████████| 729/729 [07:09<00:00,  1.70it/s, G_Loss=2.2243, D_Loss=0.4829]"
     ]
    },
    {
     "name": "stdout",
     "output_type": "stream",
     "text": [
      "Epoch 14 completed - Avg G Loss: 2.2243, Avg D Loss: 0.4829\n",
      "\n",
      "Epoch 15/400\n"
     ]
    },
    {
     "name": "stderr",
     "output_type": "stream",
     "text": [
      "\n",
      "poch 15: 100%|█████████████████████████████████████████| 729/729 [07:07<00:00,  1.71it/s, G_Loss=2.2483, D_Loss=0.4829]"
     ]
    },
    {
     "name": "stdout",
     "output_type": "stream",
     "text": [
      "Epoch 15 completed - Avg G Loss: 2.2483, Avg D Loss: 0.4829\n",
      "Saved sample images for epoch 15\n",
      "\n",
      "Epoch 16/400\n"
     ]
    },
    {
     "name": "stderr",
     "output_type": "stream",
     "text": [
      "\n",
      "poch 16: 100%|█████████████████████████████████████████| 729/729 [07:08<00:00,  1.70it/s, G_Loss=2.1743, D_Loss=0.4780]"
     ]
    },
    {
     "name": "stdout",
     "output_type": "stream",
     "text": [
      "Epoch 16 completed - Avg G Loss: 2.1743, Avg D Loss: 0.4780\n",
      "\n",
      "Epoch 17/400\n"
     ]
    },
    {
     "name": "stderr",
     "output_type": "stream",
     "text": [
      "\n",
      "poch 17: 100%|█████████████████████████████████████████| 729/729 [06:58<00:00,  1.74it/s, G_Loss=2.1688, D_Loss=0.4721]"
     ]
    },
    {
     "name": "stdout",
     "output_type": "stream",
     "text": [
      "Epoch 17 completed - Avg G Loss: 2.1688, Avg D Loss: 0.4721\n",
      "\n",
      "Epoch 18/400\n"
     ]
    },
    {
     "name": "stderr",
     "output_type": "stream",
     "text": [
      "\n",
      "poch 18: 100%|█████████████████████████████████████████| 729/729 [07:06<00:00,  1.71it/s, G_Loss=2.1850, D_Loss=0.4736]"
     ]
    },
    {
     "name": "stdout",
     "output_type": "stream",
     "text": [
      "Epoch 18 completed - Avg G Loss: 2.1850, Avg D Loss: 0.4736\n",
      "\n",
      "Epoch 19/400\n"
     ]
    },
    {
     "name": "stderr",
     "output_type": "stream",
     "text": [
      "\n",
      "poch 19: 100%|█████████████████████████████████████████| 729/729 [06:58<00:00,  1.74it/s, G_Loss=2.1819, D_Loss=0.4712]"
     ]
    },
    {
     "name": "stdout",
     "output_type": "stream",
     "text": [
      "Epoch 19 completed - Avg G Loss: 2.1819, Avg D Loss: 0.4712\n",
      "\n",
      "Epoch 20/400\n"
     ]
    },
    {
     "name": "stderr",
     "output_type": "stream",
     "text": [
      "\n",
      "poch 20: 100%|█████████████████████████████████████████| 729/729 [07:10<00:00,  1.69it/s, G_Loss=2.1452, D_Loss=0.4672]"
     ]
    },
    {
     "name": "stdout",
     "output_type": "stream",
     "text": [
      "Epoch 20 completed - Avg G Loss: 2.1452, Avg D Loss: 0.4672\n",
      "Saved sample images for epoch 20\n",
      "Saved comparison images for epoch 20\n",
      "\n",
      "Epoch 21/400\n"
     ]
    },
    {
     "name": "stderr",
     "output_type": "stream",
     "text": [
      "\n",
      "poch 21: 100%|█████████████████████████████████████████| 729/729 [07:09<00:00,  1.70it/s, G_Loss=2.1621, D_Loss=0.4642]"
     ]
    },
    {
     "name": "stdout",
     "output_type": "stream",
     "text": [
      "Epoch 21 completed - Avg G Loss: 2.1621, Avg D Loss: 0.4642\n",
      "\n",
      "Epoch 22/400\n"
     ]
    },
    {
     "name": "stderr",
     "output_type": "stream",
     "text": [
      "\n",
      "poch 22: 100%|█████████████████████████████████████████| 729/729 [07:13<00:00,  1.68it/s, G_Loss=2.1563, D_Loss=0.4619]"
     ]
    },
    {
     "name": "stdout",
     "output_type": "stream",
     "text": [
      "Epoch 22 completed - Avg G Loss: 2.1563, Avg D Loss: 0.4619\n",
      "\n",
      "Epoch 23/400\n"
     ]
    },
    {
     "name": "stderr",
     "output_type": "stream",
     "text": [
      "\n",
      "poch 23: 100%|█████████████████████████████████████████| 729/729 [07:12<00:00,  1.69it/s, G_Loss=2.1341, D_Loss=0.4623]"
     ]
    },
    {
     "name": "stdout",
     "output_type": "stream",
     "text": [
      "Epoch 23 completed - Avg G Loss: 2.1341, Avg D Loss: 0.4623\n",
      "\n",
      "Epoch 24/400\n"
     ]
    },
    {
     "name": "stderr",
     "output_type": "stream",
     "text": [
      "\n",
      "poch 24: 100%|█████████████████████████████████████████| 729/729 [07:11<00:00,  1.69it/s, G_Loss=2.0970, D_Loss=0.4576]"
     ]
    },
    {
     "name": "stdout",
     "output_type": "stream",
     "text": [
      "Epoch 24 completed - Avg G Loss: 2.0970, Avg D Loss: 0.4576\n",
      "\n",
      "Epoch 25/400\n"
     ]
    },
    {
     "name": "stderr",
     "output_type": "stream",
     "text": [
      "\n",
      "poch 25: 100%|█████████████████████████████████████████| 729/729 [07:15<00:00,  1.68it/s, G_Loss=2.1115, D_Loss=0.4558]"
     ]
    },
    {
     "name": "stdout",
     "output_type": "stream",
     "text": [
      "Epoch 25 completed - Avg G Loss: 2.1115, Avg D Loss: 0.4558\n",
      "Saved sample images for epoch 25\n",
      "\n",
      "Epoch 26/400\n"
     ]
    },
    {
     "name": "stderr",
     "output_type": "stream",
     "text": [
      "\n",
      "poch 26: 100%|█████████████████████████████████████████| 729/729 [07:13<00:00,  1.68it/s, G_Loss=2.0994, D_Loss=0.4562]"
     ]
    },
    {
     "name": "stdout",
     "output_type": "stream",
     "text": [
      "Epoch 26 completed - Avg G Loss: 2.0994, Avg D Loss: 0.4562\n",
      "\n",
      "Epoch 27/400\n"
     ]
    },
    {
     "name": "stderr",
     "output_type": "stream",
     "text": [
      "\n",
      "poch 27: 100%|█████████████████████████████████████████| 729/729 [07:08<00:00,  1.70it/s, G_Loss=2.0838, D_Loss=0.4550]"
     ]
    },
    {
     "name": "stdout",
     "output_type": "stream",
     "text": [
      "Epoch 27 completed - Avg G Loss: 2.0838, Avg D Loss: 0.4550\n",
      "\n",
      "Epoch 28/400\n"
     ]
    },
    {
     "name": "stderr",
     "output_type": "stream",
     "text": [
      "\n",
      "poch 28: 100%|█████████████████████████████████████████| 729/729 [07:07<00:00,  1.71it/s, G_Loss=2.1013, D_Loss=0.4516]"
     ]
    },
    {
     "name": "stdout",
     "output_type": "stream",
     "text": [
      "Epoch 28 completed - Avg G Loss: 2.1013, Avg D Loss: 0.4516\n",
      "\n",
      "Epoch 29/400\n"
     ]
    },
    {
     "name": "stderr",
     "output_type": "stream",
     "text": [
      "\n",
      "poch 29: 100%|█████████████████████████████████████████| 729/729 [07:06<00:00,  1.71it/s, G_Loss=2.0860, D_Loss=0.4518]"
     ]
    },
    {
     "name": "stdout",
     "output_type": "stream",
     "text": [
      "Epoch 29 completed - Avg G Loss: 2.0860, Avg D Loss: 0.4518\n",
      "\n",
      "Epoch 30/400\n"
     ]
    },
    {
     "name": "stderr",
     "output_type": "stream",
     "text": [
      "\n",
      "poch 30: 100%|█████████████████████████████████████████| 729/729 [07:07<00:00,  1.70it/s, G_Loss=2.0788, D_Loss=0.4493]"
     ]
    },
    {
     "name": "stdout",
     "output_type": "stream",
     "text": [
      "Epoch 30 completed - Avg G Loss: 2.0788, Avg D Loss: 0.4493\n",
      "Saved sample images for epoch 30\n",
      "Saved comparison images for epoch 30\n",
      "Models saved at epoch 30\n",
      "\n",
      "Epoch 31/400\n"
     ]
    },
    {
     "name": "stderr",
     "output_type": "stream",
     "text": [
      "\n",
      "poch 31: 100%|█████████████████████████████████████████| 729/729 [06:45<00:00,  1.80it/s, G_Loss=2.0744, D_Loss=0.4482]"
     ]
    },
    {
     "name": "stdout",
     "output_type": "stream",
     "text": [
      "Epoch 31 completed - Avg G Loss: 2.0744, Avg D Loss: 0.4482\n",
      "\n",
      "Epoch 32/400\n"
     ]
    },
    {
     "name": "stderr",
     "output_type": "stream",
     "text": [
      "\n",
      "poch 32: 100%|█████████████████████████████████████████| 729/729 [06:43<00:00,  1.81it/s, G_Loss=2.0981, D_Loss=0.4487]"
     ]
    },
    {
     "name": "stdout",
     "output_type": "stream",
     "text": [
      "Epoch 32 completed - Avg G Loss: 2.0981, Avg D Loss: 0.4487\n",
      "\n",
      "Epoch 33/400\n"
     ]
    },
    {
     "name": "stderr",
     "output_type": "stream",
     "text": [
      "\n",
      "poch 33: 100%|█████████████████████████████████████████| 729/729 [06:49<00:00,  1.78it/s, G_Loss=2.0661, D_Loss=0.4420]"
     ]
    },
    {
     "name": "stdout",
     "output_type": "stream",
     "text": [
      "Epoch 33 completed - Avg G Loss: 2.0661, Avg D Loss: 0.4420\n",
      "\n",
      "Epoch 34/400\n"
     ]
    },
    {
     "name": "stderr",
     "output_type": "stream",
     "text": [
      "\n",
      "poch 34: 100%|█████████████████████████████████████████| 729/729 [06:48<00:00,  1.78it/s, G_Loss=2.0695, D_Loss=0.4461]"
     ]
    },
    {
     "name": "stdout",
     "output_type": "stream",
     "text": [
      "Epoch 34 completed - Avg G Loss: 2.0695, Avg D Loss: 0.4461\n",
      "\n",
      "Epoch 35/400\n"
     ]
    },
    {
     "name": "stderr",
     "output_type": "stream",
     "text": [
      "\n",
      "poch 35: 100%|█████████████████████████████████████████| 729/729 [06:51<00:00,  1.77it/s, G_Loss=2.0294, D_Loss=0.4452]"
     ]
    },
    {
     "name": "stdout",
     "output_type": "stream",
     "text": [
      "Epoch 35 completed - Avg G Loss: 2.0294, Avg D Loss: 0.4452\n",
      "Saved sample images for epoch 35\n",
      "\n",
      "Epoch 36/400\n"
     ]
    },
    {
     "name": "stderr",
     "output_type": "stream",
     "text": [
      "\n",
      "poch 36: 100%|█████████████████████████████████████████| 729/729 [06:43<00:00,  1.81it/s, G_Loss=2.0595, D_Loss=0.4441]"
     ]
    },
    {
     "name": "stdout",
     "output_type": "stream",
     "text": [
      "Epoch 36 completed - Avg G Loss: 2.0595, Avg D Loss: 0.4441\n",
      "\n",
      "Epoch 37/400\n"
     ]
    },
    {
     "name": "stderr",
     "output_type": "stream",
     "text": [
      "\n",
      "poch 37: 100%|█████████████████████████████████████████| 729/729 [06:47<00:00,  1.79it/s, G_Loss=2.0546, D_Loss=0.4437]"
     ]
    },
    {
     "name": "stdout",
     "output_type": "stream",
     "text": [
      "Epoch 37 completed - Avg G Loss: 2.0546, Avg D Loss: 0.4437\n",
      "\n",
      "Epoch 38/400\n"
     ]
    },
    {
     "name": "stderr",
     "output_type": "stream",
     "text": [
      "\n",
      "poch 38: 100%|█████████████████████████████████████████| 729/729 [06:46<00:00,  1.79it/s, G_Loss=2.0433, D_Loss=0.4416]"
     ]
    },
    {
     "name": "stdout",
     "output_type": "stream",
     "text": [
      "Epoch 38 completed - Avg G Loss: 2.0433, Avg D Loss: 0.4416\n",
      "\n",
      "Epoch 39/400\n"
     ]
    },
    {
     "name": "stderr",
     "output_type": "stream",
     "text": [
      "\n",
      "poch 39: 100%|█████████████████████████████████████████| 729/729 [06:41<00:00,  1.82it/s, G_Loss=2.0249, D_Loss=0.4414]"
     ]
    },
    {
     "name": "stdout",
     "output_type": "stream",
     "text": [
      "Epoch 39 completed - Avg G Loss: 2.0249, Avg D Loss: 0.4414\n",
      "\n",
      "Epoch 40/400\n"
     ]
    },
    {
     "name": "stderr",
     "output_type": "stream",
     "text": [
      "\n",
      "poch 40: 100%|█████████████████████████████████████████| 729/729 [06:46<00:00,  1.79it/s, G_Loss=2.0422, D_Loss=0.4402]"
     ]
    },
    {
     "name": "stdout",
     "output_type": "stream",
     "text": [
      "Epoch 40 completed - Avg G Loss: 2.0422, Avg D Loss: 0.4402\n",
      "Saved sample images for epoch 40\n",
      "Saved comparison images for epoch 40\n",
      "\n",
      "Epoch 41/400\n"
     ]
    },
    {
     "name": "stderr",
     "output_type": "stream",
     "text": [
      "\n",
      "poch 41: 100%|█████████████████████████████████████████| 729/729 [06:45<00:00,  1.80it/s, G_Loss=2.0391, D_Loss=0.4387]"
     ]
    },
    {
     "name": "stdout",
     "output_type": "stream",
     "text": [
      "Epoch 41 completed - Avg G Loss: 2.0391, Avg D Loss: 0.4387\n",
      "\n",
      "Epoch 42/400\n"
     ]
    },
    {
     "name": "stderr",
     "output_type": "stream",
     "text": [
      "\n",
      "poch 42: 100%|█████████████████████████████████████████| 729/729 [06:44<00:00,  1.80it/s, G_Loss=2.0481, D_Loss=0.4375]"
     ]
    },
    {
     "name": "stdout",
     "output_type": "stream",
     "text": [
      "Epoch 42 completed - Avg G Loss: 2.0481, Avg D Loss: 0.4375\n",
      "\n",
      "Epoch 43/400\n"
     ]
    },
    {
     "name": "stderr",
     "output_type": "stream",
     "text": [
      "\n",
      "poch 43: 100%|█████████████████████████████████████████| 729/729 [06:46<00:00,  1.79it/s, G_Loss=2.0385, D_Loss=0.4390]"
     ]
    },
    {
     "name": "stdout",
     "output_type": "stream",
     "text": [
      "Epoch 43 completed - Avg G Loss: 2.0385, Avg D Loss: 0.4390\n",
      "\n",
      "Epoch 44/400\n"
     ]
    },
    {
     "name": "stderr",
     "output_type": "stream",
     "text": [
      "\n",
      "poch 44: 100%|█████████████████████████████████████████| 729/729 [06:43<00:00,  1.81it/s, G_Loss=2.0326, D_Loss=0.4383]"
     ]
    },
    {
     "name": "stdout",
     "output_type": "stream",
     "text": [
      "Epoch 44 completed - Avg G Loss: 2.0326, Avg D Loss: 0.4383\n",
      "\n",
      "Epoch 45/400\n"
     ]
    },
    {
     "name": "stderr",
     "output_type": "stream",
     "text": [
      "\n",
      "poch 45: 100%|█████████████████████████████████████████| 729/729 [06:47<00:00,  1.79it/s, G_Loss=2.0255, D_Loss=0.4353]"
     ]
    },
    {
     "name": "stdout",
     "output_type": "stream",
     "text": [
      "Epoch 45 completed - Avg G Loss: 2.0255, Avg D Loss: 0.4353\n",
      "Saved sample images for epoch 45\n",
      "\n",
      "Epoch 46/400\n"
     ]
    },
    {
     "name": "stderr",
     "output_type": "stream",
     "text": [
      "\n",
      "poch 46: 100%|█████████████████████████████████████████| 729/729 [06:43<00:00,  1.81it/s, G_Loss=2.0270, D_Loss=0.4363]"
     ]
    },
    {
     "name": "stdout",
     "output_type": "stream",
     "text": [
      "Epoch 46 completed - Avg G Loss: 2.0270, Avg D Loss: 0.4363\n",
      "\n",
      "Epoch 47/400\n"
     ]
    },
    {
     "name": "stderr",
     "output_type": "stream",
     "text": [
      "\n",
      "poch 47: 100%|█████████████████████████████████████████| 729/729 [06:42<00:00,  1.81it/s, G_Loss=2.0072, D_Loss=0.4372]"
     ]
    },
    {
     "name": "stdout",
     "output_type": "stream",
     "text": [
      "Epoch 47 completed - Avg G Loss: 2.0072, Avg D Loss: 0.4372\n",
      "\n",
      "Epoch 48/400\n"
     ]
    },
    {
     "name": "stderr",
     "output_type": "stream",
     "text": [
      "\n",
      "poch 48: 100%|█████████████████████████████████████████| 729/729 [06:42<00:00,  1.81it/s, G_Loss=2.0276, D_Loss=0.4338]"
     ]
    },
    {
     "name": "stdout",
     "output_type": "stream",
     "text": [
      "Epoch 48 completed - Avg G Loss: 2.0276, Avg D Loss: 0.4338\n",
      "\n",
      "Epoch 49/400\n"
     ]
    },
    {
     "name": "stderr",
     "output_type": "stream",
     "text": [
      "\n",
      "poch 49: 100%|█████████████████████████████████████████| 729/729 [06:41<00:00,  1.81it/s, G_Loss=2.0167, D_Loss=0.4342]"
     ]
    },
    {
     "name": "stdout",
     "output_type": "stream",
     "text": [
      "Epoch 49 completed - Avg G Loss: 2.0167, Avg D Loss: 0.4342\n",
      "\n",
      "Epoch 50/400\n"
     ]
    },
    {
     "name": "stderr",
     "output_type": "stream",
     "text": [
      "\n",
      "poch 50: 100%|█████████████████████████████████████████| 729/729 [06:42<00:00,  1.81it/s, G_Loss=2.0147, D_Loss=0.4347]"
     ]
    },
    {
     "name": "stdout",
     "output_type": "stream",
     "text": [
      "Epoch 50 completed - Avg G Loss: 2.0147, Avg D Loss: 0.4347\n",
      "Saved sample images for epoch 50\n",
      "Saved comparison images for epoch 50\n",
      "\n",
      "Epoch 51/400\n"
     ]
    },
    {
     "name": "stderr",
     "output_type": "stream",
     "text": [
      "\n",
      "poch 51: 100%|█████████████████████████████████████████| 729/729 [06:46<00:00,  1.79it/s, G_Loss=2.0040, D_Loss=0.4345]"
     ]
    },
    {
     "name": "stdout",
     "output_type": "stream",
     "text": [
      "Epoch 51 completed - Avg G Loss: 2.0040, Avg D Loss: 0.4345\n",
      "\n",
      "Epoch 52/400\n"
     ]
    },
    {
     "name": "stderr",
     "output_type": "stream",
     "text": [
      "\n",
      "poch 52: 100%|█████████████████████████████████████████| 729/729 [06:42<00:00,  1.81it/s, G_Loss=1.9942, D_Loss=0.4335]"
     ]
    },
    {
     "name": "stdout",
     "output_type": "stream",
     "text": [
      "Epoch 52 completed - Avg G Loss: 1.9942, Avg D Loss: 0.4335\n",
      "\n",
      "Epoch 53/400\n"
     ]
    },
    {
     "name": "stderr",
     "output_type": "stream",
     "text": [
      "\n",
      "poch 53: 100%|█████████████████████████████████████████| 729/729 [06:40<00:00,  1.82it/s, G_Loss=1.9834, D_Loss=0.4326]"
     ]
    },
    {
     "name": "stdout",
     "output_type": "stream",
     "text": [
      "Epoch 53 completed - Avg G Loss: 1.9834, Avg D Loss: 0.4326\n",
      "\n",
      "Epoch 54/400\n"
     ]
    },
    {
     "name": "stderr",
     "output_type": "stream",
     "text": [
      "\n",
      "poch 54: 100%|█████████████████████████████████████████| 729/729 [07:07<00:00,  1.71it/s, G_Loss=2.0102, D_Loss=0.4339]"
     ]
    },
    {
     "name": "stdout",
     "output_type": "stream",
     "text": [
      "Epoch 54 completed - Avg G Loss: 2.0102, Avg D Loss: 0.4339\n",
      "\n",
      "Epoch 55/400\n"
     ]
    },
    {
     "name": "stderr",
     "output_type": "stream",
     "text": [
      "\n",
      "poch 55: 100%|█████████████████████████████████████████| 729/729 [06:47<00:00,  1.79it/s, G_Loss=2.0108, D_Loss=0.4331]"
     ]
    },
    {
     "name": "stdout",
     "output_type": "stream",
     "text": [
      "Epoch 55 completed - Avg G Loss: 2.0108, Avg D Loss: 0.4331\n",
      "Saved sample images for epoch 55\n",
      "\n",
      "Epoch 56/400\n"
     ]
    },
    {
     "name": "stderr",
     "output_type": "stream",
     "text": [
      "\n",
      "poch 56: 100%|█████████████████████████████████████████| 729/729 [06:52<00:00,  1.77it/s, G_Loss=1.9872, D_Loss=0.4309]"
     ]
    },
    {
     "name": "stdout",
     "output_type": "stream",
     "text": [
      "Epoch 56 completed - Avg G Loss: 1.9872, Avg D Loss: 0.4309\n",
      "\n",
      "Epoch 57/400\n"
     ]
    },
    {
     "name": "stderr",
     "output_type": "stream",
     "text": [
      "\n",
      "poch 57: 100%|█████████████████████████████████████████| 729/729 [06:49<00:00,  1.78it/s, G_Loss=1.9958, D_Loss=0.4305]"
     ]
    },
    {
     "name": "stdout",
     "output_type": "stream",
     "text": [
      "Epoch 57 completed - Avg G Loss: 1.9958, Avg D Loss: 0.4305\n",
      "\n",
      "Epoch 58/400\n"
     ]
    },
    {
     "name": "stderr",
     "output_type": "stream",
     "text": [
      "\n",
      "poch 58: 100%|█████████████████████████████████████████| 729/729 [06:30<00:00,  1.87it/s, G_Loss=2.0095, D_Loss=0.4309]"
     ]
    },
    {
     "name": "stdout",
     "output_type": "stream",
     "text": [
      "Epoch 58 completed - Avg G Loss: 2.0095, Avg D Loss: 0.4309\n",
      "\n",
      "Epoch 59/400\n"
     ]
    },
    {
     "name": "stderr",
     "output_type": "stream",
     "text": [
      "\n",
      "poch 59: 100%|█████████████████████████████████████████| 729/729 [06:15<00:00,  1.94it/s, G_Loss=1.9907, D_Loss=0.4304]"
     ]
    },
    {
     "name": "stdout",
     "output_type": "stream",
     "text": [
      "Epoch 59 completed - Avg G Loss: 1.9907, Avg D Loss: 0.4304\n",
      "\n",
      "Epoch 60/400\n"
     ]
    },
    {
     "name": "stderr",
     "output_type": "stream",
     "text": [
      "\n",
      "poch 60: 100%|█████████████████████████████████████████| 729/729 [06:24<00:00,  1.90it/s, G_Loss=1.9914, D_Loss=0.4304]"
     ]
    },
    {
     "name": "stdout",
     "output_type": "stream",
     "text": [
      "Epoch 60 completed - Avg G Loss: 1.9914, Avg D Loss: 0.4304\n",
      "Saved sample images for epoch 60\n",
      "Saved comparison images for epoch 60\n",
      "Models saved at epoch 60\n",
      "\n",
      "Epoch 61/400\n"
     ]
    },
    {
     "name": "stderr",
     "output_type": "stream",
     "text": [
      "\n",
      "poch 61: 100%|█████████████████████████████████████████| 729/729 [07:39<00:00,  1.59it/s, G_Loss=1.9936, D_Loss=0.4282]"
     ]
    },
    {
     "name": "stdout",
     "output_type": "stream",
     "text": [
      "Epoch 61 completed - Avg G Loss: 1.9936, Avg D Loss: 0.4282\n",
      "\n",
      "Epoch 62/400\n"
     ]
    },
    {
     "name": "stderr",
     "output_type": "stream",
     "text": [
      "\n",
      "poch 62: 100%|█████████████████████████████████████████| 729/729 [06:20<00:00,  1.92it/s, G_Loss=1.9941, D_Loss=0.4287]"
     ]
    },
    {
     "name": "stdout",
     "output_type": "stream",
     "text": [
      "Epoch 62 completed - Avg G Loss: 1.9941, Avg D Loss: 0.4287\n",
      "\n",
      "Epoch 63/400\n"
     ]
    },
    {
     "name": "stderr",
     "output_type": "stream",
     "text": [
      "\n",
      "poch 63: 100%|█████████████████████████████████████████| 729/729 [06:46<00:00,  1.79it/s, G_Loss=1.9816, D_Loss=0.4285]"
     ]
    },
    {
     "name": "stdout",
     "output_type": "stream",
     "text": [
      "Epoch 63 completed - Avg G Loss: 1.9816, Avg D Loss: 0.4285\n",
      "\n",
      "Epoch 64/400\n"
     ]
    },
    {
     "name": "stderr",
     "output_type": "stream",
     "text": [
      "\n",
      "poch 64: 100%|█████████████████████████████████████████| 729/729 [07:12<00:00,  1.68it/s, G_Loss=1.9959, D_Loss=0.4277]"
     ]
    },
    {
     "name": "stdout",
     "output_type": "stream",
     "text": [
      "Epoch 64 completed - Avg G Loss: 1.9959, Avg D Loss: 0.4277\n",
      "\n",
      "Epoch 65/400\n"
     ]
    },
    {
     "name": "stderr",
     "output_type": "stream",
     "text": [
      "\n",
      "poch 65: 100%|█████████████████████████████████████████| 729/729 [07:12<00:00,  1.69it/s, G_Loss=1.9923, D_Loss=0.4260]"
     ]
    },
    {
     "name": "stdout",
     "output_type": "stream",
     "text": [
      "Epoch 65 completed - Avg G Loss: 1.9923, Avg D Loss: 0.4260\n",
      "Saved sample images for epoch 65\n",
      "\n",
      "Epoch 66/400\n"
     ]
    },
    {
     "name": "stderr",
     "output_type": "stream",
     "text": [
      "\n",
      "poch 66: 100%|█████████████████████████████████████████| 729/729 [07:10<00:00,  1.69it/s, G_Loss=2.0010, D_Loss=0.4274]"
     ]
    },
    {
     "name": "stdout",
     "output_type": "stream",
     "text": [
      "Epoch 66 completed - Avg G Loss: 2.0010, Avg D Loss: 0.4274\n",
      "\n",
      "Epoch 67/400\n"
     ]
    },
    {
     "name": "stderr",
     "output_type": "stream",
     "text": [
      "\n",
      "poch 67: 100%|█████████████████████████████████████████| 729/729 [07:18<00:00,  1.66it/s, G_Loss=1.9799, D_Loss=0.4272]"
     ]
    },
    {
     "name": "stdout",
     "output_type": "stream",
     "text": [
      "Epoch 67 completed - Avg G Loss: 1.9799, Avg D Loss: 0.4272\n",
      "\n",
      "Epoch 68/400\n"
     ]
    },
    {
     "name": "stderr",
     "output_type": "stream",
     "text": [
      "\n",
      "poch 68: 100%|█████████████████████████████████████████| 729/729 [06:51<00:00,  1.77it/s, G_Loss=1.9896, D_Loss=0.4250]"
     ]
    },
    {
     "name": "stdout",
     "output_type": "stream",
     "text": [
      "Epoch 68 completed - Avg G Loss: 1.9896, Avg D Loss: 0.4250\n",
      "\n",
      "Epoch 69/400\n"
     ]
    },
    {
     "name": "stderr",
     "output_type": "stream",
     "text": [
      "\n",
      "poch 69: 100%|█████████████████████████████████████████| 729/729 [06:51<00:00,  1.77it/s, G_Loss=1.9633, D_Loss=0.4269]"
     ]
    },
    {
     "name": "stdout",
     "output_type": "stream",
     "text": [
      "Epoch 69 completed - Avg G Loss: 1.9633, Avg D Loss: 0.4269\n",
      "\n",
      "Epoch 70/400\n"
     ]
    },
    {
     "name": "stderr",
     "output_type": "stream",
     "text": [
      "\n",
      "poch 70: 100%|█████████████████████████████████████████| 729/729 [06:48<00:00,  1.79it/s, G_Loss=1.9894, D_Loss=0.4267]"
     ]
    },
    {
     "name": "stdout",
     "output_type": "stream",
     "text": [
      "Epoch 70 completed - Avg G Loss: 1.9894, Avg D Loss: 0.4267\n",
      "Saved sample images for epoch 70\n",
      "Saved comparison images for epoch 70\n",
      "\n",
      "Epoch 71/400\n"
     ]
    },
    {
     "name": "stderr",
     "output_type": "stream",
     "text": [
      "\n",
      "poch 71: 100%|█████████████████████████████████████████| 729/729 [06:43<00:00,  1.81it/s, G_Loss=1.9790, D_Loss=0.4266]"
     ]
    },
    {
     "name": "stdout",
     "output_type": "stream",
     "text": [
      "Epoch 71 completed - Avg G Loss: 1.9790, Avg D Loss: 0.4266\n",
      "\n",
      "Epoch 72/400\n"
     ]
    },
    {
     "name": "stderr",
     "output_type": "stream",
     "text": [
      "\n",
      "poch 72: 100%|█████████████████████████████████████████| 729/729 [06:49<00:00,  1.78it/s, G_Loss=1.9951, D_Loss=0.4253]"
     ]
    },
    {
     "name": "stdout",
     "output_type": "stream",
     "text": [
      "Epoch 72 completed - Avg G Loss: 1.9951, Avg D Loss: 0.4253\n",
      "\n",
      "Epoch 73/400\n"
     ]
    },
    {
     "name": "stderr",
     "output_type": "stream",
     "text": [
      "\n",
      "poch 73: 100%|█████████████████████████████████████████| 729/729 [06:27<00:00,  1.88it/s, G_Loss=1.9677, D_Loss=0.4271]"
     ]
    },
    {
     "name": "stdout",
     "output_type": "stream",
     "text": [
      "Epoch 73 completed - Avg G Loss: 1.9677, Avg D Loss: 0.4271\n",
      "\n",
      "Epoch 74/400\n"
     ]
    },
    {
     "name": "stderr",
     "output_type": "stream",
     "text": [
      "\n",
      "poch 74: 100%|█████████████████████████████████████████| 729/729 [06:32<00:00,  1.86it/s, G_Loss=1.9731, D_Loss=0.4244]"
     ]
    },
    {
     "name": "stdout",
     "output_type": "stream",
     "text": [
      "Epoch 74 completed - Avg G Loss: 1.9731, Avg D Loss: 0.4244\n",
      "\n",
      "Epoch 75/400\n"
     ]
    },
    {
     "name": "stderr",
     "output_type": "stream",
     "text": [
      "\n",
      "poch 75: 100%|█████████████████████████████████████████| 729/729 [06:40<00:00,  1.82it/s, G_Loss=1.9766, D_Loss=0.4237]"
     ]
    },
    {
     "name": "stdout",
     "output_type": "stream",
     "text": [
      "Epoch 75 completed - Avg G Loss: 1.9766, Avg D Loss: 0.4237\n",
      "Saved sample images for epoch 75\n",
      "\n",
      "Epoch 76/400\n"
     ]
    },
    {
     "name": "stderr",
     "output_type": "stream",
     "text": [
      "\n",
      "poch 76: 100%|█████████████████████████████████████████| 729/729 [06:34<00:00,  1.85it/s, G_Loss=1.9586, D_Loss=0.4252]"
     ]
    },
    {
     "name": "stdout",
     "output_type": "stream",
     "text": [
      "Epoch 76 completed - Avg G Loss: 1.9586, Avg D Loss: 0.4252\n",
      "\n",
      "Epoch 77/400\n"
     ]
    },
    {
     "name": "stderr",
     "output_type": "stream",
     "text": [
      "\n",
      "poch 77: 100%|█████████████████████████████████████████| 729/729 [06:30<00:00,  1.87it/s, G_Loss=1.9587, D_Loss=0.4240]"
     ]
    },
    {
     "name": "stdout",
     "output_type": "stream",
     "text": [
      "Epoch 77 completed - Avg G Loss: 1.9587, Avg D Loss: 0.4240\n",
      "\n",
      "Epoch 78/400\n"
     ]
    },
    {
     "name": "stderr",
     "output_type": "stream",
     "text": [
      "\n",
      "poch 78: 100%|█████████████████████████████████████████| 729/729 [06:16<00:00,  1.94it/s, G_Loss=1.9886, D_Loss=0.4235]"
     ]
    },
    {
     "name": "stdout",
     "output_type": "stream",
     "text": [
      "Epoch 78 completed - Avg G Loss: 1.9886, Avg D Loss: 0.4235\n",
      "\n",
      "Epoch 79/400\n"
     ]
    },
    {
     "name": "stderr",
     "output_type": "stream",
     "text": [
      "\n",
      "poch 79: 100%|█████████████████████████████████████████| 729/729 [06:30<00:00,  1.87it/s, G_Loss=1.9868, D_Loss=0.4210]"
     ]
    },
    {
     "name": "stdout",
     "output_type": "stream",
     "text": [
      "Epoch 79 completed - Avg G Loss: 1.9868, Avg D Loss: 0.4210\n",
      "\n",
      "Epoch 80/400\n"
     ]
    },
    {
     "name": "stderr",
     "output_type": "stream",
     "text": [
      "\n",
      "poch 80: 100%|█████████████████████████████████████████| 729/729 [06:29<00:00,  1.87it/s, G_Loss=1.9677, D_Loss=0.4212]"
     ]
    },
    {
     "name": "stdout",
     "output_type": "stream",
     "text": [
      "Epoch 80 completed - Avg G Loss: 1.9677, Avg D Loss: 0.4212\n",
      "Saved sample images for epoch 80\n",
      "Saved comparison images for epoch 80\n",
      "\n",
      "Epoch 81/400\n"
     ]
    },
    {
     "name": "stderr",
     "output_type": "stream",
     "text": [
      "\n",
      "poch 81: 100%|█████████████████████████████████████████| 729/729 [06:22<00:00,  1.90it/s, G_Loss=1.9697, D_Loss=0.4247]"
     ]
    },
    {
     "name": "stdout",
     "output_type": "stream",
     "text": [
      "Epoch 81 completed - Avg G Loss: 1.9697, Avg D Loss: 0.4247\n",
      "\n",
      "Epoch 82/400\n"
     ]
    },
    {
     "name": "stderr",
     "output_type": "stream",
     "text": [
      "\n",
      "poch 82: 100%|█████████████████████████████████████████| 729/729 [06:25<00:00,  1.89it/s, G_Loss=1.9863, D_Loss=0.4247]"
     ]
    },
    {
     "name": "stdout",
     "output_type": "stream",
     "text": [
      "Epoch 82 completed - Avg G Loss: 1.9863, Avg D Loss: 0.4247\n",
      "\n",
      "Epoch 83/400\n"
     ]
    },
    {
     "name": "stderr",
     "output_type": "stream",
     "text": [
      "\n",
      "poch 83: 100%|█████████████████████████████████████████| 729/729 [06:20<00:00,  1.92it/s, G_Loss=1.9648, D_Loss=0.4236]"
     ]
    },
    {
     "name": "stdout",
     "output_type": "stream",
     "text": [
      "Epoch 83 completed - Avg G Loss: 1.9648, Avg D Loss: 0.4236\n",
      "\n",
      "Epoch 84/400\n"
     ]
    },
    {
     "name": "stderr",
     "output_type": "stream",
     "text": [
      "\n",
      "poch 84: 100%|█████████████████████████████████████████| 729/729 [06:26<00:00,  1.89it/s, G_Loss=1.9620, D_Loss=0.4230]"
     ]
    },
    {
     "name": "stdout",
     "output_type": "stream",
     "text": [
      "Epoch 84 completed - Avg G Loss: 1.9620, Avg D Loss: 0.4230\n",
      "\n",
      "Epoch 85/400\n"
     ]
    },
    {
     "name": "stderr",
     "output_type": "stream",
     "text": [
      "\n",
      "poch 85: 100%|█████████████████████████████████████████| 729/729 [06:14<00:00,  1.95it/s, G_Loss=1.9311, D_Loss=0.4233]"
     ]
    },
    {
     "name": "stdout",
     "output_type": "stream",
     "text": [
      "Epoch 85 completed - Avg G Loss: 1.9311, Avg D Loss: 0.4233\n",
      "Saved sample images for epoch 85\n",
      "\n",
      "Epoch 86/400\n"
     ]
    },
    {
     "name": "stderr",
     "output_type": "stream",
     "text": [
      "\n",
      "poch 86: 100%|█████████████████████████████████████████| 729/729 [06:26<00:00,  1.89it/s, G_Loss=1.9584, D_Loss=0.4222]"
     ]
    },
    {
     "name": "stdout",
     "output_type": "stream",
     "text": [
      "Epoch 86 completed - Avg G Loss: 1.9584, Avg D Loss: 0.4222\n",
      "\n",
      "Epoch 87/400\n"
     ]
    },
    {
     "name": "stderr",
     "output_type": "stream",
     "text": [
      "\n",
      "poch 87: 100%|█████████████████████████████████████████| 729/729 [06:43<00:00,  1.81it/s, G_Loss=1.9489, D_Loss=0.4222]"
     ]
    },
    {
     "name": "stdout",
     "output_type": "stream",
     "text": [
      "Epoch 87 completed - Avg G Loss: 1.9489, Avg D Loss: 0.4222\n",
      "\n",
      "Epoch 88/400\n"
     ]
    },
    {
     "name": "stderr",
     "output_type": "stream",
     "text": [
      "\n",
      "poch 88: 100%|█████████████████████████████████████████| 729/729 [06:30<00:00,  1.87it/s, G_Loss=1.9650, D_Loss=0.4213]"
     ]
    },
    {
     "name": "stdout",
     "output_type": "stream",
     "text": [
      "Epoch 88 completed - Avg G Loss: 1.9650, Avg D Loss: 0.4213\n",
      "\n",
      "Epoch 89/400\n"
     ]
    },
    {
     "name": "stderr",
     "output_type": "stream",
     "text": [
      "\n",
      "poch 89: 100%|█████████████████████████████████████████| 729/729 [06:16<00:00,  1.94it/s, G_Loss=1.9494, D_Loss=0.4202]"
     ]
    },
    {
     "name": "stdout",
     "output_type": "stream",
     "text": [
      "Epoch 89 completed - Avg G Loss: 1.9494, Avg D Loss: 0.4202\n",
      "\n",
      "Epoch 90/400\n"
     ]
    },
    {
     "name": "stderr",
     "output_type": "stream",
     "text": [
      "\n",
      "poch 90: 100%|█████████████████████████████████████████| 729/729 [06:20<00:00,  1.92it/s, G_Loss=1.9716, D_Loss=0.4148]"
     ]
    },
    {
     "name": "stdout",
     "output_type": "stream",
     "text": [
      "Epoch 90 completed - Avg G Loss: 1.9716, Avg D Loss: 0.4148\n",
      "Saved sample images for epoch 90\n",
      "Saved comparison images for epoch 90\n",
      "Models saved at epoch 90\n",
      "\n",
      "Epoch 91/400\n"
     ]
    },
    {
     "name": "stderr",
     "output_type": "stream",
     "text": [
      "\n",
      "poch 91: 100%|█████████████████████████████████████████| 729/729 [06:30<00:00,  1.86it/s, G_Loss=2.0036, D_Loss=0.4161]"
     ]
    },
    {
     "name": "stdout",
     "output_type": "stream",
     "text": [
      "Epoch 91 completed - Avg G Loss: 2.0036, Avg D Loss: 0.4161\n",
      "\n",
      "Epoch 92/400\n"
     ]
    },
    {
     "name": "stderr",
     "output_type": "stream",
     "text": [
      "\n",
      "poch 92: 100%|█████████████████████████████████████████| 729/729 [06:24<00:00,  1.90it/s, G_Loss=1.9941, D_Loss=0.4156]"
     ]
    },
    {
     "name": "stdout",
     "output_type": "stream",
     "text": [
      "Epoch 92 completed - Avg G Loss: 1.9941, Avg D Loss: 0.4156\n",
      "\n",
      "Epoch 93/400\n"
     ]
    },
    {
     "name": "stderr",
     "output_type": "stream",
     "text": [
      "\n",
      "poch 93: 100%|█████████████████████████████████████████| 729/729 [06:23<00:00,  1.90it/s, G_Loss=1.9974, D_Loss=0.4169]"
     ]
    },
    {
     "name": "stdout",
     "output_type": "stream",
     "text": [
      "Epoch 93 completed - Avg G Loss: 1.9974, Avg D Loss: 0.4169\n",
      "\n",
      "Epoch 94/400\n"
     ]
    },
    {
     "name": "stderr",
     "output_type": "stream",
     "text": [
      "\n",
      "poch 94: 100%|█████████████████████████████████████████| 729/729 [06:29<00:00,  1.87it/s, G_Loss=2.0105, D_Loss=0.4177]"
     ]
    },
    {
     "name": "stdout",
     "output_type": "stream",
     "text": [
      "Epoch 94 completed - Avg G Loss: 2.0105, Avg D Loss: 0.4177\n",
      "\n",
      "Epoch 95/400\n"
     ]
    },
    {
     "name": "stderr",
     "output_type": "stream",
     "text": [
      "\n",
      "poch 95: 100%|█████████████████████████████████████████| 729/729 [06:43<00:00,  1.80it/s, G_Loss=2.0272, D_Loss=0.4176]"
     ]
    },
    {
     "name": "stdout",
     "output_type": "stream",
     "text": [
      "Epoch 95 completed - Avg G Loss: 2.0272, Avg D Loss: 0.4176\n",
      "Saved sample images for epoch 95\n",
      "\n",
      "Epoch 96/400\n"
     ]
    },
    {
     "name": "stderr",
     "output_type": "stream",
     "text": [
      "\n",
      "poch 96: 100%|█████████████████████████████████████████| 729/729 [06:56<00:00,  1.75it/s, G_Loss=2.0129, D_Loss=0.4176]"
     ]
    },
    {
     "name": "stdout",
     "output_type": "stream",
     "text": [
      "Epoch 96 completed - Avg G Loss: 2.0129, Avg D Loss: 0.4176\n",
      "\n",
      "Epoch 97/400\n"
     ]
    },
    {
     "name": "stderr",
     "output_type": "stream",
     "text": [
      "\n",
      "poch 97: 100%|█████████████████████████████████████████| 729/729 [06:23<00:00,  1.90it/s, G_Loss=2.0318, D_Loss=0.4181]"
     ]
    },
    {
     "name": "stdout",
     "output_type": "stream",
     "text": [
      "Epoch 97 completed - Avg G Loss: 2.0318, Avg D Loss: 0.4181\n",
      "\n",
      "Epoch 98/400\n"
     ]
    },
    {
     "name": "stderr",
     "output_type": "stream",
     "text": [
      "\n",
      "poch 98: 100%|█████████████████████████████████████████| 729/729 [06:25<00:00,  1.89it/s, G_Loss=2.0121, D_Loss=0.4175]"
     ]
    },
    {
     "name": "stdout",
     "output_type": "stream",
     "text": [
      "Epoch 98 completed - Avg G Loss: 2.0121, Avg D Loss: 0.4175\n",
      "\n",
      "Epoch 99/400\n"
     ]
    },
    {
     "name": "stderr",
     "output_type": "stream",
     "text": [
      "\n",
      "poch 99: 100%|█████████████████████████████████████████| 729/729 [06:15<00:00,  1.94it/s, G_Loss=2.0402, D_Loss=0.4189]"
     ]
    },
    {
     "name": "stdout",
     "output_type": "stream",
     "text": [
      "Epoch 99 completed - Avg G Loss: 2.0402, Avg D Loss: 0.4189\n",
      "\n",
      "Epoch 100/400\n"
     ]
    },
    {
     "name": "stderr",
     "output_type": "stream",
     "text": [
      "\n",
      "poch 100: 100%|████████████████████████████████████████| 729/729 [06:15<00:00,  1.94it/s, G_Loss=2.0338, D_Loss=0.4187]"
     ]
    },
    {
     "name": "stdout",
     "output_type": "stream",
     "text": [
      "Epoch 100 completed - Avg G Loss: 2.0338, Avg D Loss: 0.4187\n",
      "Saved sample images for epoch 100\n",
      "Saved comparison images for epoch 100\n",
      "\n",
      "Epoch 101/400\n"
     ]
    },
    {
     "name": "stderr",
     "output_type": "stream",
     "text": [
      "\n",
      "poch 101: 100%|████████████████████████████████████████| 729/729 [06:25<00:00,  1.89it/s, G_Loss=2.0057, D_Loss=0.4176]"
     ]
    },
    {
     "name": "stdout",
     "output_type": "stream",
     "text": [
      "Epoch 101 completed - Avg G Loss: 2.0057, Avg D Loss: 0.4176\n",
      "\n",
      "Epoch 102/400\n"
     ]
    },
    {
     "name": "stderr",
     "output_type": "stream",
     "text": [
      "\n",
      "poch 102: 100%|████████████████████████████████████████| 729/729 [06:31<00:00,  1.86it/s, G_Loss=2.0148, D_Loss=0.4160]"
     ]
    },
    {
     "name": "stdout",
     "output_type": "stream",
     "text": [
      "Epoch 102 completed - Avg G Loss: 2.0148, Avg D Loss: 0.4160\n",
      "\n",
      "Epoch 103/400\n"
     ]
    },
    {
     "name": "stderr",
     "output_type": "stream",
     "text": [
      "\n",
      "poch 103: 100%|████████████████████████████████████████| 729/729 [06:27<00:00,  1.88it/s, G_Loss=2.0264, D_Loss=0.4177]"
     ]
    },
    {
     "name": "stdout",
     "output_type": "stream",
     "text": [
      "Epoch 103 completed - Avg G Loss: 2.0264, Avg D Loss: 0.4177\n",
      "\n",
      "Epoch 104/400\n"
     ]
    },
    {
     "name": "stderr",
     "output_type": "stream",
     "text": [
      "\n",
      "poch 104: 100%|████████████████████████████████████████| 729/729 [06:09<00:00,  1.98it/s, G_Loss=2.0094, D_Loss=0.4164]"
     ]
    },
    {
     "name": "stdout",
     "output_type": "stream",
     "text": [
      "Epoch 104 completed - Avg G Loss: 2.0094, Avg D Loss: 0.4164\n",
      "\n",
      "Epoch 105/400\n"
     ]
    },
    {
     "name": "stderr",
     "output_type": "stream",
     "text": [
      "\n",
      "poch 105: 100%|████████████████████████████████████████| 729/729 [06:23<00:00,  1.90it/s, G_Loss=2.0045, D_Loss=0.4166]"
     ]
    },
    {
     "name": "stdout",
     "output_type": "stream",
     "text": [
      "Epoch 105 completed - Avg G Loss: 2.0045, Avg D Loss: 0.4166\n",
      "Saved sample images for epoch 105\n",
      "\n",
      "Epoch 106/400\n"
     ]
    },
    {
     "name": "stderr",
     "output_type": "stream",
     "text": [
      "\n",
      "poch 106: 100%|████████████████████████████████████████| 729/729 [06:17<00:00,  1.93it/s, G_Loss=2.0012, D_Loss=0.4168]"
     ]
    },
    {
     "name": "stdout",
     "output_type": "stream",
     "text": [
      "Epoch 106 completed - Avg G Loss: 2.0012, Avg D Loss: 0.4168\n",
      "\n",
      "Epoch 107/400\n"
     ]
    },
    {
     "name": "stderr",
     "output_type": "stream",
     "text": [
      "\n",
      "poch 107: 100%|████████████████████████████████████████| 729/729 [06:21<00:00,  1.91it/s, G_Loss=2.0004, D_Loss=0.4159]"
     ]
    },
    {
     "name": "stdout",
     "output_type": "stream",
     "text": [
      "Epoch 107 completed - Avg G Loss: 2.0004, Avg D Loss: 0.4159\n",
      "\n",
      "Epoch 108/400\n"
     ]
    },
    {
     "name": "stderr",
     "output_type": "stream",
     "text": [
      "\n",
      "poch 108: 100%|████████████████████████████████████████| 729/729 [06:21<00:00,  1.91it/s, G_Loss=2.0223, D_Loss=0.4162]"
     ]
    },
    {
     "name": "stdout",
     "output_type": "stream",
     "text": [
      "Epoch 108 completed - Avg G Loss: 2.0223, Avg D Loss: 0.4162\n",
      "\n",
      "Epoch 109/400\n"
     ]
    },
    {
     "name": "stderr",
     "output_type": "stream",
     "text": [
      "\n",
      "poch 109: 100%|████████████████████████████████████████| 729/729 [06:34<00:00,  1.85it/s, G_Loss=1.9844, D_Loss=0.4165]"
     ]
    },
    {
     "name": "stdout",
     "output_type": "stream",
     "text": [
      "Epoch 109 completed - Avg G Loss: 1.9844, Avg D Loss: 0.4165\n",
      "\n",
      "Epoch 110/400\n"
     ]
    },
    {
     "name": "stderr",
     "output_type": "stream",
     "text": [
      "\n",
      "poch 110: 100%|████████████████████████████████████████| 729/729 [06:30<00:00,  1.87it/s, G_Loss=1.9967, D_Loss=0.4157]"
     ]
    },
    {
     "name": "stdout",
     "output_type": "stream",
     "text": [
      "Epoch 110 completed - Avg G Loss: 1.9967, Avg D Loss: 0.4157\n",
      "Saved sample images for epoch 110\n",
      "Saved comparison images for epoch 110\n",
      "\n",
      "Epoch 111/400\n"
     ]
    },
    {
     "name": "stderr",
     "output_type": "stream",
     "text": [
      "\n",
      "poch 111: 100%|████████████████████████████████████████| 729/729 [06:17<00:00,  1.93it/s, G_Loss=1.9829, D_Loss=0.4158]"
     ]
    },
    {
     "name": "stdout",
     "output_type": "stream",
     "text": [
      "Epoch 111 completed - Avg G Loss: 1.9829, Avg D Loss: 0.4158\n",
      "\n",
      "Epoch 112/400\n"
     ]
    },
    {
     "name": "stderr",
     "output_type": "stream",
     "text": [
      "\n",
      "poch 112: 100%|████████████████████████████████████████| 729/729 [06:40<00:00,  1.82it/s, G_Loss=1.9941, D_Loss=0.4156]"
     ]
    },
    {
     "name": "stdout",
     "output_type": "stream",
     "text": [
      "Epoch 112 completed - Avg G Loss: 1.9941, Avg D Loss: 0.4156\n",
      "\n",
      "Epoch 113/400\n"
     ]
    },
    {
     "name": "stderr",
     "output_type": "stream",
     "text": [
      "\n",
      "poch 113: 100%|████████████████████████████████████████| 729/729 [06:55<00:00,  1.75it/s, G_Loss=2.0021, D_Loss=0.4163]"
     ]
    },
    {
     "name": "stdout",
     "output_type": "stream",
     "text": [
      "Epoch 113 completed - Avg G Loss: 2.0021, Avg D Loss: 0.4163\n",
      "\n",
      "Epoch 114/400\n"
     ]
    },
    {
     "name": "stderr",
     "output_type": "stream",
     "text": [
      "\n",
      "poch 114: 100%|████████████████████████████████████████| 729/729 [08:13<00:00,  1.48it/s, G_Loss=1.9715, D_Loss=0.4146]"
     ]
    },
    {
     "name": "stdout",
     "output_type": "stream",
     "text": [
      "Epoch 114 completed - Avg G Loss: 1.9715, Avg D Loss: 0.4146\n",
      "\n",
      "Epoch 115/400\n"
     ]
    },
    {
     "name": "stderr",
     "output_type": "stream",
     "text": [
      "\n",
      "poch 115: 100%|████████████████████████████████████████| 729/729 [13:16<00:00,  1.09s/it, G_Loss=1.9867, D_Loss=0.4161]"
     ]
    },
    {
     "name": "stdout",
     "output_type": "stream",
     "text": [
      "Epoch 115 completed - Avg G Loss: 1.9867, Avg D Loss: 0.4161\n",
      "Saved sample images for epoch 115\n",
      "\n",
      "Epoch 116/400\n"
     ]
    },
    {
     "name": "stderr",
     "output_type": "stream",
     "text": [
      "\n",
      "poch 116: 100%|████████████████████████████████████████| 729/729 [13:20<00:00,  1.10s/it, G_Loss=1.9691, D_Loss=0.4153]"
     ]
    },
    {
     "name": "stdout",
     "output_type": "stream",
     "text": [
      "Epoch 116 completed - Avg G Loss: 1.9691, Avg D Loss: 0.4153\n",
      "\n",
      "Epoch 117/400\n"
     ]
    },
    {
     "name": "stderr",
     "output_type": "stream",
     "text": [
      "\n",
      "poch 117: 100%|████████████████████████████████████████| 729/729 [14:46<00:00,  1.22s/it, G_Loss=1.9656, D_Loss=0.4160]"
     ]
    },
    {
     "name": "stdout",
     "output_type": "stream",
     "text": [
      "Epoch 117 completed - Avg G Loss: 1.9656, Avg D Loss: 0.4160\n",
      "\n",
      "Epoch 118/400\n"
     ]
    },
    {
     "name": "stderr",
     "output_type": "stream",
     "text": [
      "\n",
      "poch 118: 100%|████████████████████████████████████████| 729/729 [11:36<00:00,  1.05it/s, G_Loss=1.9650, D_Loss=0.4150]"
     ]
    },
    {
     "name": "stdout",
     "output_type": "stream",
     "text": [
      "Epoch 118 completed - Avg G Loss: 1.9650, Avg D Loss: 0.4150\n",
      "\n",
      "Epoch 119/400\n"
     ]
    },
    {
     "name": "stderr",
     "output_type": "stream",
     "text": [
      "\n",
      "poch 119: 100%|████████████████████████████████████████| 729/729 [11:59<00:00,  1.01it/s, G_Loss=1.9792, D_Loss=0.4148]"
     ]
    },
    {
     "name": "stdout",
     "output_type": "stream",
     "text": [
      "Epoch 119 completed - Avg G Loss: 1.9792, Avg D Loss: 0.4148\n",
      "\n",
      "Epoch 120/400\n"
     ]
    },
    {
     "name": "stderr",
     "output_type": "stream",
     "text": [
      "\n",
      "poch 120: 100%|████████████████████████████████████████| 729/729 [11:27<00:00,  1.06it/s, G_Loss=1.9680, D_Loss=0.4151]"
     ]
    },
    {
     "name": "stdout",
     "output_type": "stream",
     "text": [
      "Epoch 120 completed - Avg G Loss: 1.9680, Avg D Loss: 0.4151\n",
      "Saved sample images for epoch 120\n",
      "Saved comparison images for epoch 120\n",
      "Models saved at epoch 120\n",
      "\n",
      "Epoch 121/400\n"
     ]
    },
    {
     "name": "stderr",
     "output_type": "stream",
     "text": [
      "\n",
      "poch 121: 100%|████████████████████████████████████████| 729/729 [12:09<00:00,  1.00s/it, G_Loss=1.9786, D_Loss=0.4150]"
     ]
    },
    {
     "name": "stdout",
     "output_type": "stream",
     "text": [
      "Epoch 121 completed - Avg G Loss: 1.9786, Avg D Loss: 0.4150\n",
      "\n",
      "Epoch 122/400\n"
     ]
    },
    {
     "name": "stderr",
     "output_type": "stream",
     "text": [
      "\n",
      "poch 122: 100%|████████████████████████████████████████| 729/729 [13:20<00:00,  1.10s/it, G_Loss=1.9719, D_Loss=0.4156]"
     ]
    },
    {
     "name": "stdout",
     "output_type": "stream",
     "text": [
      "Epoch 122 completed - Avg G Loss: 1.9719, Avg D Loss: 0.4156\n",
      "\n",
      "Epoch 123/400\n"
     ]
    },
    {
     "name": "stderr",
     "output_type": "stream",
     "text": [
      "\n",
      "poch 123: 100%|████████████████████████████████████████| 729/729 [13:14<00:00,  1.09s/it, G_Loss=1.9592, D_Loss=0.4139]"
     ]
    },
    {
     "name": "stdout",
     "output_type": "stream",
     "text": [
      "Epoch 123 completed - Avg G Loss: 1.9592, Avg D Loss: 0.4139\n",
      "\n",
      "Epoch 124/400\n"
     ]
    },
    {
     "name": "stderr",
     "output_type": "stream",
     "text": [
      "\n",
      "poch 124: 100%|████████████████████████████████████████| 729/729 [12:08<00:00,  1.00it/s, G_Loss=1.9540, D_Loss=0.4141]"
     ]
    },
    {
     "name": "stdout",
     "output_type": "stream",
     "text": [
      "Epoch 124 completed - Avg G Loss: 1.9540, Avg D Loss: 0.4141\n",
      "\n",
      "Epoch 125/400\n"
     ]
    },
    {
     "name": "stderr",
     "output_type": "stream",
     "text": [
      "\n",
      "poch 125: 100%|████████████████████████████████████████| 729/729 [12:45<00:00,  1.05s/it, G_Loss=1.9511, D_Loss=0.4147]"
     ]
    },
    {
     "name": "stdout",
     "output_type": "stream",
     "text": [
      "Epoch 125 completed - Avg G Loss: 1.9511, Avg D Loss: 0.4147\n",
      "Saved sample images for epoch 125\n",
      "\n",
      "Epoch 126/400\n"
     ]
    },
    {
     "name": "stderr",
     "output_type": "stream",
     "text": [
      "\n",
      "poch 126: 100%|████████████████████████████████████████| 729/729 [11:59<00:00,  1.01it/s, G_Loss=1.9699, D_Loss=0.4137]"
     ]
    },
    {
     "name": "stdout",
     "output_type": "stream",
     "text": [
      "Epoch 126 completed - Avg G Loss: 1.9699, Avg D Loss: 0.4137\n",
      "\n",
      "Epoch 127/400\n"
     ]
    },
    {
     "name": "stderr",
     "output_type": "stream",
     "text": [
      "\n",
      "poch 127: 100%|████████████████████████████████████████| 729/729 [07:07<00:00,  1.71it/s, G_Loss=1.9649, D_Loss=0.4130]"
     ]
    },
    {
     "name": "stdout",
     "output_type": "stream",
     "text": [
      "Epoch 127 completed - Avg G Loss: 1.9649, Avg D Loss: 0.4130\n",
      "\n",
      "Epoch 128/400\n"
     ]
    },
    {
     "name": "stderr",
     "output_type": "stream",
     "text": [
      "\n",
      "poch 128: 100%|████████████████████████████████████████| 729/729 [06:45<00:00,  1.80it/s, G_Loss=1.9467, D_Loss=0.4123]"
     ]
    },
    {
     "name": "stdout",
     "output_type": "stream",
     "text": [
      "Epoch 128 completed - Avg G Loss: 1.9467, Avg D Loss: 0.4123\n",
      "\n",
      "Epoch 129/400\n"
     ]
    },
    {
     "name": "stderr",
     "output_type": "stream",
     "text": [
      "\n",
      "poch 129: 100%|████████████████████████████████████████| 729/729 [06:57<00:00,  1.75it/s, G_Loss=1.9359, D_Loss=0.4125]"
     ]
    },
    {
     "name": "stdout",
     "output_type": "stream",
     "text": [
      "Epoch 129 completed - Avg G Loss: 1.9359, Avg D Loss: 0.4125\n",
      "\n",
      "Epoch 130/400\n"
     ]
    },
    {
     "name": "stderr",
     "output_type": "stream",
     "text": [
      "\n",
      "poch 130: 100%|████████████████████████████████████████| 729/729 [06:54<00:00,  1.76it/s, G_Loss=1.9900, D_Loss=0.4149]"
     ]
    },
    {
     "name": "stdout",
     "output_type": "stream",
     "text": [
      "Epoch 130 completed - Avg G Loss: 1.9900, Avg D Loss: 0.4149\n",
      "Saved sample images for epoch 130\n",
      "Saved comparison images for epoch 130\n",
      "\n",
      "Epoch 131/400\n"
     ]
    },
    {
     "name": "stderr",
     "output_type": "stream",
     "text": [
      "\n",
      "poch 131: 100%|████████████████████████████████████████| 729/729 [07:05<00:00,  1.71it/s, G_Loss=1.9632, D_Loss=0.4143]"
     ]
    },
    {
     "name": "stdout",
     "output_type": "stream",
     "text": [
      "Epoch 131 completed - Avg G Loss: 1.9632, Avg D Loss: 0.4143\n",
      "\n",
      "Epoch 132/400\n"
     ]
    },
    {
     "name": "stderr",
     "output_type": "stream",
     "text": [
      "\n",
      "poch 132: 100%|████████████████████████████████████████| 729/729 [07:26<00:00,  1.63it/s, G_Loss=1.9625, D_Loss=0.4139]"
     ]
    },
    {
     "name": "stdout",
     "output_type": "stream",
     "text": [
      "Epoch 132 completed - Avg G Loss: 1.9625, Avg D Loss: 0.4139\n",
      "\n",
      "Epoch 133/400\n"
     ]
    },
    {
     "name": "stderr",
     "output_type": "stream",
     "text": [
      "\n",
      "poch 133: 100%|████████████████████████████████████████| 729/729 [07:25<00:00,  1.64it/s, G_Loss=1.9417, D_Loss=0.4133]"
     ]
    },
    {
     "name": "stdout",
     "output_type": "stream",
     "text": [
      "Epoch 133 completed - Avg G Loss: 1.9417, Avg D Loss: 0.4133\n",
      "\n",
      "Epoch 134/400\n"
     ]
    },
    {
     "name": "stderr",
     "output_type": "stream",
     "text": [
      "\n",
      "poch 134: 100%|████████████████████████████████████████| 729/729 [07:15<00:00,  1.67it/s, G_Loss=1.9542, D_Loss=0.4124]"
     ]
    },
    {
     "name": "stdout",
     "output_type": "stream",
     "text": [
      "Epoch 134 completed - Avg G Loss: 1.9542, Avg D Loss: 0.4124\n",
      "\n",
      "Epoch 135/400\n"
     ]
    },
    {
     "name": "stderr",
     "output_type": "stream",
     "text": [
      "\n",
      "poch 135: 100%|████████████████████████████████████████| 729/729 [06:57<00:00,  1.75it/s, G_Loss=1.9447, D_Loss=0.4127]"
     ]
    },
    {
     "name": "stdout",
     "output_type": "stream",
     "text": [
      "Epoch 135 completed - Avg G Loss: 1.9447, Avg D Loss: 0.4127\n",
      "Saved sample images for epoch 135\n",
      "\n",
      "Epoch 136/400\n"
     ]
    },
    {
     "name": "stderr",
     "output_type": "stream",
     "text": [
      "\n",
      "poch 136: 100%|████████████████████████████████████████| 729/729 [07:00<00:00,  1.73it/s, G_Loss=1.9568, D_Loss=0.4130]"
     ]
    },
    {
     "name": "stdout",
     "output_type": "stream",
     "text": [
      "Epoch 136 completed - Avg G Loss: 1.9568, Avg D Loss: 0.4130\n",
      "\n",
      "Epoch 137/400\n"
     ]
    },
    {
     "name": "stderr",
     "output_type": "stream",
     "text": [
      "\n",
      "poch 137: 100%|████████████████████████████████████████| 729/729 [07:02<00:00,  1.73it/s, G_Loss=1.9392, D_Loss=0.4126]"
     ]
    },
    {
     "name": "stdout",
     "output_type": "stream",
     "text": [
      "Epoch 137 completed - Avg G Loss: 1.9392, Avg D Loss: 0.4126\n",
      "\n",
      "Epoch 138/400\n"
     ]
    },
    {
     "name": "stderr",
     "output_type": "stream",
     "text": [
      "\n",
      "poch 138: 100%|████████████████████████████████████████| 729/729 [06:58<00:00,  1.74it/s, G_Loss=1.9496, D_Loss=0.4136]"
     ]
    },
    {
     "name": "stdout",
     "output_type": "stream",
     "text": [
      "Epoch 138 completed - Avg G Loss: 1.9496, Avg D Loss: 0.4136\n",
      "\n",
      "Epoch 139/400\n"
     ]
    },
    {
     "name": "stderr",
     "output_type": "stream",
     "text": [
      "\n",
      "poch 139: 100%|████████████████████████████████████████| 729/729 [07:06<00:00,  1.71it/s, G_Loss=1.9299, D_Loss=0.4106]"
     ]
    },
    {
     "name": "stdout",
     "output_type": "stream",
     "text": [
      "Epoch 139 completed - Avg G Loss: 1.9299, Avg D Loss: 0.4106\n",
      "\n",
      "Epoch 140/400\n"
     ]
    },
    {
     "name": "stderr",
     "output_type": "stream",
     "text": [
      "\n",
      "poch 140: 100%|████████████████████████████████████████| 729/729 [07:23<00:00,  1.64it/s, G_Loss=1.9474, D_Loss=0.4121]"
     ]
    },
    {
     "name": "stdout",
     "output_type": "stream",
     "text": [
      "Epoch 140 completed - Avg G Loss: 1.9474, Avg D Loss: 0.4121\n",
      "Saved sample images for epoch 140\n",
      "Saved comparison images for epoch 140\n",
      "\n",
      "Epoch 141/400\n"
     ]
    },
    {
     "name": "stderr",
     "output_type": "stream",
     "text": [
      "\n",
      "poch 141: 100%|████████████████████████████████████████| 729/729 [07:27<00:00,  1.63it/s, G_Loss=1.9290, D_Loss=0.4109]"
     ]
    },
    {
     "name": "stdout",
     "output_type": "stream",
     "text": [
      "Epoch 141 completed - Avg G Loss: 1.9290, Avg D Loss: 0.4109\n",
      "\n",
      "Epoch 142/400\n"
     ]
    },
    {
     "name": "stderr",
     "output_type": "stream",
     "text": [
      "\n",
      "poch 142: 100%|████████████████████████████████████████| 729/729 [07:25<00:00,  1.64it/s, G_Loss=1.9336, D_Loss=0.4122]"
     ]
    },
    {
     "name": "stdout",
     "output_type": "stream",
     "text": [
      "Epoch 142 completed - Avg G Loss: 1.9336, Avg D Loss: 0.4122\n",
      "\n",
      "Epoch 143/400\n"
     ]
    },
    {
     "name": "stderr",
     "output_type": "stream",
     "text": [
      "\n",
      "poch 143: 100%|████████████████████████████████████████| 729/729 [07:27<00:00,  1.63it/s, G_Loss=1.9438, D_Loss=0.4118]"
     ]
    },
    {
     "name": "stdout",
     "output_type": "stream",
     "text": [
      "Epoch 143 completed - Avg G Loss: 1.9438, Avg D Loss: 0.4118\n",
      "\n",
      "Epoch 144/400\n"
     ]
    },
    {
     "name": "stderr",
     "output_type": "stream",
     "text": [
      "\n",
      "poch 144: 100%|████████████████████████████████████████| 729/729 [07:24<00:00,  1.64it/s, G_Loss=1.9467, D_Loss=0.4132]"
     ]
    },
    {
     "name": "stdout",
     "output_type": "stream",
     "text": [
      "Epoch 144 completed - Avg G Loss: 1.9467, Avg D Loss: 0.4132\n",
      "\n",
      "Epoch 145/400\n"
     ]
    },
    {
     "name": "stderr",
     "output_type": "stream",
     "text": [
      "\n",
      "poch 145: 100%|████████████████████████████████████████| 729/729 [07:24<00:00,  1.64it/s, G_Loss=1.9510, D_Loss=0.4128]"
     ]
    },
    {
     "name": "stdout",
     "output_type": "stream",
     "text": [
      "Epoch 145 completed - Avg G Loss: 1.9510, Avg D Loss: 0.4128\n",
      "Saved sample images for epoch 145\n",
      "\n",
      "Epoch 146/400\n"
     ]
    },
    {
     "name": "stderr",
     "output_type": "stream",
     "text": [
      "\n",
      "poch 146: 100%|████████████████████████████████████████| 729/729 [07:19<00:00,  1.66it/s, G_Loss=1.9289, D_Loss=0.4109]"
     ]
    },
    {
     "name": "stdout",
     "output_type": "stream",
     "text": [
      "Epoch 146 completed - Avg G Loss: 1.9289, Avg D Loss: 0.4109\n",
      "\n",
      "Epoch 147/400\n"
     ]
    },
    {
     "name": "stderr",
     "output_type": "stream",
     "text": [
      "\n",
      "poch 147: 100%|████████████████████████████████████████| 729/729 [07:28<00:00,  1.63it/s, G_Loss=1.9203, D_Loss=0.4099]"
     ]
    },
    {
     "name": "stdout",
     "output_type": "stream",
     "text": [
      "Epoch 147 completed - Avg G Loss: 1.9203, Avg D Loss: 0.4099\n",
      "\n",
      "Epoch 148/400\n"
     ]
    },
    {
     "name": "stderr",
     "output_type": "stream",
     "text": [
      "\n",
      "poch 148: 100%|████████████████████████████████████████| 729/729 [07:24<00:00,  1.64it/s, G_Loss=1.9418, D_Loss=0.4105]"
     ]
    },
    {
     "name": "stdout",
     "output_type": "stream",
     "text": [
      "Epoch 148 completed - Avg G Loss: 1.9418, Avg D Loss: 0.4105\n",
      "\n",
      "Epoch 149/400\n"
     ]
    },
    {
     "name": "stderr",
     "output_type": "stream",
     "text": [
      "\n",
      "poch 149: 100%|████████████████████████████████████████| 729/729 [07:23<00:00,  1.64it/s, G_Loss=1.9196, D_Loss=0.4103]"
     ]
    },
    {
     "name": "stdout",
     "output_type": "stream",
     "text": [
      "Epoch 149 completed - Avg G Loss: 1.9196, Avg D Loss: 0.4103\n",
      "\n",
      "Epoch 150/400\n"
     ]
    },
    {
     "name": "stderr",
     "output_type": "stream",
     "text": [
      "\n",
      "poch 150: 100%|████████████████████████████████████████| 729/729 [07:20<00:00,  1.65it/s, G_Loss=1.9314, D_Loss=0.4097]"
     ]
    },
    {
     "name": "stdout",
     "output_type": "stream",
     "text": [
      "Epoch 150 completed - Avg G Loss: 1.9314, Avg D Loss: 0.4097\n",
      "Saved sample images for epoch 150\n",
      "Saved comparison images for epoch 150\n",
      "Models saved at epoch 150\n",
      "\n",
      "Epoch 151/400\n"
     ]
    },
    {
     "name": "stderr",
     "output_type": "stream",
     "text": [
      "\n",
      "poch 151: 100%|████████████████████████████████████████| 729/729 [07:25<00:00,  1.64it/s, G_Loss=1.9479, D_Loss=0.4112]"
     ]
    },
    {
     "name": "stdout",
     "output_type": "stream",
     "text": [
      "Epoch 151 completed - Avg G Loss: 1.9479, Avg D Loss: 0.4112\n",
      "\n",
      "Epoch 152/400\n"
     ]
    },
    {
     "name": "stderr",
     "output_type": "stream",
     "text": [
      "\n",
      "poch 152: 100%|████████████████████████████████████████| 729/729 [07:22<00:00,  1.65it/s, G_Loss=1.9415, D_Loss=0.4116]"
     ]
    },
    {
     "name": "stdout",
     "output_type": "stream",
     "text": [
      "Epoch 152 completed - Avg G Loss: 1.9415, Avg D Loss: 0.4116\n",
      "\n",
      "Epoch 153/400\n"
     ]
    },
    {
     "name": "stderr",
     "output_type": "stream",
     "text": [
      "\n",
      "poch 153: 100%|████████████████████████████████████████| 729/729 [07:25<00:00,  1.64it/s, G_Loss=1.9323, D_Loss=0.4099]"
     ]
    },
    {
     "name": "stdout",
     "output_type": "stream",
     "text": [
      "Epoch 153 completed - Avg G Loss: 1.9323, Avg D Loss: 0.4099\n",
      "\n",
      "Epoch 154/400\n"
     ]
    },
    {
     "name": "stderr",
     "output_type": "stream",
     "text": [
      "\n",
      "poch 154: 100%|████████████████████████████████████████| 729/729 [07:24<00:00,  1.64it/s, G_Loss=1.9442, D_Loss=0.4115]"
     ]
    },
    {
     "name": "stdout",
     "output_type": "stream",
     "text": [
      "Epoch 154 completed - Avg G Loss: 1.9442, Avg D Loss: 0.4115\n",
      "\n",
      "Epoch 155/400\n"
     ]
    },
    {
     "name": "stderr",
     "output_type": "stream",
     "text": [
      "\n",
      "poch 155: 100%|████████████████████████████████████████| 729/729 [07:23<00:00,  1.64it/s, G_Loss=1.9383, D_Loss=0.4112]"
     ]
    },
    {
     "name": "stdout",
     "output_type": "stream",
     "text": [
      "Epoch 155 completed - Avg G Loss: 1.9383, Avg D Loss: 0.4112\n",
      "Saved sample images for epoch 155\n",
      "\n",
      "Epoch 156/400\n"
     ]
    },
    {
     "name": "stderr",
     "output_type": "stream",
     "text": [
      "\n",
      "poch 156: 100%|████████████████████████████████████████| 729/729 [07:23<00:00,  1.64it/s, G_Loss=1.9595, D_Loss=0.4126]"
     ]
    },
    {
     "name": "stdout",
     "output_type": "stream",
     "text": [
      "Epoch 156 completed - Avg G Loss: 1.9595, Avg D Loss: 0.4126\n",
      "\n",
      "Epoch 157/400\n"
     ]
    },
    {
     "name": "stderr",
     "output_type": "stream",
     "text": [
      "\n",
      "poch 157: 100%|████████████████████████████████████████| 729/729 [07:21<00:00,  1.65it/s, G_Loss=1.9331, D_Loss=0.4111]"
     ]
    },
    {
     "name": "stdout",
     "output_type": "stream",
     "text": [
      "Epoch 157 completed - Avg G Loss: 1.9331, Avg D Loss: 0.4111\n",
      "\n",
      "Epoch 158/400\n"
     ]
    },
    {
     "name": "stderr",
     "output_type": "stream",
     "text": [
      "\n",
      "poch 158: 100%|████████████████████████████████████████| 729/729 [07:26<00:00,  1.63it/s, G_Loss=1.9254, D_Loss=0.4118]"
     ]
    },
    {
     "name": "stdout",
     "output_type": "stream",
     "text": [
      "Epoch 158 completed - Avg G Loss: 1.9254, Avg D Loss: 0.4118\n",
      "\n",
      "Epoch 159/400\n"
     ]
    },
    {
     "name": "stderr",
     "output_type": "stream",
     "text": [
      "\n",
      "poch 159: 100%|████████████████████████████████████████| 729/729 [07:25<00:00,  1.64it/s, G_Loss=1.9390, D_Loss=0.4116]"
     ]
    },
    {
     "name": "stdout",
     "output_type": "stream",
     "text": [
      "Epoch 159 completed - Avg G Loss: 1.9390, Avg D Loss: 0.4116\n",
      "\n",
      "Epoch 160/400\n"
     ]
    },
    {
     "name": "stderr",
     "output_type": "stream",
     "text": [
      "\n",
      "poch 160: 100%|████████████████████████████████████████| 729/729 [07:23<00:00,  1.65it/s, G_Loss=1.9260, D_Loss=0.4113]"
     ]
    },
    {
     "name": "stdout",
     "output_type": "stream",
     "text": [
      "Epoch 160 completed - Avg G Loss: 1.9260, Avg D Loss: 0.4113\n",
      "Saved sample images for epoch 160\n",
      "Saved comparison images for epoch 160\n",
      "\n",
      "Epoch 161/400\n"
     ]
    },
    {
     "name": "stderr",
     "output_type": "stream",
     "text": [
      "\n",
      "poch 161: 100%|████████████████████████████████████████| 729/729 [08:58<00:00,  1.35it/s, G_Loss=1.9390, D_Loss=0.4107]"
     ]
    },
    {
     "name": "stdout",
     "output_type": "stream",
     "text": [
      "Epoch 161 completed - Avg G Loss: 1.9390, Avg D Loss: 0.4107\n",
      "\n",
      "Epoch 162/400\n"
     ]
    },
    {
     "name": "stderr",
     "output_type": "stream",
     "text": [
      "\n",
      "poch 162: 100%|████████████████████████████████████████| 729/729 [07:24<00:00,  1.64it/s, G_Loss=1.9362, D_Loss=0.4116]"
     ]
    },
    {
     "name": "stdout",
     "output_type": "stream",
     "text": [
      "Epoch 162 completed - Avg G Loss: 1.9362, Avg D Loss: 0.4116\n",
      "\n",
      "Epoch 163/400\n"
     ]
    },
    {
     "name": "stderr",
     "output_type": "stream",
     "text": [
      "\n",
      "poch 163: 100%|████████████████████████████████████████| 729/729 [07:20<00:00,  1.65it/s, G_Loss=1.9066, D_Loss=0.4095]"
     ]
    },
    {
     "name": "stdout",
     "output_type": "stream",
     "text": [
      "Epoch 163 completed - Avg G Loss: 1.9066, Avg D Loss: 0.4095\n",
      "\n",
      "Epoch 164/400\n"
     ]
    },
    {
     "name": "stderr",
     "output_type": "stream",
     "text": [
      "\n",
      "poch 164: 100%|████████████████████████████████████████| 729/729 [07:25<00:00,  1.64it/s, G_Loss=1.9316, D_Loss=0.4101]"
     ]
    },
    {
     "name": "stdout",
     "output_type": "stream",
     "text": [
      "Epoch 164 completed - Avg G Loss: 1.9316, Avg D Loss: 0.4101\n",
      "\n",
      "Epoch 165/400\n"
     ]
    },
    {
     "name": "stderr",
     "output_type": "stream",
     "text": [
      "\n",
      "poch 165: 100%|████████████████████████████████████████| 729/729 [07:25<00:00,  1.64it/s, G_Loss=1.9182, D_Loss=0.4092]"
     ]
    },
    {
     "name": "stdout",
     "output_type": "stream",
     "text": [
      "Epoch 165 completed - Avg G Loss: 1.9182, Avg D Loss: 0.4092\n",
      "Saved sample images for epoch 165\n",
      "\n",
      "Epoch 166/400\n"
     ]
    },
    {
     "name": "stderr",
     "output_type": "stream",
     "text": [
      "\n",
      "poch 166: 100%|████████████████████████████████████████| 729/729 [07:24<00:00,  1.64it/s, G_Loss=1.9246, D_Loss=0.4107]"
     ]
    },
    {
     "name": "stdout",
     "output_type": "stream",
     "text": [
      "Epoch 166 completed - Avg G Loss: 1.9246, Avg D Loss: 0.4107\n",
      "\n",
      "Epoch 167/400\n"
     ]
    },
    {
     "name": "stderr",
     "output_type": "stream",
     "text": [
      "\n",
      "poch 167: 100%|████████████████████████████████████████| 729/729 [07:26<00:00,  1.63it/s, G_Loss=1.9664, D_Loss=0.4129]"
     ]
    },
    {
     "name": "stdout",
     "output_type": "stream",
     "text": [
      "Epoch 167 completed - Avg G Loss: 1.9664, Avg D Loss: 0.4129\n",
      "\n",
      "Epoch 168/400\n"
     ]
    },
    {
     "name": "stderr",
     "output_type": "stream",
     "text": [
      "\n",
      "poch 168: 100%|████████████████████████████████████████| 729/729 [07:24<00:00,  1.64it/s, G_Loss=1.9154, D_Loss=0.4106]"
     ]
    },
    {
     "name": "stdout",
     "output_type": "stream",
     "text": [
      "Epoch 168 completed - Avg G Loss: 1.9154, Avg D Loss: 0.4106\n",
      "\n",
      "Epoch 169/400\n"
     ]
    },
    {
     "name": "stderr",
     "output_type": "stream",
     "text": [
      "\n",
      "poch 169: 100%|████████████████████████████████████████| 729/729 [07:23<00:00,  1.64it/s, G_Loss=1.9264, D_Loss=0.4106]"
     ]
    },
    {
     "name": "stdout",
     "output_type": "stream",
     "text": [
      "Epoch 169 completed - Avg G Loss: 1.9264, Avg D Loss: 0.4106\n",
      "\n",
      "Epoch 170/400\n"
     ]
    },
    {
     "name": "stderr",
     "output_type": "stream",
     "text": [
      "\n",
      "poch 170: 100%|████████████████████████████████████████| 729/729 [07:24<00:00,  1.64it/s, G_Loss=1.9148, D_Loss=0.4098]"
     ]
    },
    {
     "name": "stdout",
     "output_type": "stream",
     "text": [
      "Epoch 170 completed - Avg G Loss: 1.9148, Avg D Loss: 0.4098\n",
      "Saved sample images for epoch 170\n",
      "Saved comparison images for epoch 170\n",
      "\n",
      "Epoch 171/400\n"
     ]
    },
    {
     "name": "stderr",
     "output_type": "stream",
     "text": [
      "\n",
      "poch 171: 100%|████████████████████████████████████████| 729/729 [07:22<00:00,  1.65it/s, G_Loss=1.9365, D_Loss=0.4104]"
     ]
    },
    {
     "name": "stdout",
     "output_type": "stream",
     "text": [
      "Epoch 171 completed - Avg G Loss: 1.9365, Avg D Loss: 0.4104\n",
      "\n",
      "Epoch 172/400\n"
     ]
    },
    {
     "name": "stderr",
     "output_type": "stream",
     "text": [
      "\n",
      "poch 172: 100%|████████████████████████████████████████| 729/729 [07:24<00:00,  1.64it/s, G_Loss=1.9338, D_Loss=0.4104]"
     ]
    },
    {
     "name": "stdout",
     "output_type": "stream",
     "text": [
      "Epoch 172 completed - Avg G Loss: 1.9338, Avg D Loss: 0.4104\n",
      "\n",
      "Epoch 173/400\n"
     ]
    },
    {
     "name": "stderr",
     "output_type": "stream",
     "text": [
      "\n",
      "poch 173: 100%|████████████████████████████████████████| 729/729 [07:27<00:00,  1.63it/s, G_Loss=1.9134, D_Loss=0.4096]"
     ]
    },
    {
     "name": "stdout",
     "output_type": "stream",
     "text": [
      "Epoch 173 completed - Avg G Loss: 1.9134, Avg D Loss: 0.4096\n",
      "\n",
      "Epoch 174/400\n"
     ]
    },
    {
     "name": "stderr",
     "output_type": "stream",
     "text": [
      "\n",
      "poch 174: 100%|████████████████████████████████████████| 729/729 [07:24<00:00,  1.64it/s, G_Loss=1.9057, D_Loss=0.4091]"
     ]
    },
    {
     "name": "stdout",
     "output_type": "stream",
     "text": [
      "Epoch 174 completed - Avg G Loss: 1.9057, Avg D Loss: 0.4091\n",
      "\n",
      "Epoch 175/400\n"
     ]
    },
    {
     "name": "stderr",
     "output_type": "stream",
     "text": [
      "\n",
      "poch 175: 100%|████████████████████████████████████████| 729/729 [07:26<00:00,  1.63it/s, G_Loss=1.9512, D_Loss=0.4107]"
     ]
    },
    {
     "name": "stdout",
     "output_type": "stream",
     "text": [
      "Epoch 175 completed - Avg G Loss: 1.9512, Avg D Loss: 0.4107\n",
      "Saved sample images for epoch 175\n",
      "\n",
      "Epoch 176/400\n"
     ]
    },
    {
     "name": "stderr",
     "output_type": "stream",
     "text": [
      "\n",
      "poch 176: 100%|████████████████████████████████████████| 729/729 [07:23<00:00,  1.64it/s, G_Loss=1.9395, D_Loss=0.4109]"
     ]
    },
    {
     "name": "stdout",
     "output_type": "stream",
     "text": [
      "Epoch 176 completed - Avg G Loss: 1.9395, Avg D Loss: 0.4109\n",
      "\n",
      "Epoch 177/400\n"
     ]
    },
    {
     "name": "stderr",
     "output_type": "stream",
     "text": [
      "\n",
      "poch 177: 100%|████████████████████████████████████████| 729/729 [07:26<00:00,  1.63it/s, G_Loss=1.9041, D_Loss=0.4089]"
     ]
    },
    {
     "name": "stdout",
     "output_type": "stream",
     "text": [
      "Epoch 177 completed - Avg G Loss: 1.9041, Avg D Loss: 0.4089\n",
      "\n",
      "Epoch 178/400\n"
     ]
    },
    {
     "name": "stderr",
     "output_type": "stream",
     "text": [
      "\n",
      "poch 178: 100%|████████████████████████████████████████| 729/729 [07:24<00:00,  1.64it/s, G_Loss=1.9539, D_Loss=0.4110]"
     ]
    },
    {
     "name": "stdout",
     "output_type": "stream",
     "text": [
      "Epoch 178 completed - Avg G Loss: 1.9539, Avg D Loss: 0.4110\n",
      "\n",
      "Epoch 179/400\n"
     ]
    },
    {
     "name": "stderr",
     "output_type": "stream",
     "text": [
      "\n",
      "poch 179: 100%|████████████████████████████████████████| 729/729 [07:26<00:00,  1.63it/s, G_Loss=1.9222, D_Loss=0.4107]"
     ]
    },
    {
     "name": "stdout",
     "output_type": "stream",
     "text": [
      "Epoch 179 completed - Avg G Loss: 1.9222, Avg D Loss: 0.4107\n",
      "\n",
      "Epoch 180/400\n"
     ]
    },
    {
     "name": "stderr",
     "output_type": "stream",
     "text": [
      "\n",
      "poch 180: 100%|████████████████████████████████████████| 729/729 [07:24<00:00,  1.64it/s, G_Loss=1.9045, D_Loss=0.4091]"
     ]
    },
    {
     "name": "stdout",
     "output_type": "stream",
     "text": [
      "Epoch 180 completed - Avg G Loss: 1.9045, Avg D Loss: 0.4091\n",
      "Saved sample images for epoch 180\n",
      "Saved comparison images for epoch 180\n",
      "Models saved at epoch 180\n",
      "\n",
      "Epoch 181/400\n"
     ]
    },
    {
     "name": "stderr",
     "output_type": "stream",
     "text": [
      "\n",
      "poch 181: 100%|████████████████████████████████████████| 729/729 [07:19<00:00,  1.66it/s, G_Loss=1.9088, D_Loss=0.4095]"
     ]
    },
    {
     "name": "stdout",
     "output_type": "stream",
     "text": [
      "Epoch 181 completed - Avg G Loss: 1.9088, Avg D Loss: 0.4095\n",
      "\n",
      "Epoch 182/400\n"
     ]
    },
    {
     "name": "stderr",
     "output_type": "stream",
     "text": [
      "\n",
      "poch 182: 100%|████████████████████████████████████████| 729/729 [07:25<00:00,  1.64it/s, G_Loss=1.9405, D_Loss=0.4108]"
     ]
    },
    {
     "name": "stdout",
     "output_type": "stream",
     "text": [
      "Epoch 182 completed - Avg G Loss: 1.9405, Avg D Loss: 0.4108\n",
      "\n",
      "Epoch 183/400\n"
     ]
    },
    {
     "name": "stderr",
     "output_type": "stream",
     "text": [
      "\n",
      "poch 183: 100%|████████████████████████████████████████| 729/729 [07:23<00:00,  1.64it/s, G_Loss=1.9339, D_Loss=0.4121]"
     ]
    },
    {
     "name": "stdout",
     "output_type": "stream",
     "text": [
      "Epoch 183 completed - Avg G Loss: 1.9339, Avg D Loss: 0.4121\n",
      "\n",
      "Epoch 184/400\n"
     ]
    },
    {
     "name": "stderr",
     "output_type": "stream",
     "text": [
      "\n",
      "poch 184: 100%|████████████████████████████████████████| 729/729 [07:26<00:00,  1.63it/s, G_Loss=1.9278, D_Loss=0.4105]"
     ]
    },
    {
     "name": "stdout",
     "output_type": "stream",
     "text": [
      "Epoch 184 completed - Avg G Loss: 1.9278, Avg D Loss: 0.4105\n",
      "\n",
      "Epoch 185/400\n"
     ]
    },
    {
     "name": "stderr",
     "output_type": "stream",
     "text": [
      "\n",
      "poch 185: 100%|████████████████████████████████████████| 729/729 [07:23<00:00,  1.64it/s, G_Loss=1.9088, D_Loss=0.4096]"
     ]
    },
    {
     "name": "stdout",
     "output_type": "stream",
     "text": [
      "Epoch 185 completed - Avg G Loss: 1.9088, Avg D Loss: 0.4096\n",
      "Saved sample images for epoch 185\n",
      "\n",
      "Epoch 186/400\n"
     ]
    },
    {
     "name": "stderr",
     "output_type": "stream",
     "text": [
      "\n",
      "poch 186: 100%|████████████████████████████████████████| 729/729 [07:23<00:00,  1.64it/s, G_Loss=1.9108, D_Loss=0.4091]"
     ]
    },
    {
     "name": "stdout",
     "output_type": "stream",
     "text": [
      "Epoch 186 completed - Avg G Loss: 1.9108, Avg D Loss: 0.4091\n",
      "\n",
      "Epoch 187/400\n"
     ]
    },
    {
     "name": "stderr",
     "output_type": "stream",
     "text": [
      "\n",
      "poch 187: 100%|████████████████████████████████████████| 729/729 [06:59<00:00,  1.74it/s, G_Loss=1.9006, D_Loss=0.4083]"
     ]
    },
    {
     "name": "stdout",
     "output_type": "stream",
     "text": [
      "Epoch 187 completed - Avg G Loss: 1.9006, Avg D Loss: 0.4083\n",
      "\n",
      "Epoch 188/400\n"
     ]
    },
    {
     "name": "stderr",
     "output_type": "stream",
     "text": [
      "\n",
      "poch 188: 100%|████████████████████████████████████████| 729/729 [06:54<00:00,  1.76it/s, G_Loss=1.9129, D_Loss=0.4091]"
     ]
    },
    {
     "name": "stdout",
     "output_type": "stream",
     "text": [
      "Epoch 188 completed - Avg G Loss: 1.9129, Avg D Loss: 0.4091\n",
      "\n",
      "Epoch 189/400\n"
     ]
    },
    {
     "name": "stderr",
     "output_type": "stream",
     "text": [
      "\n",
      "poch 189: 100%|████████████████████████████████████████| 729/729 [07:09<00:00,  1.70it/s, G_Loss=1.9151, D_Loss=0.4099]"
     ]
    },
    {
     "name": "stdout",
     "output_type": "stream",
     "text": [
      "Epoch 189 completed - Avg G Loss: 1.9151, Avg D Loss: 0.4099\n",
      "\n",
      "Epoch 190/400\n"
     ]
    },
    {
     "name": "stderr",
     "output_type": "stream",
     "text": [
      "\n",
      "poch 190: 100%|████████████████████████████████████████| 729/729 [07:31<00:00,  1.61it/s, G_Loss=1.9141, D_Loss=0.4093]"
     ]
    },
    {
     "name": "stdout",
     "output_type": "stream",
     "text": [
      "Epoch 190 completed - Avg G Loss: 1.9141, Avg D Loss: 0.4093\n",
      "Saved sample images for epoch 190\n",
      "Saved comparison images for epoch 190\n",
      "\n",
      "Epoch 191/400\n"
     ]
    },
    {
     "name": "stderr",
     "output_type": "stream",
     "text": [
      "Epoch 191:   4%|█▌                                       | 28/729 [00:17<07:42,  1.52it/s, G_Loss=1.9199, D_Loss=0.4077]"
     ]
    }
   ],
   "source": [
    "# %%\n",
    "# Improved DCGAN Implementation for Color Images (RGB)\n",
    "\n",
    "import os\n",
    "import numpy as np\n",
    "import tensorflow as tf\n",
    "from tensorflow import keras\n",
    "from tensorflow.keras import layers\n",
    "from tensorflow.keras.optimizers import Adam\n",
    "import matplotlib.pyplot as plt\n",
    "from PIL import Image\n",
    "import glob\n",
    "import random\n",
    "import pickle\n",
    "from tqdm import tqdm\n",
    "from PIL import ImageEnhance\n",
    "\n",
    "# %%\n",
    "# Constants - Adjusted for color images\n",
    "MAX_IMAGES_PER_CLASS = 10000\n",
    "RESULT_SAVE_DIR = \"Vivian_128x128_results\"\n",
    "LATENT_DIM = 512\n",
    "IMAGE_SIZE = 128  # Changed to 128 for target resolution\n",
    "BATCH_SIZE = 8\n",
    "EPOCHS_PER_CLASS = 400\n",
    "DATASET_PATH = \"vivian_nsfw_sfw_cropped_combined_faces\"\n",
    "TOLERANCE = 89 #img resize tolerance, if not close, center crop done\n",
    "\n",
    "# %%\n",
    "class SingleClassDataGenerator(keras.utils.Sequence):\n",
    "    '''Improved data generator with better augmentation for color images'''\n",
    "    \n",
    "    def __init__(self, dataset_path, batch_size=32, max_images=1000, shuffle=True):\n",
    "        self.dataset_path = dataset_path\n",
    "        self.batch_size = batch_size\n",
    "        self.max_images = max_images\n",
    "        self.shuffle = shuffle\n",
    "        \n",
    "        print(f\"Loading images from: {dataset_path}\")\n",
    "        self._build_file_list()\n",
    "        \n",
    "        if self.shuffle:\n",
    "            random.shuffle(self.file_list)\n",
    "        self.indexes = np.arange(len(self.file_list))\n",
    "        \n",
    "    def _build_file_list(self):\n",
    "        \"\"\"Build file list for images\"\"\"\n",
    "        if not os.path.exists(self.dataset_path):\n",
    "            raise ValueError(f\"Directory not found: {self.dataset_path}\")\n",
    "        \n",
    "        # Support multiple image formats\n",
    "        image_files = []\n",
    "        for ext in ['*.png', '*.jpg', '*.jpeg', '*.PNG', '*.JPG', '*.JPEG']:\n",
    "            image_files.extend(glob.glob(os.path.join(self.dataset_path, ext)))\n",
    "        \n",
    "        if len(image_files) > self.max_images:\n",
    "            image_files = random.sample(image_files, self.max_images)\n",
    "            \n",
    "        self.file_list = image_files\n",
    "        print(f\"Found {len(self.file_list)} images\")\n",
    "        \n",
    "    def __len__(self):\n",
    "        return len(self.file_list) // self.batch_size\n",
    "        \n",
    "    def __getitem__(self, index):\n",
    "        batch_indexes = self.indexes[index * self.batch_size:(index + 1) * self.batch_size]\n",
    "        batch_files = [self.file_list[i] for i in batch_indexes]\n",
    "        \n",
    "        X = self._generate_batch(batch_files)\n",
    "        return X\n",
    "        \n",
    "    def _generate_batch(self, batch_files):\n",
    "        actual_batch_size = len(batch_files)\n",
    "        X = np.zeros((actual_batch_size, IMAGE_SIZE, IMAGE_SIZE, 3))\n",
    "    \n",
    "        for i, original_img_path in enumerate(batch_files):\n",
    "            \n",
    "            # Start a loop to handle potential failures with substitute images\n",
    "            img_path_to_process = original_img_path\n",
    "            load_successful = False\n",
    "            \n",
    "            # Max attempts to prevent infinite loop if all files are corrupt\n",
    "            max_attempts = len(batch_files) * 2 \n",
    "            attempts = 0\n",
    "    \n",
    "            while not load_successful and attempts < max_attempts:\n",
    "                attempts += 1\n",
    "                try:\n",
    "                    img = Image.open(img_path_to_process).convert('RGB')\n",
    "                    w, h = img.size\n",
    "                    \n",
    "                    # --- Image Preprocessing and Augmentation ---\n",
    "                    \n",
    "                    # 1. Cropping/Resizing Logic (same as original)\n",
    "                    if abs(w - IMAGE_SIZE) <= TOLERANCE and abs(h - IMAGE_SIZE) <= TOLERANCE:\n",
    "                        img = img.resize((IMAGE_SIZE, IMAGE_SIZE), Image.LANCZOS)\n",
    "                    else:\n",
    "                        short_side = min(w, h)\n",
    "                        left = (w - short_side) // 2\n",
    "                        top = (h - short_side) // 2\n",
    "                        right = left + short_side\n",
    "                        bottom = top + short_side\n",
    "                        img = img.crop((left, top, right, bottom)).resize((IMAGE_SIZE, IMAGE_SIZE), Image.LANCZOS)\n",
    "    \n",
    "                    # 2. Simpler augmentation (same as original)\n",
    "                    if random.random() < 0.3:\n",
    "                        img = img.transpose(Image.FLIP_LEFT_RIGHT)\n",
    "                    # Subtle brightness/contrast adjustment\n",
    "                    if random.random() < 0.3:\n",
    "                        enhancer = ImageEnhance.Brightness(img)\n",
    "                        img = enhancer.enhance(random.uniform(0.9, 1.1))\n",
    "                    \n",
    "                    if random.random() < 0.3:\n",
    "                        enhancer = ImageEnhance.Contrast(img)\n",
    "                        img = enhancer.enhance(random.uniform(0.9, 1.1))\n",
    "    \n",
    "                    # 3. Normalization (same as original)\n",
    "                    img_array = np.array(img, dtype=np.float32) / 255.0\n",
    "                    img_array = (img_array - 0.5) / 0.5  # Normalize to [-1, 1]\n",
    "                    X[i] = img_array\n",
    "                    \n",
    "                    # If we reached here, loading and processing was successful\n",
    "                    load_successful = True\n",
    "    \n",
    "                except Exception as e:\n",
    "                    # Log the error\n",
    "                    print(f\"Error loading {img_path_to_process}. Replacing with a random file. Original file: {original_img_path}. Error: {e}\")\n",
    "                    \n",
    "                    # Select a random image from the batch_files list as a substitute\n",
    "                    img_path_to_process = random.choice(batch_files)\n",
    "    \n",
    "            # Final safety check: if all attempts failed, fill with black image\n",
    "            if not load_successful:\n",
    "                 print(f\"CRITICAL: Failed to load a valid image for batch slot {i} after {max_attempts} attempts.\")\n",
    "                 X[i] = np.zeros((IMAGE_SIZE, IMAGE_SIZE, 3)) # Fallback to black image\n",
    "                 \n",
    "        return X\n",
    "        \n",
    "    def on_epoch_end(self):\n",
    "        if self.shuffle:\n",
    "            random.shuffle(self.file_list)\n",
    "            np.random.shuffle(self.indexes)  # Add this line\n",
    "            \n",
    "# class SelfAttention(layers.Layer):\n",
    "#     \"\"\"Custom Self-Attention Layer for DCGAN\"\"\"\n",
    "    \n",
    "#     def __init__(self, **kwargs):\n",
    "#         super(SelfAttention, self).__init__(**kwargs)\n",
    "    \n",
    "#     def build(self, input_shape):\n",
    "#         channels = input_shape[-1]\n",
    "        \n",
    "#         # Query, Key, Value projections\n",
    "#         self.f_conv = layers.Conv2D(channels // 8, 1, name='query')\n",
    "#         self.g_conv = layers.Conv2D(channels // 8, 1, name='key')\n",
    "#         self.h_conv = layers.Conv2D(channels // 2, 1, name='value')\n",
    "#         self.o_conv = layers.Conv2D(channels, 1, name='output')\n",
    "        \n",
    "#         # Learnable scale parameter\n",
    "#         self.gamma = self.add_weight(\n",
    "#             name='gamma',\n",
    "#             shape=(),\n",
    "#             initializer='zeros',\n",
    "#             trainable=True\n",
    "#         )\n",
    "        \n",
    "#         super(SelfAttention, self).build(input_shape)\n",
    "    \n",
    "#     def call(self, x):\n",
    "#         batch_size = tf.shape(x)[0]\n",
    "#         height = tf.shape(x)[1]\n",
    "#         width = tf.shape(x)[2]\n",
    "#         channels = x.shape[-1]\n",
    "        \n",
    "#         # Query, Key, Value projections\n",
    "#         f = self.f_conv(x)  # [batch, h, w, c//8]\n",
    "#         g = self.g_conv(x)  # [batch, h, w, c//8]\n",
    "#         h = self.h_conv(x)  # [batch, h, w, c//2]\n",
    "        \n",
    "#         # Reshape for attention computation\n",
    "#         f_flat = tf.reshape(f, [batch_size, -1, channels // 8])  # [batch, h*w, c//8]\n",
    "#         g_flat = tf.reshape(g, [batch_size, -1, channels // 8])  # [batch, h*w, c//8]\n",
    "#         h_flat = tf.reshape(h, [batch_size, -1, channels // 2])  # [batch, h*w, c//2]\n",
    "        \n",
    "#         # Attention map: [batch, h*w, h*w]\n",
    "#         attention = tf.nn.softmax(tf.matmul(f_flat, g_flat, transpose_b=True))\n",
    "        \n",
    "#         # Apply attention\n",
    "#         o = tf.matmul(attention, h_flat)  # [batch, h*w, c//2]\n",
    "#         o = tf.reshape(o, [batch_size, height, width, channels // 2])\n",
    "#         o = self.o_conv(o)\n",
    "        \n",
    "#         # Residual connection with learnable scale\n",
    "#         return x + self.gamma * o\n",
    "    \n",
    "#     def get_config(self):\n",
    "#         config = super(SelfAttention, self).get_config()\n",
    "#         return config\n",
    "\n",
    "\n",
    "# def build_generator():\n",
    "#     '''Deep generator with residual blocks and self-attention for diverse anime faces'''\n",
    "\n",
    "#     def residual_block(x, filters):\n",
    "#         \"\"\"Residual block for better gradient flow\"\"\"\n",
    "#         shortcut = x\n",
    "        \n",
    "#         x = layers.Conv2D(filters, 3, padding='same', use_bias=False)(x)\n",
    "#         x = layers.BatchNormalization(momentum=0.9)(x)\n",
    "#         x = layers.ReLU()(x)\n",
    "#         x = layers.Conv2D(filters, 3, padding='same', use_bias=False)(x)\n",
    "#         x = layers.BatchNormalization(momentum=0.9)(x)\n",
    "        \n",
    "#         # If channel dimensions don't match, project shortcut\n",
    "#         if shortcut.shape[-1] != filters:\n",
    "#             shortcut = layers.Conv2D(filters, 1, padding='same', use_bias=False)(shortcut)\n",
    "        \n",
    "#         x = layers.Add()([x, shortcut])\n",
    "#         x = layers.ReLU()(x)\n",
    "#         return x\n",
    "\n",
    "#     noise_input = layers.Input(shape=(LATENT_DIM,), name='noise_input')\n",
    "\n",
    "#     # Initial dense projection - deeper starting point\n",
    "#     x = layers.Dense(4 * 4 * 1024, use_bias=False)(noise_input)\n",
    "#     x = layers.BatchNormalization(momentum=0.9)(x)\n",
    "#     x = layers.ReLU()(x)\n",
    "#     x = layers.Reshape((4, 4, 1024))(x)\n",
    "    \n",
    "#     # Add residual blocks at initial resolution\n",
    "#     x = residual_block(x, 1024)\n",
    "#     x = residual_block(x, 1024)\n",
    "\n",
    "#     # 4x4 → 8x8, 512 filters\n",
    "#     x = layers.Conv2DTranspose(512, kernel_size=4, strides=2, padding='same', use_bias=False)(x)\n",
    "#     x = layers.BatchNormalization(momentum=0.9)(x)\n",
    "#     x = layers.ReLU()(x)\n",
    "#     x = residual_block(x, 512)\n",
    "\n",
    "#     # 8x8 → 16x16, 512 filters\n",
    "#     x = layers.Conv2DTranspose(512, kernel_size=4, strides=2, padding='same', use_bias=False)(x)\n",
    "#     x = layers.BatchNormalization(momentum=0.9)(x)\n",
    "#     x = layers.ReLU()(x)\n",
    "#     x = residual_block(x, 512)\n",
    "#     x = SelfAttention()(x)  # Add attention at 16x16\n",
    "\n",
    "#     # 16x16 → 32x32, 256 filters\n",
    "#     x = layers.Conv2DTranspose(256, kernel_size=4, strides=2, padding='same', use_bias=False)(x)\n",
    "#     x = layers.BatchNormalization(momentum=0.9)(x)\n",
    "#     x = layers.ReLU()(x)\n",
    "#     x = residual_block(x, 256)\n",
    "\n",
    "#     # 32x32 → 64x64, 128 filters\n",
    "#     x = layers.Conv2DTranspose(128, kernel_size=4, strides=2, padding='same', use_bias=False)(x)\n",
    "#     x = layers.BatchNormalization(momentum=0.9)(x)\n",
    "#     x = layers.ReLU()(x)\n",
    "#     x = residual_block(x, 128)\n",
    "#     #x = SelfAttention()(x)  # Add attention at 64x64\n",
    "\n",
    "#     # 64x64 → 128x128, 64 filters\n",
    "#     x = layers.Conv2DTranspose(64, kernel_size=4, strides=2, padding='same', use_bias=False)(x)\n",
    "#     x = layers.BatchNormalization(momentum=0.9)(x)\n",
    "#     x = layers.ReLU()(x)\n",
    "#     x = residual_block(x, 64)\n",
    "    \n",
    "#     # Final output layer with tanh\n",
    "#     generated_image = layers.Conv2D(3, kernel_size=7, padding='same', \n",
    "#                                    activation='tanh', use_bias=False, name='generated_image')(x)\n",
    "\n",
    "#     generator = keras.Model(inputs=noise_input, outputs=generated_image, name='Generator')\n",
    "#     return generator\n",
    "\n",
    "\n",
    "\n",
    "# def build_discriminator():\n",
    "#     '''Deep discriminator with residual blocks and self-attention'''\n",
    "    \n",
    "#     def residual_block(x, filters):\n",
    "#         \"\"\"Residual block for discriminator\"\"\"\n",
    "#         shortcut = x\n",
    "        \n",
    "#         x = layers.Conv2D(filters, 3, padding='same')(x)\n",
    "#         x = layers.LayerNormalization()(x)\n",
    "#         x = layers.LeakyReLU(alpha=0.2)(x)\n",
    "#         x = layers.Conv2D(filters, 3, padding='same')(x)\n",
    "#         x = layers.LayerNormalization()(x)\n",
    "        \n",
    "#         if shortcut.shape[-1] != filters:\n",
    "#             shortcut = layers.Conv2D(filters, 1, padding='same')(shortcut)\n",
    "        \n",
    "#         x = layers.Add()([x, shortcut])\n",
    "#         x = layers.LeakyReLU(alpha=0.2)(x)\n",
    "#         return x\n",
    "\n",
    "#     image_input = layers.Input(shape=(IMAGE_SIZE, IMAGE_SIZE, 3), name='image_input')\n",
    "\n",
    "#     # 128x128 → 64x64, 64 filters\n",
    "#     x = layers.Conv2D(64, kernel_size=4, strides=2, padding='same')(image_input)\n",
    "#     x = layers.LeakyReLU(alpha=0.2)(x)\n",
    "#     x = residual_block(x, 64)\n",
    "#     #x = SelfAttention()(x)  # Attention at 64x64\n",
    "\n",
    "#     # 64x64 → 32x32, 128 filters\n",
    "#     x = layers.Conv2D(128, kernel_size=4, strides=2, padding='same')(x)\n",
    "#     x = layers.LayerNormalization()(x)\n",
    "#     x = layers.LeakyReLU(alpha=0.2)(x)\n",
    "#     x = layers.Dropout(0.3)(x)\n",
    "#     x = residual_block(x, 128)\n",
    "\n",
    "#     # 32x32 → 16x16, 256 filters\n",
    "#     x = layers.Conv2D(256, kernel_size=4, strides=2, padding='same')(x)\n",
    "#     x = layers.LayerNormalization()(x)\n",
    "#     x = layers.LeakyReLU(alpha=0.2)(x)\n",
    "#     x = layers.Dropout(0.3)(x)\n",
    "#     x = residual_block(x, 256)\n",
    "#     x = SelfAttention()(x)  # Attention at 16x16\n",
    "\n",
    "#     # 16x16 → 8x8, 512 filters\n",
    "#     x = layers.Conv2D(512, kernel_size=4, strides=2, padding='same')(x)\n",
    "#     x = layers.LayerNormalization()(x)\n",
    "#     x = layers.LeakyReLU(alpha=0.2)(x)\n",
    "#     x = layers.Dropout(0.3)(x)\n",
    "#     x = residual_block(x, 512)\n",
    "\n",
    "#     # 8x8 → 4x4, 1024 filters\n",
    "#     x = layers.Conv2D(1024, kernel_size=4, strides=2, padding='same')(x)\n",
    "#     x = layers.LayerNormalization()(x)\n",
    "#     x = layers.LeakyReLU(alpha=0.2)(x)\n",
    "#     x = layers.Dropout(0.3)(x)\n",
    "#     x = residual_block(x, 1024)\n",
    "\n",
    "#     # Final classification\n",
    "#     x = layers.Flatten()(x)\n",
    "#     x = layers.Dense(512)(x)\n",
    "#     x = layers.LeakyReLU(alpha=0.2)(x)\n",
    "#     x = layers.Dropout(0.3)(x)\n",
    "#     validity = layers.Dense(1, activation='sigmoid', name='validity')(x)\n",
    "\n",
    "#     discriminator = keras.Model(inputs=image_input, outputs=validity, name='Discriminator')\n",
    "#     return discriminator\n",
    "\n",
    "def build_generator():\n",
    "    '''Improved generator with better architecture for 128x128 RGB output'''\n",
    "\n",
    "    noise_input = layers.Input(shape=(LATENT_DIM,), name='noise_input')\n",
    "\n",
    "    # Start with 4x4x1024 for 128x128 output\n",
    "    x = layers.Dense(4 * 4 * 1024, use_bias=False)(noise_input)\n",
    "    x = layers.BatchNormalization(momentum=0.9)(x)\n",
    "    x = layers.ReLU()(x)\n",
    "    x = layers.Reshape((4, 4, 1024))(x)\n",
    "\n",
    "    # 4x4 → 8x8, 512 filters\n",
    "    x = layers.Conv2DTranspose(512, kernel_size=4, strides=2, padding='same', use_bias=False)(x)\n",
    "    x = layers.BatchNormalization(momentum=0.9)(x)\n",
    "    x = layers.ReLU()(x)\n",
    "\n",
    "    # 8x8 → 16x16, 256 filters\n",
    "    x = layers.Conv2DTranspose(256, kernel_size=4, strides=2, padding='same', use_bias=False)(x)\n",
    "    x = layers.BatchNormalization(momentum=0.9)(x)\n",
    "    x = layers.ReLU()(x)\n",
    "\n",
    "    # 16x16 → 32x32, 128 filters\n",
    "    x = layers.Conv2DTranspose(128, kernel_size=4, strides=2, padding='same', use_bias=False)(x)\n",
    "    x = layers.BatchNormalization(momentum=0.9)(x)\n",
    "    x = layers.ReLU()(x)\n",
    "\n",
    "    # 32x32 → 64x64, 64 filters\n",
    "    x = layers.Conv2DTranspose(64, kernel_size=4, strides=2, padding='same', use_bias=False)(x)\n",
    "    x = layers.BatchNormalization(momentum=0.9)(x)\n",
    "    x = layers.ReLU()(x)\n",
    "\n",
    "    # 64x64 → 128x128, 3 filters (RGB output) - removed one layer\n",
    "    generated_image = layers.Conv2DTranspose(3, kernel_size=4, strides=2, padding='same', \n",
    "                                           activation='tanh', use_bias=False, name='generated_image')(x)\n",
    "\n",
    "    generator = keras.Model(inputs=noise_input, outputs=generated_image, name='Generator')\n",
    "    return generator\n",
    "\n",
    "def build_discriminator():\n",
    "    '''Improved discriminator with dropout for 128x128 RGB input'''\n",
    "\n",
    "    image_input = layers.Input(shape=(IMAGE_SIZE, IMAGE_SIZE, 3), name='image_input')\n",
    "\n",
    "    # 128x128 → 64x64, 64 filters\n",
    "    x = layers.Conv2D(64, kernel_size=4, strides=2, padding='same')(image_input)\n",
    "    x = layers.LeakyReLU(alpha=0.2)(x)\n",
    "    x = layers.Dropout(0.3)(x)\n",
    "\n",
    "    # 64x64 → 32x32, 128 filters\n",
    "    x = layers.Conv2D(128, kernel_size=4, strides=2, padding='same')(x)\n",
    "    x = layers.BatchNormalization()(x)\n",
    "    x = layers.LeakyReLU(alpha=0.2)(x)\n",
    "    x = layers.Dropout(0.3)(x)\n",
    "\n",
    "    # 32x32 → 16x16, 256 filters\n",
    "    x = layers.Conv2D(256, kernel_size=4, strides=2, padding='same')(x)\n",
    "    x = layers.BatchNormalization()(x)\n",
    "    x = layers.LeakyReLU(alpha=0.2)(x)\n",
    "    x = layers.Dropout(0.3)(x)\n",
    "\n",
    "    # 16x16 → 8x8, 512 filters\n",
    "    x = layers.Conv2D(512, kernel_size=4, strides=2, padding='same')(x)\n",
    "    x = layers.BatchNormalization()(x)\n",
    "    x = layers.LeakyReLU(alpha=0.2)(x)\n",
    "    x = layers.Dropout(0.3)(x)\n",
    "\n",
    "    # 8x8 → 4x4, 1024 filters - removed one layer\n",
    "    x = layers.Conv2D(1024, kernel_size=4, strides=2, padding='same')(x)\n",
    "    x = layers.BatchNormalization()(x)\n",
    "    x = layers.LeakyReLU(alpha=0.2)(x)\n",
    "    x = layers.Dropout(0.3)(x)\n",
    "\n",
    "    # Flatten and output\n",
    "    x = layers.Flatten()(x)\n",
    "    validity = layers.Dense(1, activation='sigmoid', name='validity')(x)\n",
    "\n",
    "    discriminator = keras.Model(inputs=image_input, outputs=validity, name='Discriminator')\n",
    "    return discriminator\n",
    "\n",
    "class ImprovedDCGAN:\n",
    "    '''Improved DCGAN with better training dynamics'''\n",
    "    \n",
    "    def __init__(self, latent_dim=100):\n",
    "        self.latent_dim = latent_dim\n",
    "        \n",
    "        # Build networks\n",
    "        self.generator = build_generator()\n",
    "        self.discriminator = build_discriminator()\n",
    "        \n",
    "        # Different learning rates for G and D\n",
    "        self.gen_optimizer = Adam(learning_rate=0.0001, beta_1=0.5, beta_2=0.999)\n",
    "        self.disc_optimizer = Adam(learning_rate=0.0004, beta_1=0.5, beta_2=0.999)\n",
    "        \n",
    "        # Loss function and metrics\n",
    "        self.loss_fn = keras.losses.BinaryCrossentropy(from_logits=False, label_smoothing=0.1)\n",
    "        self.gen_loss_tracker = keras.metrics.Mean(name=\"generator_loss\")\n",
    "        self.disc_loss_tracker = keras.metrics.Mean(name=\"discriminator_loss\")\n",
    "    \n",
    "    def train_step(self, real_images):\n",
    "        \"\"\"Improved training step with better balance\"\"\"\n",
    "        \n",
    "        real_images = tf.convert_to_tensor(real_images, dtype=tf.float32)\n",
    "        batch_size = tf.shape(real_images)[0]\n",
    "        \n",
    "        # Train discriminator\n",
    "        with tf.GradientTape() as disc_tape:\n",
    "            # Real images with label smoothing\n",
    "            real_validity = self.discriminator(real_images, training=True)\n",
    "            real_labels = tf.ones_like(real_validity) * 0.9\n",
    "            real_loss = self.loss_fn(real_labels, real_validity)\n",
    "            \n",
    "            # Fake images\n",
    "            noise = tf.random.normal([batch_size, self.latent_dim])\n",
    "            generated_images = self.generator(noise, training=True)\n",
    "            fake_validity = self.discriminator(generated_images, training=True)\n",
    "            fake_labels = tf.zeros_like(fake_validity) + 0.1\n",
    "            fake_loss = self.loss_fn(fake_labels, fake_validity)\n",
    "            \n",
    "            disc_loss = (real_loss + fake_loss) / 2\n",
    "            \n",
    "        disc_gradients = disc_tape.gradient(disc_loss, self.discriminator.trainable_variables)\n",
    "        self.disc_optimizer.apply_gradients(zip(disc_gradients, self.discriminator.trainable_variables))\n",
    "        \n",
    "        # Train generator\n",
    "        with tf.GradientTape() as gen_tape:\n",
    "            noise = tf.random.normal([batch_size, self.latent_dim])\n",
    "            generated_images = self.generator(noise, training=True)\n",
    "            validity = self.discriminator(generated_images, training=True)\n",
    "            \n",
    "            # Generator wants discriminator to think images are real\n",
    "            gen_loss = self.loss_fn(tf.ones_like(validity), validity)\n",
    "            \n",
    "        gen_gradients = gen_tape.gradient(gen_loss, self.generator.trainable_variables)\n",
    "        self.gen_optimizer.apply_gradients(zip(gen_gradients, self.generator.trainable_variables))\n",
    "        \n",
    "        # Update metrics\n",
    "        self.gen_loss_tracker.update_state(gen_loss)\n",
    "        self.disc_loss_tracker.update_state(disc_loss)\n",
    "        \n",
    "        return {\n",
    "            \"g_loss\": self.gen_loss_tracker.result(),\n",
    "            \"d_loss\": self.disc_loss_tracker.result(),\n",
    "        }\n",
    "    \n",
    "    def generate_images(self, num_samples=1):\n",
    "        '''Generate images'''\n",
    "        noise = tf.random.normal([num_samples, self.latent_dim])\n",
    "        generated_images = self.generator(noise, training=False)\n",
    "        \n",
    "        # Convert from [-1, 1] to [0, 1] for display\n",
    "        generated_images = (generated_images + 1) / 2.0\n",
    "        \n",
    "        return generated_images.numpy()\n",
    "    \n",
    "    def save_sample_images(self, epoch, num_samples=8):\n",
    "        '''Save sample generated images'''\n",
    "        \n",
    "        generated_images = self.generate_images(num_samples)\n",
    "        \n",
    "        # Calculate grid dimensions dynamically\n",
    "        cols = min(4, num_samples)\n",
    "        rows = (num_samples + cols - 1) // cols\n",
    "        \n",
    "        fig, axes = plt.subplots(rows, cols, figsize=(cols * 3, rows * 3))\n",
    "        \n",
    "        # Handle single row/column cases\n",
    "        if rows == 1 and cols == 1:\n",
    "            axes = [axes]\n",
    "        elif rows == 1 or cols == 1:\n",
    "            axes = axes.flatten() if hasattr(axes, 'flatten') else [axes]\n",
    "        else:\n",
    "            axes = axes.flatten()\n",
    "        \n",
    "        for i in range(num_samples):\n",
    "            axes[i].imshow(generated_images[i])\n",
    "            axes[i].set_title(f'Generated Vivian')\n",
    "            axes[i].axis('off')\n",
    "        \n",
    "        # Hide unused subplots\n",
    "        for i in range(num_samples, len(axes)):\n",
    "            axes[i].axis('off')\n",
    "        \n",
    "        plt.tight_layout()\n",
    "        plt.savefig(f'{RESULT_SAVE_DIR}/new_generated_samples_vivian_epoch_{epoch}.png', dpi=150, bbox_inches='tight')\n",
    "        plt.close()\n",
    "        print(f\"Saved sample images for epoch {epoch}\")\n",
    "\n",
    "    def save_comparison_images(self, epoch, data_generator, num_samples=8):\n",
    "        '''Save comparison between real and generated images'''\n",
    "        \n",
    "        # Get real images from data generator\n",
    "        batch_idx = random.randint(0, len(data_generator) - 1)\n",
    "        real_batch = data_generator[batch_idx]\n",
    "        real_images = real_batch[:num_samples]\n",
    "        \n",
    "        # Generate fake images\n",
    "        generated_images = self.generate_images(num_samples)\n",
    "        \n",
    "        # Create comparison plot\n",
    "        fig, axes = plt.subplots(2, num_samples, figsize=(num_samples * 2, 4))\n",
    "        \n",
    "        for i in range(num_samples):\n",
    "            # Real images (top row)\n",
    "            real_img = (real_images[i] + 1) / 2.0  # Convert from [-1,1] to [0,1]\n",
    "            axes[0, i].imshow(real_img)\n",
    "            axes[0, i].set_title(f'Real Vivian' if i == 0 else '')\n",
    "            axes[0, i].axis('off')\n",
    "            \n",
    "            # Generated images (bottom row)\n",
    "            axes[1, i].imshow(generated_images[i])\n",
    "            axes[1, i].set_title(f'Generated Vivian' if i == 0 else '')\n",
    "            axes[1, i].axis('off')\n",
    "        \n",
    "        plt.tight_layout()\n",
    "        plt.savefig(f'{RESULT_SAVE_DIR}/comparison_vivian_epoch_{epoch}.png', dpi=150, bbox_inches='tight')\n",
    "        plt.close()\n",
    "        print(f\"Saved comparison images for epoch {epoch}\")\n",
    "\n",
    "# %%\n",
    "def train_vivian():\n",
    "    '''Improved training function with better monitoring'''\n",
    "    \n",
    "    print(f\"\\n{'='*60}\")\n",
    "    print(f\"Training Vivian DCGAN\")\n",
    "    print(f\"{'='*60}\")\n",
    "    \n",
    "    # Initialize data generator\n",
    "    data_generator = SingleClassDataGenerator(\n",
    "        dataset_path=DATASET_PATH,\n",
    "        batch_size=BATCH_SIZE,\n",
    "        max_images=MAX_IMAGES_PER_CLASS,\n",
    "        shuffle=True\n",
    "    )\n",
    "    \n",
    "    if len(data_generator.file_list) == 0:\n",
    "        print(f\"No images found in {DATASET_PATH}, stopping...\")\n",
    "        return\n",
    "    \n",
    "    print(f\"Training samples: {len(data_generator.file_list)}\")\n",
    "    print(f\"Batches per epoch: {len(data_generator)}\")\n",
    "    \n",
    "    # Initialize DCGAN\n",
    "    dcgan = ImprovedDCGAN(LATENT_DIM)\n",
    "    \n",
    "    # Create directory for checkpoints\n",
    "    checkpoint_dir = 'checkpoints_128x128/vivian'\n",
    "    os.makedirs(checkpoint_dir, exist_ok=True)\n",
    "    \n",
    "    # Track loss history for better monitoring\n",
    "    g_losses = []\n",
    "    d_losses = []\n",
    "    \n",
    "    # Training loop\n",
    "    for epoch in range(EPOCHS_PER_CLASS):\n",
    "        print(f\"\\nEpoch {epoch + 1}/{EPOCHS_PER_CLASS}\")\n",
    "        \n",
    "        # Reset metrics\n",
    "        dcgan.gen_loss_tracker.reset_state()\n",
    "        dcgan.disc_loss_tracker.reset_state()\n",
    "        \n",
    "        # Training step for each batch\n",
    "        progress_bar = tqdm(range(len(data_generator)), desc=f\"Epoch {epoch + 1}\")\n",
    "        for batch_idx in progress_bar:\n",
    "            real_images = data_generator[batch_idx]\n",
    "            losses = dcgan.train_step(real_images)\n",
    "            \n",
    "            progress_bar.set_postfix({\n",
    "                'G_Loss': f\"{losses['g_loss']:.4f}\",\n",
    "                'D_Loss': f\"{losses['d_loss']:.4f}\",\n",
    "            })\n",
    "        \n",
    "        # Record losses\n",
    "        avg_g_loss = dcgan.gen_loss_tracker.result().numpy()\n",
    "        avg_d_loss = dcgan.disc_loss_tracker.result().numpy()\n",
    "        g_losses.append(avg_g_loss)\n",
    "        d_losses.append(avg_d_loss)\n",
    "        \n",
    "        print(f\"Epoch {epoch + 1} completed - \"\n",
    "              f\"Avg G Loss: {avg_g_loss:.4f}, Avg D Loss: {avg_d_loss:.4f}\")\n",
    "        \n",
    "        # Save sample images every 5 epochs\n",
    "        if (epoch + 1) % 5 == 0 or epoch==0:\n",
    "            dcgan.save_sample_images(epoch + 1)\n",
    "\n",
    "        if (epoch + 1) % 10 == 0:\n",
    "            dcgan.save_comparison_images(epoch + 1, data_generator)\n",
    "        \n",
    "        # Save model checkpoints every 20 epochs\n",
    "        if (epoch + 1) % 30 == 0:\n",
    "            dcgan.generator.save(f'{checkpoint_dir}/generator2_epoch_{epoch+1:03d}.keras')\n",
    "            dcgan.discriminator.save(f'{checkpoint_dir}/discriminator2_epoch_{epoch+1:03d}.keras')\n",
    "            print(f\"Models saved at epoch {epoch + 1}\")\n",
    "        \n",
    "        # Improved early stopping conditions\n",
    "        if avg_d_loss < 0.01:\n",
    "            print(\"Discriminator loss too low, stopping training to prevent mode collapse\")\n",
    "            break\n",
    "            \n",
    "        if avg_g_loss > 6.0:\n",
    "            print(\"Generator loss too high, stopping training\")\n",
    "            break\n",
    "            \n",
    "        # Check for loss explosion (sudden increase)\n",
    "        if epoch > 5:\n",
    "            recent_g_avg = np.mean(g_losses[-5:])\n",
    "            if avg_g_loss > recent_g_avg * 2:\n",
    "                print(\"Generator loss spiking, stopping training\")\n",
    "                break\n",
    "        \n",
    "        # Shuffle data\n",
    "        data_generator.on_epoch_end()\n",
    "    \n",
    "    # Save final models with specified name\n",
    "    dcgan.generator.save('vivianxsp2GenNet.keras')\n",
    "    dcgan.discriminator.save(f'{checkpoint_dir}/final_discriminator.keras')\n",
    "    print(f\"Final generator saved as vivianxspGenNet.keras!\")\n",
    "    \n",
    "    # Generate final sample images\n",
    "    dcgan.save_sample_images(\"final\", 9)\n",
    "    \n",
    "    return dcgan\n",
    "\n",
    "# %%\n",
    "def main():\n",
    "    '''Main training function'''\n",
    "    \n",
    "    if not os.path.exists(DATASET_PATH):\n",
    "        print(\"ERROR: Dataset directory not found!\")\n",
    "        print(\"Please ensure Vivian images are available at:\", DATASET_PATH)\n",
    "        return\n",
    "    \n",
    "    print(\"Starting Vivian DCGAN training...\")\n",
    "    os.makedirs('checkpoints', exist_ok=True)\n",
    "    \n",
    "    try:\n",
    "        dcgan = train_vivian()\n",
    "        print(\"\\nTraining completed successfully!\")\n",
    "        print(f\"Generator saved as: vivianxspGenNet.keras\")\n",
    "            \n",
    "    except KeyboardInterrupt:\n",
    "        print(\"\\nTraining interrupted by user\")\n",
    "    except Exception as e:\n",
    "        print(f\"\\nError during training: {e}\")\n",
    "        import traceback\n",
    "        traceback.print_exc()\n",
    "\n",
    "if __name__ == \"__main__\":\n",
    "    main()\n",
    "\n",
    "# %%"
   ]
  },
  {
   "cell_type": "code",
   "execution_count": null,
   "id": "ca5fa3f1-d48e-4b60-9b32-1f5b1240db49",
   "metadata": {},
   "outputs": [],
   "source": []
  }
 ],
 "metadata": {
  "kernelspec": {
   "display_name": "Python 3 (ipykernel)",
   "language": "python",
   "name": "python3"
  },
  "language_info": {
   "codemirror_mode": {
    "name": "ipython",
    "version": 3
   },
   "file_extension": ".py",
   "mimetype": "text/x-python",
   "name": "python",
   "nbconvert_exporter": "python",
   "pygments_lexer": "ipython3",
   "version": "3.12.3"
  }
 },
 "nbformat": 4,
 "nbformat_minor": 5
}
