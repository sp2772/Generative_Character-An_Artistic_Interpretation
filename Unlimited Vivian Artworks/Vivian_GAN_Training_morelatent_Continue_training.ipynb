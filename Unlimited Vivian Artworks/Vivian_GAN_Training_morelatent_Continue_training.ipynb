{
 "cells": [
  {
   "cell_type": "code",
   "execution_count": null,
   "id": "c30abe6c-e6bf-44ba-90ed-aea1627a6d14",
   "metadata": {},
   "outputs": [
    {
     "name": "stderr",
     "output_type": "stream",
     "text": [
      "2025-10-25 22:06:32.787670: I tensorflow/core/util/port.cc:153] oneDNN custom operations are on. You may see slightly different numerical results due to floating-point round-off errors from different computation orders. To turn them off, set the environment variable `TF_ENABLE_ONEDNN_OPTS=0`.\n",
      "2025-10-25 22:06:35.792003: E external/local_xla/xla/stream_executor/cuda/cuda_fft.cc:477] Unable to register cuFFT factory: Attempting to register factory for plugin cuFFT when one has already been registered\n",
      "WARNING: All log messages before absl::InitializeLog() is called are written to STDERR\n",
      "E0000 00:00:1761397596.837667     490 cuda_dnn.cc:8310] Unable to register cuDNN factory: Attempting to register factory for plugin cuDNN when one has already been registered\n",
      "E0000 00:00:1761397597.175596     490 cuda_blas.cc:1418] Unable to register cuBLAS factory: Attempting to register factory for plugin cuBLAS when one has already been registered\n",
      "2025-10-25 22:06:39.688120: I tensorflow/core/platform/cpu_feature_guard.cc:210] This TensorFlow binary is optimized to use available CPU instructions in performance-critical operations.\n",
      "To enable the following instructions: AVX2 AVX_VNNI FMA, in other operations, rebuild TensorFlow with the appropriate compiler flags.\n"
     ]
    },
    {
     "name": "stdout",
     "output_type": "stream",
     "text": [
      "Starting Vivian DCGAN training with checkpoint resumption...\n",
      "\n",
      "============================================================\n",
      "Training Vivian DCGAN with Checkpoint Resumption\n",
      "============================================================\n",
      "\n",
      "============================================================\n",
      "CHECKPOINT FOUND: Epoch 180\n",
      "============================================================\n",
      "Loading generator from: checkpoints_128x128/vivian/generator2_epoch_180.keras\n",
      "Loading discriminator from: checkpoints_128x128/vivian/discriminator2_epoch_180.keras\n"
     ]
    },
    {
     "name": "stderr",
     "output_type": "stream",
     "text": [
      "I0000 00:00:1761397663.669853     490 gpu_device.cc:2022] Created device /job:localhost/replica:0/task:0/device:GPU:0 with 3620 MB memory:  -> device: 0, name: NVIDIA GeForce RTX 3050 6GB Laptop GPU, pci bus id: 0000:01:00.0, compute capability: 8.6\n"
     ]
    },
    {
     "name": "stdout",
     "output_type": "stream",
     "text": [
      "Models loaded successfully!\n",
      "Resuming training from epoch 181\n",
      "Loading images from: vivian_nsfw_sfw_cropped_combined_faces\n",
      "Found 5836 images\n",
      "Training samples: 5836\n",
      "Batches per epoch: 729\n",
      "Training from epoch 181 to 400\n",
      "\n",
      "Epoch 181/400\n"
     ]
    },
    {
     "name": "stderr",
     "output_type": "stream",
     "text": [
      "I0000 00:00:1761397668.738848     490 cuda_dnn.cc:529] Loaded cuDNN version 90300\n",
      "\n",
      "poch 181: 100%|████████████████████████████████████████| 729/729 [07:52<00:00,  1.54it/s, G_Loss=1.9225, D_Loss=0.4102]"
     ]
    },
    {
     "name": "stdout",
     "output_type": "stream",
     "text": [
      "Epoch 181 completed - Avg G Loss: 1.9225, Avg D Loss: 0.4102\n",
      "Saved sample images for epoch 181\n",
      "\n",
      "Epoch 182/400\n"
     ]
    },
    {
     "name": "stderr",
     "output_type": "stream",
     "text": [
      "\n",
      "poch 182: 100%|████████████████████████████████████████| 729/729 [06:25<00:00,  1.89it/s, G_Loss=1.9201, D_Loss=0.4097]"
     ]
    },
    {
     "name": "stdout",
     "output_type": "stream",
     "text": [
      "Epoch 182 completed - Avg G Loss: 1.9201, Avg D Loss: 0.4097\n",
      "\n",
      "Epoch 183/400\n"
     ]
    },
    {
     "name": "stderr",
     "output_type": "stream",
     "text": [
      "\n",
      "poch 183: 100%|████████████████████████████████████████| 729/729 [06:27<00:00,  1.88it/s, G_Loss=1.9312, D_Loss=0.4106]"
     ]
    },
    {
     "name": "stdout",
     "output_type": "stream",
     "text": [
      "Epoch 183 completed - Avg G Loss: 1.9312, Avg D Loss: 0.4106\n",
      "\n",
      "Epoch 184/400\n"
     ]
    },
    {
     "name": "stderr",
     "output_type": "stream",
     "text": [
      "\n",
      "poch 184: 100%|████████████████████████████████████████| 729/729 [06:39<00:00,  1.83it/s, G_Loss=1.9126, D_Loss=0.4084]"
     ]
    },
    {
     "name": "stdout",
     "output_type": "stream",
     "text": [
      "Epoch 184 completed - Avg G Loss: 1.9126, Avg D Loss: 0.4084\n",
      "\n",
      "Epoch 185/400\n"
     ]
    },
    {
     "name": "stderr",
     "output_type": "stream",
     "text": [
      "\n",
      "poch 185: 100%|████████████████████████████████████████| 729/729 [10:22<00:00,  1.17it/s, G_Loss=1.9195, D_Loss=0.4096]"
     ]
    },
    {
     "name": "stdout",
     "output_type": "stream",
     "text": [
      "Epoch 185 completed - Avg G Loss: 1.9195, Avg D Loss: 0.4096\n",
      "Saved sample images for epoch 185\n",
      "\n",
      "Epoch 186/400\n"
     ]
    },
    {
     "name": "stderr",
     "output_type": "stream",
     "text": [
      "\n",
      "poch 186: 100%|████████████████████████████████████████| 729/729 [14:56<00:00,  1.23s/it, G_Loss=1.9195, D_Loss=0.4098]"
     ]
    },
    {
     "name": "stdout",
     "output_type": "stream",
     "text": [
      "Epoch 186 completed - Avg G Loss: 1.9195, Avg D Loss: 0.4098\n",
      "\n",
      "Epoch 187/400\n"
     ]
    },
    {
     "name": "stderr",
     "output_type": "stream",
     "text": [
      "\n",
      "poch 187: 100%|████████████████████████████████████████| 729/729 [15:49<00:00,  1.30s/it, G_Loss=1.9031, D_Loss=0.4087]"
     ]
    },
    {
     "name": "stdout",
     "output_type": "stream",
     "text": [
      "Epoch 187 completed - Avg G Loss: 1.9031, Avg D Loss: 0.4087\n",
      "\n",
      "Epoch 188/400\n"
     ]
    },
    {
     "name": "stderr",
     "output_type": "stream",
     "text": [
      "\n",
      "poch 188: 100%|████████████████████████████████████████| 729/729 [14:55<00:00,  1.23s/it, G_Loss=1.9064, D_Loss=0.4088]"
     ]
    },
    {
     "name": "stdout",
     "output_type": "stream",
     "text": [
      "Epoch 188 completed - Avg G Loss: 1.9064, Avg D Loss: 0.4088\n",
      "\n",
      "Epoch 189/400\n"
     ]
    },
    {
     "name": "stderr",
     "output_type": "stream",
     "text": [
      "\n",
      "poch 189: 100%|████████████████████████████████████████| 729/729 [14:39<00:00,  1.21s/it, G_Loss=1.9071, D_Loss=0.4079]"
     ]
    },
    {
     "name": "stdout",
     "output_type": "stream",
     "text": [
      "Epoch 189 completed - Avg G Loss: 1.9071, Avg D Loss: 0.4079\n",
      "\n",
      "Epoch 190/400\n"
     ]
    },
    {
     "name": "stderr",
     "output_type": "stream",
     "text": [
      "\n",
      "poch 190: 100%|████████████████████████████████████████| 729/729 [13:44<00:00,  1.13s/it, G_Loss=1.9287, D_Loss=0.4097]"
     ]
    },
    {
     "name": "stdout",
     "output_type": "stream",
     "text": [
      "Epoch 190 completed - Avg G Loss: 1.9287, Avg D Loss: 0.4097\n",
      "Saved sample images for epoch 190\n",
      "Saved comparison images for epoch 190\n",
      "\n",
      "Epoch 191/400\n"
     ]
    },
    {
     "name": "stderr",
     "output_type": "stream",
     "text": [
      "\n",
      "poch 191: 100%|████████████████████████████████████████| 729/729 [15:00<00:00,  1.24s/it, G_Loss=1.9085, D_Loss=0.4088]"
     ]
    },
    {
     "name": "stdout",
     "output_type": "stream",
     "text": [
      "Epoch 191 completed - Avg G Loss: 1.9085, Avg D Loss: 0.4088\n",
      "\n",
      "Epoch 192/400\n"
     ]
    },
    {
     "name": "stderr",
     "output_type": "stream",
     "text": [
      "\n",
      "poch 192: 100%|████████████████████████████████████████| 729/729 [20:30<00:00,  1.69s/it, G_Loss=1.9027, D_Loss=0.4087]"
     ]
    },
    {
     "name": "stdout",
     "output_type": "stream",
     "text": [
      "Epoch 192 completed - Avg G Loss: 1.9027, Avg D Loss: 0.4087\n",
      "\n",
      "Epoch 193/400\n"
     ]
    },
    {
     "name": "stderr",
     "output_type": "stream",
     "text": [
      "\n",
      "poch 193: 100%|████████████████████████████████████████| 729/729 [06:07<00:00,  1.98it/s, G_Loss=1.9082, D_Loss=0.4107]"
     ]
    },
    {
     "name": "stdout",
     "output_type": "stream",
     "text": [
      "Epoch 193 completed - Avg G Loss: 1.9082, Avg D Loss: 0.4107\n",
      "\n",
      "Epoch 194/400\n"
     ]
    },
    {
     "name": "stderr",
     "output_type": "stream",
     "text": [
      "\n",
      "poch 194: 100%|████████████████████████████████████████| 729/729 [06:38<00:00,  1.83it/s, G_Loss=1.9564, D_Loss=0.4121]"
     ]
    },
    {
     "name": "stdout",
     "output_type": "stream",
     "text": [
      "Epoch 194 completed - Avg G Loss: 1.9564, Avg D Loss: 0.4121\n",
      "\n",
      "Epoch 195/400\n"
     ]
    },
    {
     "name": "stderr",
     "output_type": "stream",
     "text": [
      "\n",
      "poch 195: 100%|████████████████████████████████████████| 729/729 [06:58<00:00,  1.74it/s, G_Loss=1.9152, D_Loss=0.4103]"
     ]
    },
    {
     "name": "stdout",
     "output_type": "stream",
     "text": [
      "Epoch 195 completed - Avg G Loss: 1.9152, Avg D Loss: 0.4103\n",
      "Saved sample images for epoch 195\n",
      "\n",
      "Epoch 196/400\n"
     ]
    },
    {
     "name": "stderr",
     "output_type": "stream",
     "text": [
      "\n",
      "poch 196: 100%|████████████████████████████████████████| 729/729 [07:04<00:00,  1.72it/s, G_Loss=1.9083, D_Loss=0.4096]"
     ]
    },
    {
     "name": "stdout",
     "output_type": "stream",
     "text": [
      "Epoch 196 completed - Avg G Loss: 1.9083, Avg D Loss: 0.4096\n",
      "\n",
      "Epoch 197/400\n"
     ]
    },
    {
     "name": "stderr",
     "output_type": "stream",
     "text": [
      "\n",
      "poch 197: 100%|████████████████████████████████████████| 729/729 [08:39<00:00,  1.40it/s, G_Loss=1.9222, D_Loss=0.4104]"
     ]
    },
    {
     "name": "stdout",
     "output_type": "stream",
     "text": [
      "Epoch 197 completed - Avg G Loss: 1.9222, Avg D Loss: 0.4104\n",
      "\n",
      "Epoch 198/400\n"
     ]
    },
    {
     "name": "stderr",
     "output_type": "stream",
     "text": [
      "\n",
      "poch 198: 100%|████████████████████████████████████████| 729/729 [08:28<00:00,  1.43it/s, G_Loss=1.9015, D_Loss=0.4089]"
     ]
    },
    {
     "name": "stdout",
     "output_type": "stream",
     "text": [
      "Epoch 198 completed - Avg G Loss: 1.9015, Avg D Loss: 0.4089\n",
      "\n",
      "Epoch 199/400\n"
     ]
    },
    {
     "name": "stderr",
     "output_type": "stream",
     "text": [
      "\n",
      "poch 199: 100%|████████████████████████████████████████| 729/729 [07:47<00:00,  1.56it/s, G_Loss=1.9129, D_Loss=0.4092]"
     ]
    },
    {
     "name": "stdout",
     "output_type": "stream",
     "text": [
      "Epoch 199 completed - Avg G Loss: 1.9129, Avg D Loss: 0.4092\n",
      "\n",
      "Epoch 200/400\n"
     ]
    },
    {
     "name": "stderr",
     "output_type": "stream",
     "text": [
      "\n",
      "poch 200: 100%|████████████████████████████████████████| 729/729 [16:14<00:00,  1.34s/it, G_Loss=1.8878, D_Loss=0.4087]"
     ]
    },
    {
     "name": "stdout",
     "output_type": "stream",
     "text": [
      "Epoch 200 completed - Avg G Loss: 1.8878, Avg D Loss: 0.4087\n",
      "Saved sample images for epoch 200\n",
      "Saved comparison images for epoch 200\n",
      "\n",
      "Epoch 201/400\n"
     ]
    },
    {
     "name": "stderr",
     "output_type": "stream",
     "text": [
      "\n",
      "poch 201: 100%|████████████████████████████████████████| 729/729 [25:13<00:00,  2.08s/it, G_Loss=1.9295, D_Loss=0.4109]"
     ]
    },
    {
     "name": "stdout",
     "output_type": "stream",
     "text": [
      "Epoch 201 completed - Avg G Loss: 1.9295, Avg D Loss: 0.4109\n",
      "\n",
      "Epoch 202/400\n"
     ]
    },
    {
     "name": "stderr",
     "output_type": "stream",
     "text": [
      "\n",
      "poch 202: 100%|████████████████████████████████████████| 729/729 [09:47<00:00,  1.24it/s, G_Loss=1.9077, D_Loss=0.4083]"
     ]
    },
    {
     "name": "stdout",
     "output_type": "stream",
     "text": [
      "Epoch 202 completed - Avg G Loss: 1.9077, Avg D Loss: 0.4083\n",
      "\n",
      "Epoch 203/400\n"
     ]
    },
    {
     "name": "stderr",
     "output_type": "stream",
     "text": [
      "\n",
      "poch 203: 100%|████████████████████████████████████████| 729/729 [09:27<00:00,  1.29it/s, G_Loss=1.9073, D_Loss=0.4087]"
     ]
    },
    {
     "name": "stdout",
     "output_type": "stream",
     "text": [
      "Epoch 203 completed - Avg G Loss: 1.9073, Avg D Loss: 0.4087\n",
      "\n",
      "Epoch 204/400\n"
     ]
    },
    {
     "name": "stderr",
     "output_type": "stream",
     "text": [
      "\n",
      "poch 204: 100%|████████████████████████████████████████| 729/729 [06:33<00:00,  1.85it/s, G_Loss=1.9003, D_Loss=0.4079]"
     ]
    },
    {
     "name": "stdout",
     "output_type": "stream",
     "text": [
      "Epoch 204 completed - Avg G Loss: 1.9003, Avg D Loss: 0.4079\n",
      "\n",
      "Epoch 205/400\n"
     ]
    },
    {
     "name": "stderr",
     "output_type": "stream",
     "text": [
      "\n",
      "poch 205: 100%|████████████████████████████████████████| 729/729 [06:34<00:00,  1.85it/s, G_Loss=1.9065, D_Loss=0.4103]"
     ]
    },
    {
     "name": "stdout",
     "output_type": "stream",
     "text": [
      "Epoch 205 completed - Avg G Loss: 1.9065, Avg D Loss: 0.4103\n",
      "Saved sample images for epoch 205\n",
      "\n",
      "Epoch 206/400\n"
     ]
    },
    {
     "name": "stderr",
     "output_type": "stream",
     "text": [
      "\n",
      "poch 206: 100%|████████████████████████████████████████| 729/729 [06:40<00:00,  1.82it/s, G_Loss=1.9347, D_Loss=0.4107]"
     ]
    },
    {
     "name": "stdout",
     "output_type": "stream",
     "text": [
      "Epoch 206 completed - Avg G Loss: 1.9347, Avg D Loss: 0.4107\n",
      "\n",
      "Epoch 207/400\n"
     ]
    },
    {
     "name": "stderr",
     "output_type": "stream",
     "text": [
      "\n",
      "poch 207: 100%|████████████████████████████████████████| 729/729 [06:34<00:00,  1.85it/s, G_Loss=1.9192, D_Loss=0.4113]"
     ]
    },
    {
     "name": "stdout",
     "output_type": "stream",
     "text": [
      "Epoch 207 completed - Avg G Loss: 1.9192, Avg D Loss: 0.4113\n",
      "\n",
      "Epoch 208/400\n"
     ]
    },
    {
     "name": "stderr",
     "output_type": "stream",
     "text": [
      "\n",
      "poch 208: 100%|████████████████████████████████████████| 729/729 [06:38<00:00,  1.83it/s, G_Loss=1.9159, D_Loss=0.4097]"
     ]
    },
    {
     "name": "stdout",
     "output_type": "stream",
     "text": [
      "Epoch 208 completed - Avg G Loss: 1.9159, Avg D Loss: 0.4097\n",
      "\n",
      "Epoch 209/400\n"
     ]
    },
    {
     "name": "stderr",
     "output_type": "stream",
     "text": [
      "\n",
      "poch 209: 100%|████████████████████████████████████████| 729/729 [06:32<00:00,  1.86it/s, G_Loss=1.9057, D_Loss=0.4083]"
     ]
    },
    {
     "name": "stdout",
     "output_type": "stream",
     "text": [
      "Epoch 209 completed - Avg G Loss: 1.9057, Avg D Loss: 0.4083\n",
      "\n",
      "Epoch 210/400\n"
     ]
    },
    {
     "name": "stderr",
     "output_type": "stream",
     "text": [
      "\n",
      "poch 210: 100%|████████████████████████████████████████| 729/729 [06:47<00:00,  1.79it/s, G_Loss=1.8998, D_Loss=0.4078]"
     ]
    },
    {
     "name": "stdout",
     "output_type": "stream",
     "text": [
      "Epoch 210 completed - Avg G Loss: 1.8998, Avg D Loss: 0.4078\n",
      "Saved sample images for epoch 210\n",
      "Saved comparison images for epoch 210\n",
      "Models saved at epoch 210\n",
      "\n",
      "Epoch 211/400\n"
     ]
    },
    {
     "name": "stderr",
     "output_type": "stream",
     "text": [
      "\n",
      "poch 211: 100%|████████████████████████████████████████| 729/729 [06:38<00:00,  1.83it/s, G_Loss=1.8963, D_Loss=0.4078]"
     ]
    },
    {
     "name": "stdout",
     "output_type": "stream",
     "text": [
      "Epoch 211 completed - Avg G Loss: 1.8963, Avg D Loss: 0.4078\n",
      "\n",
      "Epoch 212/400\n"
     ]
    },
    {
     "name": "stderr",
     "output_type": "stream",
     "text": [
      "\n",
      "poch 212: 100%|████████████████████████████████████████| 729/729 [06:35<00:00,  1.85it/s, G_Loss=1.9047, D_Loss=0.4080]"
     ]
    },
    {
     "name": "stdout",
     "output_type": "stream",
     "text": [
      "Epoch 212 completed - Avg G Loss: 1.9047, Avg D Loss: 0.4080\n",
      "\n",
      "Epoch 213/400\n"
     ]
    },
    {
     "name": "stderr",
     "output_type": "stream",
     "text": [
      "\n",
      "poch 213: 100%|████████████████████████████████████████| 729/729 [06:36<00:00,  1.84it/s, G_Loss=1.9078, D_Loss=0.4097]"
     ]
    },
    {
     "name": "stdout",
     "output_type": "stream",
     "text": [
      "Epoch 213 completed - Avg G Loss: 1.9078, Avg D Loss: 0.4097\n",
      "\n",
      "Epoch 214/400\n"
     ]
    },
    {
     "name": "stderr",
     "output_type": "stream",
     "text": [
      "\n",
      "poch 214: 100%|████████████████████████████████████████| 729/729 [06:34<00:00,  1.85it/s, G_Loss=1.9295, D_Loss=0.4100]"
     ]
    },
    {
     "name": "stdout",
     "output_type": "stream",
     "text": [
      "Epoch 214 completed - Avg G Loss: 1.9295, Avg D Loss: 0.4100\n",
      "\n",
      "Epoch 215/400\n"
     ]
    },
    {
     "name": "stderr",
     "output_type": "stream",
     "text": [
      "\n",
      "poch 215: 100%|████████████████████████████████████████| 729/729 [06:36<00:00,  1.84it/s, G_Loss=1.9028, D_Loss=0.4085]"
     ]
    },
    {
     "name": "stdout",
     "output_type": "stream",
     "text": [
      "Epoch 215 completed - Avg G Loss: 1.9028, Avg D Loss: 0.4085\n",
      "Saved sample images for epoch 215\n",
      "\n",
      "Epoch 216/400\n"
     ]
    },
    {
     "name": "stderr",
     "output_type": "stream",
     "text": [
      "\n",
      "poch 216: 100%|████████████████████████████████████████| 729/729 [06:41<00:00,  1.81it/s, G_Loss=1.9070, D_Loss=0.4090]"
     ]
    },
    {
     "name": "stdout",
     "output_type": "stream",
     "text": [
      "Epoch 216 completed - Avg G Loss: 1.9070, Avg D Loss: 0.4090\n",
      "\n",
      "Epoch 217/400\n"
     ]
    },
    {
     "name": "stderr",
     "output_type": "stream",
     "text": [
      "\n",
      "poch 217: 100%|████████████████████████████████████████| 729/729 [06:43<00:00,  1.81it/s, G_Loss=1.9098, D_Loss=0.4098]"
     ]
    },
    {
     "name": "stdout",
     "output_type": "stream",
     "text": [
      "Epoch 217 completed - Avg G Loss: 1.9098, Avg D Loss: 0.4098\n",
      "\n",
      "Epoch 218/400\n"
     ]
    },
    {
     "name": "stderr",
     "output_type": "stream",
     "text": [
      "\n",
      "poch 218: 100%|████████████████████████████████████████| 729/729 [06:42<00:00,  1.81it/s, G_Loss=1.8883, D_Loss=0.4077]"
     ]
    },
    {
     "name": "stdout",
     "output_type": "stream",
     "text": [
      "Epoch 218 completed - Avg G Loss: 1.8883, Avg D Loss: 0.4077\n",
      "\n",
      "Epoch 219/400\n"
     ]
    },
    {
     "name": "stderr",
     "output_type": "stream",
     "text": [
      "\n",
      "poch 219: 100%|████████████████████████████████████████| 729/729 [07:24<00:00,  1.64it/s, G_Loss=1.9307, D_Loss=0.4144]"
     ]
    },
    {
     "name": "stdout",
     "output_type": "stream",
     "text": [
      "Epoch 219 completed - Avg G Loss: 1.9307, Avg D Loss: 0.4144\n",
      "\n",
      "Epoch 220/400\n"
     ]
    },
    {
     "name": "stderr",
     "output_type": "stream",
     "text": [
      "\n",
      "poch 220: 100%|████████████████████████████████████████| 729/729 [10:38<00:00,  1.14it/s, G_Loss=1.9267, D_Loss=0.4108]"
     ]
    },
    {
     "name": "stdout",
     "output_type": "stream",
     "text": [
      "Epoch 220 completed - Avg G Loss: 1.9267, Avg D Loss: 0.4108\n",
      "Saved sample images for epoch 220\n",
      "Saved comparison images for epoch 220\n",
      "\n",
      "Epoch 221/400\n"
     ]
    },
    {
     "name": "stderr",
     "output_type": "stream",
     "text": [
      "\n",
      "poch 221: 100%|████████████████████████████████████████| 729/729 [06:38<00:00,  1.83it/s, G_Loss=1.9046, D_Loss=0.4092]"
     ]
    },
    {
     "name": "stdout",
     "output_type": "stream",
     "text": [
      "Epoch 221 completed - Avg G Loss: 1.9046, Avg D Loss: 0.4092\n",
      "\n",
      "Epoch 222/400\n"
     ]
    },
    {
     "name": "stderr",
     "output_type": "stream",
     "text": [
      "\n",
      "poch 222: 100%|████████████████████████████████████████| 729/729 [06:29<00:00,  1.87it/s, G_Loss=1.8963, D_Loss=0.4084]"
     ]
    },
    {
     "name": "stdout",
     "output_type": "stream",
     "text": [
      "Epoch 222 completed - Avg G Loss: 1.8963, Avg D Loss: 0.4084\n",
      "\n",
      "Epoch 223/400\n"
     ]
    },
    {
     "name": "stderr",
     "output_type": "stream",
     "text": [
      "\n",
      "poch 223: 100%|████████████████████████████████████████| 729/729 [06:25<00:00,  1.89it/s, G_Loss=1.9010, D_Loss=0.4082]"
     ]
    },
    {
     "name": "stdout",
     "output_type": "stream",
     "text": [
      "Epoch 223 completed - Avg G Loss: 1.9010, Avg D Loss: 0.4082\n",
      "\n",
      "Epoch 224/400\n"
     ]
    },
    {
     "name": "stderr",
     "output_type": "stream",
     "text": [
      "\n",
      "poch 224: 100%|████████████████████████████████████████| 729/729 [06:19<00:00,  1.92it/s, G_Loss=1.9228, D_Loss=0.4094]"
     ]
    },
    {
     "name": "stdout",
     "output_type": "stream",
     "text": [
      "Epoch 224 completed - Avg G Loss: 1.9228, Avg D Loss: 0.4094\n",
      "\n",
      "Epoch 225/400\n"
     ]
    },
    {
     "name": "stderr",
     "output_type": "stream",
     "text": [
      "\n",
      "poch 225: 100%|████████████████████████████████████████| 729/729 [06:25<00:00,  1.89it/s, G_Loss=1.9339, D_Loss=0.4114]"
     ]
    },
    {
     "name": "stdout",
     "output_type": "stream",
     "text": [
      "Epoch 225 completed - Avg G Loss: 1.9339, Avg D Loss: 0.4114\n",
      "Saved sample images for epoch 225\n",
      "\n",
      "Epoch 226/400\n"
     ]
    },
    {
     "name": "stderr",
     "output_type": "stream",
     "text": [
      "\n",
      "poch 226: 100%|████████████████████████████████████████| 729/729 [06:29<00:00,  1.87it/s, G_Loss=1.9164, D_Loss=0.4092]"
     ]
    },
    {
     "name": "stdout",
     "output_type": "stream",
     "text": [
      "Epoch 226 completed - Avg G Loss: 1.9164, Avg D Loss: 0.4092\n",
      "\n",
      "Epoch 227/400\n"
     ]
    },
    {
     "name": "stderr",
     "output_type": "stream",
     "text": [
      "\n",
      "poch 227: 100%|████████████████████████████████████████| 729/729 [06:36<00:00,  1.84it/s, G_Loss=1.8975, D_Loss=0.4089]"
     ]
    },
    {
     "name": "stdout",
     "output_type": "stream",
     "text": [
      "Epoch 227 completed - Avg G Loss: 1.8975, Avg D Loss: 0.4089\n",
      "\n",
      "Epoch 228/400\n"
     ]
    },
    {
     "name": "stderr",
     "output_type": "stream",
     "text": [
      "\n",
      "poch 228: 100%|████████████████████████████████████████| 729/729 [06:58<00:00,  1.74it/s, G_Loss=1.9145, D_Loss=0.4095]"
     ]
    },
    {
     "name": "stdout",
     "output_type": "stream",
     "text": [
      "Epoch 228 completed - Avg G Loss: 1.9145, Avg D Loss: 0.4095\n",
      "\n",
      "Epoch 229/400\n"
     ]
    },
    {
     "name": "stderr",
     "output_type": "stream",
     "text": [
      "\n",
      "poch 229: 100%|████████████████████████████████████████| 729/729 [06:57<00:00,  1.74it/s, G_Loss=1.8961, D_Loss=0.4082]"
     ]
    },
    {
     "name": "stdout",
     "output_type": "stream",
     "text": [
      "Epoch 229 completed - Avg G Loss: 1.8961, Avg D Loss: 0.4082\n",
      "\n",
      "Epoch 230/400\n"
     ]
    },
    {
     "name": "stderr",
     "output_type": "stream",
     "text": [
      "\n",
      "poch 230: 100%|████████████████████████████████████████| 729/729 [06:54<00:00,  1.76it/s, G_Loss=1.8954, D_Loss=0.4080]"
     ]
    },
    {
     "name": "stdout",
     "output_type": "stream",
     "text": [
      "Epoch 230 completed - Avg G Loss: 1.8954, Avg D Loss: 0.4080\n",
      "Saved sample images for epoch 230\n",
      "Saved comparison images for epoch 230\n",
      "\n",
      "Epoch 231/400\n"
     ]
    },
    {
     "name": "stderr",
     "output_type": "stream",
     "text": [
      "\n",
      "poch 231: 100%|████████████████████████████████████████| 729/729 [06:58<00:00,  1.74it/s, G_Loss=1.8963, D_Loss=0.4080]"
     ]
    },
    {
     "name": "stdout",
     "output_type": "stream",
     "text": [
      "Epoch 231 completed - Avg G Loss: 1.8963, Avg D Loss: 0.4080\n",
      "\n",
      "Epoch 232/400\n"
     ]
    },
    {
     "name": "stderr",
     "output_type": "stream",
     "text": [
      "\n",
      "poch 232: 100%|████████████████████████████████████████| 729/729 [06:57<00:00,  1.75it/s, G_Loss=1.9030, D_Loss=0.4076]"
     ]
    },
    {
     "name": "stdout",
     "output_type": "stream",
     "text": [
      "Epoch 232 completed - Avg G Loss: 1.9030, Avg D Loss: 0.4076\n",
      "\n",
      "Epoch 233/400\n"
     ]
    },
    {
     "name": "stderr",
     "output_type": "stream",
     "text": [
      "\n",
      "poch 233: 100%|████████████████████████████████████████| 729/729 [06:57<00:00,  1.75it/s, G_Loss=1.9242, D_Loss=0.4105]"
     ]
    },
    {
     "name": "stdout",
     "output_type": "stream",
     "text": [
      "Epoch 233 completed - Avg G Loss: 1.9242, Avg D Loss: 0.4105\n",
      "\n",
      "Epoch 234/400\n"
     ]
    },
    {
     "name": "stderr",
     "output_type": "stream",
     "text": [
      "\n",
      "poch 234: 100%|████████████████████████████████████████| 729/729 [07:00<00:00,  1.73it/s, G_Loss=1.9065, D_Loss=0.4082]"
     ]
    },
    {
     "name": "stdout",
     "output_type": "stream",
     "text": [
      "Epoch 234 completed - Avg G Loss: 1.9065, Avg D Loss: 0.4082\n",
      "\n",
      "Epoch 235/400\n"
     ]
    },
    {
     "name": "stderr",
     "output_type": "stream",
     "text": [
      "\n",
      "poch 235: 100%|████████████████████████████████████████| 729/729 [06:58<00:00,  1.74it/s, G_Loss=1.9062, D_Loss=0.4084]"
     ]
    },
    {
     "name": "stdout",
     "output_type": "stream",
     "text": [
      "Epoch 235 completed - Avg G Loss: 1.9062, Avg D Loss: 0.4084\n",
      "Saved sample images for epoch 235\n",
      "\n",
      "Epoch 236/400\n"
     ]
    },
    {
     "name": "stderr",
     "output_type": "stream",
     "text": [
      "\n",
      "poch 236: 100%|████████████████████████████████████████| 729/729 [07:00<00:00,  1.74it/s, G_Loss=1.9112, D_Loss=0.4088]"
     ]
    },
    {
     "name": "stdout",
     "output_type": "stream",
     "text": [
      "Epoch 236 completed - Avg G Loss: 1.9112, Avg D Loss: 0.4088\n",
      "\n",
      "Epoch 237/400\n"
     ]
    },
    {
     "name": "stderr",
     "output_type": "stream",
     "text": [
      "\n",
      "poch 237: 100%|████████████████████████████████████████| 729/729 [06:57<00:00,  1.74it/s, G_Loss=1.8981, D_Loss=0.4078]"
     ]
    },
    {
     "name": "stdout",
     "output_type": "stream",
     "text": [
      "Epoch 237 completed - Avg G Loss: 1.8981, Avg D Loss: 0.4078\n",
      "\n",
      "Epoch 238/400\n"
     ]
    },
    {
     "name": "stderr",
     "output_type": "stream",
     "text": [
      "\n",
      "poch 238: 100%|████████████████████████████████████████| 729/729 [07:02<00:00,  1.72it/s, G_Loss=1.8972, D_Loss=0.4081]"
     ]
    },
    {
     "name": "stdout",
     "output_type": "stream",
     "text": [
      "Epoch 238 completed - Avg G Loss: 1.8972, Avg D Loss: 0.4081\n",
      "\n",
      "Epoch 239/400\n"
     ]
    },
    {
     "name": "stderr",
     "output_type": "stream",
     "text": [
      "\n",
      "poch 239: 100%|████████████████████████████████████████| 729/729 [06:59<00:00,  1.74it/s, G_Loss=1.9372, D_Loss=0.4117]"
     ]
    },
    {
     "name": "stdout",
     "output_type": "stream",
     "text": [
      "Epoch 239 completed - Avg G Loss: 1.9372, Avg D Loss: 0.4117\n",
      "\n",
      "Epoch 240/400\n"
     ]
    },
    {
     "name": "stderr",
     "output_type": "stream",
     "text": [
      "\n",
      "poch 240: 100%|████████████████████████████████████████| 729/729 [06:58<00:00,  1.74it/s, G_Loss=1.8988, D_Loss=0.4087]"
     ]
    },
    {
     "name": "stdout",
     "output_type": "stream",
     "text": [
      "Epoch 240 completed - Avg G Loss: 1.8988, Avg D Loss: 0.4087\n",
      "Saved sample images for epoch 240\n",
      "Saved comparison images for epoch 240\n",
      "Models saved at epoch 240\n",
      "\n",
      "Epoch 241/400\n"
     ]
    },
    {
     "name": "stderr",
     "output_type": "stream",
     "text": [
      "\n",
      "poch 241: 100%|████████████████████████████████████████| 729/729 [06:55<00:00,  1.76it/s, G_Loss=1.8916, D_Loss=0.4075]"
     ]
    },
    {
     "name": "stdout",
     "output_type": "stream",
     "text": [
      "Epoch 241 completed - Avg G Loss: 1.8916, Avg D Loss: 0.4075\n",
      "\n",
      "Epoch 242/400\n"
     ]
    },
    {
     "name": "stderr",
     "output_type": "stream",
     "text": [
      "\n",
      "poch 242: 100%|████████████████████████████████████████| 729/729 [07:04<00:00,  1.72it/s, G_Loss=1.9067, D_Loss=0.4085]"
     ]
    },
    {
     "name": "stdout",
     "output_type": "stream",
     "text": [
      "Epoch 242 completed - Avg G Loss: 1.9067, Avg D Loss: 0.4085\n",
      "\n",
      "Epoch 243/400\n"
     ]
    },
    {
     "name": "stderr",
     "output_type": "stream",
     "text": [
      "\n",
      "poch 243: 100%|████████████████████████████████████████| 729/729 [06:55<00:00,  1.75it/s, G_Loss=1.9087, D_Loss=0.4083]"
     ]
    },
    {
     "name": "stdout",
     "output_type": "stream",
     "text": [
      "Epoch 243 completed - Avg G Loss: 1.9087, Avg D Loss: 0.4083\n",
      "\n",
      "Epoch 244/400\n"
     ]
    },
    {
     "name": "stderr",
     "output_type": "stream",
     "text": [
      "\n",
      "poch 244: 100%|████████████████████████████████████████| 729/729 [07:00<00:00,  1.73it/s, G_Loss=1.8919, D_Loss=0.4083]"
     ]
    },
    {
     "name": "stdout",
     "output_type": "stream",
     "text": [
      "Epoch 244 completed - Avg G Loss: 1.8919, Avg D Loss: 0.4083\n",
      "\n",
      "Epoch 245/400\n"
     ]
    },
    {
     "name": "stderr",
     "output_type": "stream",
     "text": [
      "\n",
      "poch 245: 100%|████████████████████████████████████████| 729/729 [06:58<00:00,  1.74it/s, G_Loss=1.9255, D_Loss=0.4120]"
     ]
    },
    {
     "name": "stdout",
     "output_type": "stream",
     "text": [
      "Epoch 245 completed - Avg G Loss: 1.9255, Avg D Loss: 0.4120\n",
      "Saved sample images for epoch 245\n",
      "\n",
      "Epoch 246/400\n"
     ]
    },
    {
     "name": "stderr",
     "output_type": "stream",
     "text": [
      "\n",
      "poch 246: 100%|████████████████████████████████████████| 729/729 [06:58<00:00,  1.74it/s, G_Loss=1.9354, D_Loss=0.4116]"
     ]
    },
    {
     "name": "stdout",
     "output_type": "stream",
     "text": [
      "Epoch 246 completed - Avg G Loss: 1.9354, Avg D Loss: 0.4116\n",
      "\n",
      "Epoch 247/400\n"
     ]
    },
    {
     "name": "stderr",
     "output_type": "stream",
     "text": [
      "\n",
      "poch 247: 100%|████████████████████████████████████████| 729/729 [06:56<00:00,  1.75it/s, G_Loss=1.9028, D_Loss=0.4096]"
     ]
    },
    {
     "name": "stdout",
     "output_type": "stream",
     "text": [
      "Epoch 247 completed - Avg G Loss: 1.9028, Avg D Loss: 0.4096\n",
      "\n",
      "Epoch 248/400\n"
     ]
    },
    {
     "name": "stderr",
     "output_type": "stream",
     "text": [
      "\n",
      "poch 248: 100%|████████████████████████████████████████| 729/729 [06:58<00:00,  1.74it/s, G_Loss=1.8965, D_Loss=0.4087]"
     ]
    },
    {
     "name": "stdout",
     "output_type": "stream",
     "text": [
      "Epoch 248 completed - Avg G Loss: 1.8965, Avg D Loss: 0.4087\n",
      "\n",
      "Epoch 249/400\n"
     ]
    },
    {
     "name": "stderr",
     "output_type": "stream",
     "text": [
      "\n",
      "poch 249: 100%|████████████████████████████████████████| 729/729 [06:56<00:00,  1.75it/s, G_Loss=1.8984, D_Loss=0.4081]"
     ]
    },
    {
     "name": "stdout",
     "output_type": "stream",
     "text": [
      "Epoch 249 completed - Avg G Loss: 1.8984, Avg D Loss: 0.4081\n",
      "\n",
      "Epoch 250/400\n"
     ]
    },
    {
     "name": "stderr",
     "output_type": "stream",
     "text": [
      "\n",
      "poch 250: 100%|████████████████████████████████████████| 729/729 [06:58<00:00,  1.74it/s, G_Loss=1.8945, D_Loss=0.4080]"
     ]
    },
    {
     "name": "stdout",
     "output_type": "stream",
     "text": [
      "Epoch 250 completed - Avg G Loss: 1.8945, Avg D Loss: 0.4080\n",
      "Saved sample images for epoch 250\n",
      "Saved comparison images for epoch 250\n",
      "\n",
      "Epoch 251/400\n"
     ]
    },
    {
     "name": "stderr",
     "output_type": "stream",
     "text": [
      "\n",
      "poch 251: 100%|████████████████████████████████████████| 729/729 [06:46<00:00,  1.79it/s, G_Loss=1.9222, D_Loss=0.4106]"
     ]
    },
    {
     "name": "stdout",
     "output_type": "stream",
     "text": [
      "Epoch 251 completed - Avg G Loss: 1.9222, Avg D Loss: 0.4106\n",
      "\n",
      "Epoch 252/400\n"
     ]
    },
    {
     "name": "stderr",
     "output_type": "stream",
     "text": [
      "\n",
      "poch 252: 100%|████████████████████████████████████████| 729/729 [06:56<00:00,  1.75it/s, G_Loss=1.9066, D_Loss=0.4093]"
     ]
    },
    {
     "name": "stdout",
     "output_type": "stream",
     "text": [
      "Epoch 252 completed - Avg G Loss: 1.9066, Avg D Loss: 0.4093\n",
      "\n",
      "Epoch 253/400\n"
     ]
    },
    {
     "name": "stderr",
     "output_type": "stream",
     "text": [
      "\n",
      "poch 253: 100%|████████████████████████████████████████| 729/729 [07:00<00:00,  1.73it/s, G_Loss=1.9157, D_Loss=0.4084]"
     ]
    },
    {
     "name": "stdout",
     "output_type": "stream",
     "text": [
      "Epoch 253 completed - Avg G Loss: 1.9157, Avg D Loss: 0.4084\n",
      "\n",
      "Epoch 254/400\n"
     ]
    },
    {
     "name": "stderr",
     "output_type": "stream",
     "text": [
      "\n",
      "poch 254: 100%|████████████████████████████████████████| 729/729 [07:00<00:00,  1.73it/s, G_Loss=1.9069, D_Loss=0.4086]"
     ]
    },
    {
     "name": "stdout",
     "output_type": "stream",
     "text": [
      "Epoch 254 completed - Avg G Loss: 1.9069, Avg D Loss: 0.4086\n",
      "\n",
      "Epoch 255/400\n"
     ]
    },
    {
     "name": "stderr",
     "output_type": "stream",
     "text": [
      "\n",
      "poch 255: 100%|████████████████████████████████████████| 729/729 [06:59<00:00,  1.74it/s, G_Loss=1.8946, D_Loss=0.4082]"
     ]
    },
    {
     "name": "stdout",
     "output_type": "stream",
     "text": [
      "Epoch 255 completed - Avg G Loss: 1.8946, Avg D Loss: 0.4082\n",
      "Saved sample images for epoch 255\n",
      "\n",
      "Epoch 256/400\n"
     ]
    },
    {
     "name": "stderr",
     "output_type": "stream",
     "text": [
      "\n",
      "poch 256: 100%|████████████████████████████████████████| 729/729 [06:52<00:00,  1.77it/s, G_Loss=1.9297, D_Loss=0.4103]"
     ]
    },
    {
     "name": "stdout",
     "output_type": "stream",
     "text": [
      "Epoch 256 completed - Avg G Loss: 1.9297, Avg D Loss: 0.4103\n",
      "\n",
      "Epoch 257/400\n"
     ]
    },
    {
     "name": "stderr",
     "output_type": "stream",
     "text": [
      "\n",
      "poch 257: 100%|████████████████████████████████████████| 729/729 [07:37<00:00,  1.60it/s, G_Loss=1.9179, D_Loss=0.4106]"
     ]
    },
    {
     "name": "stdout",
     "output_type": "stream",
     "text": [
      "Epoch 257 completed - Avg G Loss: 1.9179, Avg D Loss: 0.4106\n",
      "\n",
      "Epoch 258/400\n"
     ]
    },
    {
     "name": "stderr",
     "output_type": "stream",
     "text": [
      "\n",
      "poch 258: 100%|████████████████████████████████████████| 729/729 [07:52<00:00,  1.54it/s, G_Loss=1.8922, D_Loss=0.4086]"
     ]
    },
    {
     "name": "stdout",
     "output_type": "stream",
     "text": [
      "Epoch 258 completed - Avg G Loss: 1.8922, Avg D Loss: 0.4086\n",
      "\n",
      "Epoch 259/400\n"
     ]
    },
    {
     "name": "stderr",
     "output_type": "stream",
     "text": [
      "\n",
      "poch 259: 100%|████████████████████████████████████████| 729/729 [06:58<00:00,  1.74it/s, G_Loss=1.8844, D_Loss=0.4074]"
     ]
    },
    {
     "name": "stdout",
     "output_type": "stream",
     "text": [
      "Epoch 259 completed - Avg G Loss: 1.8844, Avg D Loss: 0.4074\n",
      "\n",
      "Epoch 260/400\n"
     ]
    },
    {
     "name": "stderr",
     "output_type": "stream",
     "text": [
      "\n",
      "poch 260: 100%|████████████████████████████████████████| 729/729 [06:57<00:00,  1.75it/s, G_Loss=1.8980, D_Loss=0.4084]"
     ]
    },
    {
     "name": "stdout",
     "output_type": "stream",
     "text": [
      "Epoch 260 completed - Avg G Loss: 1.8980, Avg D Loss: 0.4084\n",
      "Saved sample images for epoch 260\n",
      "Saved comparison images for epoch 260\n",
      "\n",
      "Epoch 261/400\n"
     ]
    },
    {
     "name": "stderr",
     "output_type": "stream",
     "text": [
      "\n",
      "poch 261: 100%|████████████████████████████████████████| 729/729 [06:57<00:00,  1.75it/s, G_Loss=1.9060, D_Loss=0.4089]"
     ]
    },
    {
     "name": "stdout",
     "output_type": "stream",
     "text": [
      "Epoch 261 completed - Avg G Loss: 1.9060, Avg D Loss: 0.4089\n",
      "\n",
      "Epoch 262/400\n"
     ]
    },
    {
     "name": "stderr",
     "output_type": "stream",
     "text": [
      "\n",
      "poch 262: 100%|████████████████████████████████████████| 729/729 [06:52<00:00,  1.77it/s, G_Loss=1.9010, D_Loss=0.4089]"
     ]
    },
    {
     "name": "stdout",
     "output_type": "stream",
     "text": [
      "Epoch 262 completed - Avg G Loss: 1.9010, Avg D Loss: 0.4089\n",
      "\n",
      "Epoch 263/400\n"
     ]
    },
    {
     "name": "stderr",
     "output_type": "stream",
     "text": [
      "\n",
      "poch 263: 100%|████████████████████████████████████████| 729/729 [06:55<00:00,  1.76it/s, G_Loss=1.8993, D_Loss=0.4085]"
     ]
    },
    {
     "name": "stdout",
     "output_type": "stream",
     "text": [
      "Epoch 263 completed - Avg G Loss: 1.8993, Avg D Loss: 0.4085\n",
      "\n",
      "Epoch 264/400\n"
     ]
    },
    {
     "name": "stderr",
     "output_type": "stream",
     "text": [
      "\n",
      "poch 264: 100%|████████████████████████████████████████| 729/729 [06:57<00:00,  1.75it/s, G_Loss=1.8964, D_Loss=0.4077]"
     ]
    },
    {
     "name": "stdout",
     "output_type": "stream",
     "text": [
      "Epoch 264 completed - Avg G Loss: 1.8964, Avg D Loss: 0.4077\n",
      "\n",
      "Epoch 265/400\n"
     ]
    },
    {
     "name": "stderr",
     "output_type": "stream",
     "text": [
      "\n",
      "poch 265: 100%|████████████████████████████████████████| 729/729 [06:54<00:00,  1.76it/s, G_Loss=1.8921, D_Loss=0.4076]"
     ]
    },
    {
     "name": "stdout",
     "output_type": "stream",
     "text": [
      "Epoch 265 completed - Avg G Loss: 1.8921, Avg D Loss: 0.4076\n",
      "Saved sample images for epoch 265\n",
      "\n",
      "Epoch 266/400\n"
     ]
    },
    {
     "name": "stderr",
     "output_type": "stream",
     "text": [
      "\n",
      "poch 266: 100%|████████████████████████████████████████| 729/729 [06:55<00:00,  1.76it/s, G_Loss=1.8977, D_Loss=0.4086]"
     ]
    },
    {
     "name": "stdout",
     "output_type": "stream",
     "text": [
      "Epoch 266 completed - Avg G Loss: 1.8977, Avg D Loss: 0.4086\n",
      "\n",
      "Epoch 267/400\n"
     ]
    },
    {
     "name": "stderr",
     "output_type": "stream",
     "text": [
      "\n",
      "poch 267: 100%|████████████████████████████████████████| 729/729 [06:58<00:00,  1.74it/s, G_Loss=1.8905, D_Loss=0.4077]"
     ]
    },
    {
     "name": "stdout",
     "output_type": "stream",
     "text": [
      "Epoch 267 completed - Avg G Loss: 1.8905, Avg D Loss: 0.4077\n",
      "\n",
      "Epoch 268/400\n"
     ]
    },
    {
     "name": "stderr",
     "output_type": "stream",
     "text": [
      "\n",
      "poch 268: 100%|████████████████████████████████████████| 729/729 [06:57<00:00,  1.75it/s, G_Loss=1.9387, D_Loss=0.4118]"
     ]
    },
    {
     "name": "stdout",
     "output_type": "stream",
     "text": [
      "Epoch 268 completed - Avg G Loss: 1.9387, Avg D Loss: 0.4118\n",
      "\n",
      "Epoch 269/400\n"
     ]
    },
    {
     "name": "stderr",
     "output_type": "stream",
     "text": [
      "\n",
      "poch 269: 100%|████████████████████████████████████████| 729/729 [06:57<00:00,  1.74it/s, G_Loss=1.8882, D_Loss=0.4075]"
     ]
    },
    {
     "name": "stdout",
     "output_type": "stream",
     "text": [
      "Epoch 269 completed - Avg G Loss: 1.8882, Avg D Loss: 0.4075\n",
      "\n",
      "Epoch 270/400\n"
     ]
    },
    {
     "name": "stderr",
     "output_type": "stream",
     "text": [
      "\n",
      "poch 270: 100%|████████████████████████████████████████| 729/729 [06:56<00:00,  1.75it/s, G_Loss=1.9062, D_Loss=0.4095]"
     ]
    },
    {
     "name": "stdout",
     "output_type": "stream",
     "text": [
      "Epoch 270 completed - Avg G Loss: 1.9062, Avg D Loss: 0.4095\n",
      "Saved sample images for epoch 270\n",
      "Saved comparison images for epoch 270\n",
      "Models saved at epoch 270\n",
      "\n",
      "Epoch 271/400\n"
     ]
    },
    {
     "name": "stderr",
     "output_type": "stream",
     "text": [
      "\n",
      "poch 271: 100%|████████████████████████████████████████| 729/729 [06:58<00:00,  1.74it/s, G_Loss=1.9013, D_Loss=0.4092]"
     ]
    },
    {
     "name": "stdout",
     "output_type": "stream",
     "text": [
      "Epoch 271 completed - Avg G Loss: 1.9013, Avg D Loss: 0.4092\n",
      "\n",
      "Epoch 272/400\n"
     ]
    },
    {
     "name": "stderr",
     "output_type": "stream",
     "text": [
      "\n",
      "poch 272: 100%|████████████████████████████████████████| 729/729 [06:58<00:00,  1.74it/s, G_Loss=1.8929, D_Loss=0.4091]"
     ]
    },
    {
     "name": "stdout",
     "output_type": "stream",
     "text": [
      "Epoch 272 completed - Avg G Loss: 1.8929, Avg D Loss: 0.4091\n",
      "\n",
      "Epoch 273/400\n"
     ]
    },
    {
     "name": "stderr",
     "output_type": "stream",
     "text": [
      "\n",
      "poch 273: 100%|████████████████████████████████████████| 729/729 [06:52<00:00,  1.77it/s, G_Loss=1.8926, D_Loss=0.4074]"
     ]
    },
    {
     "name": "stdout",
     "output_type": "stream",
     "text": [
      "Epoch 273 completed - Avg G Loss: 1.8926, Avg D Loss: 0.4074\n",
      "\n",
      "Epoch 274/400\n"
     ]
    },
    {
     "name": "stderr",
     "output_type": "stream",
     "text": [
      "\n",
      "poch 274: 100%|████████████████████████████████████████| 729/729 [06:57<00:00,  1.75it/s, G_Loss=1.8856, D_Loss=0.4067]"
     ]
    },
    {
     "name": "stdout",
     "output_type": "stream",
     "text": [
      "Epoch 274 completed - Avg G Loss: 1.8856, Avg D Loss: 0.4067\n",
      "\n",
      "Epoch 275/400\n"
     ]
    },
    {
     "name": "stderr",
     "output_type": "stream",
     "text": [
      "\n",
      "poch 275: 100%|████████████████████████████████████████| 729/729 [06:56<00:00,  1.75it/s, G_Loss=1.8844, D_Loss=0.4070]"
     ]
    },
    {
     "name": "stdout",
     "output_type": "stream",
     "text": [
      "Epoch 275 completed - Avg G Loss: 1.8844, Avg D Loss: 0.4070\n",
      "Saved sample images for epoch 275\n",
      "\n",
      "Epoch 276/400\n"
     ]
    },
    {
     "name": "stderr",
     "output_type": "stream",
     "text": [
      "\n",
      "poch 276: 100%|████████████████████████████████████████| 729/729 [07:00<00:00,  1.74it/s, G_Loss=1.8980, D_Loss=0.4085]"
     ]
    },
    {
     "name": "stdout",
     "output_type": "stream",
     "text": [
      "Epoch 276 completed - Avg G Loss: 1.8980, Avg D Loss: 0.4085\n",
      "\n",
      "Epoch 277/400\n"
     ]
    },
    {
     "name": "stderr",
     "output_type": "stream",
     "text": [
      "\n",
      "poch 277: 100%|████████████████████████████████████████| 729/729 [06:53<00:00,  1.76it/s, G_Loss=1.9158, D_Loss=0.4087]"
     ]
    },
    {
     "name": "stdout",
     "output_type": "stream",
     "text": [
      "Epoch 277 completed - Avg G Loss: 1.9158, Avg D Loss: 0.4087\n",
      "\n",
      "Epoch 278/400\n"
     ]
    },
    {
     "name": "stderr",
     "output_type": "stream",
     "text": [
      "\n",
      "poch 278: 100%|████████████████████████████████████████| 729/729 [06:54<00:00,  1.76it/s, G_Loss=1.8977, D_Loss=0.4081]"
     ]
    },
    {
     "name": "stdout",
     "output_type": "stream",
     "text": [
      "Epoch 278 completed - Avg G Loss: 1.8977, Avg D Loss: 0.4081\n",
      "\n",
      "Epoch 279/400\n"
     ]
    },
    {
     "name": "stderr",
     "output_type": "stream",
     "text": [
      "\n",
      "poch 279: 100%|████████████████████████████████████████| 729/729 [06:54<00:00,  1.76it/s, G_Loss=1.9026, D_Loss=0.4105]"
     ]
    },
    {
     "name": "stdout",
     "output_type": "stream",
     "text": [
      "Epoch 279 completed - Avg G Loss: 1.9026, Avg D Loss: 0.4105\n",
      "\n",
      "Epoch 280/400\n"
     ]
    },
    {
     "name": "stderr",
     "output_type": "stream",
     "text": [
      "\n",
      "poch 280: 100%|████████████████████████████████████████| 729/729 [06:52<00:00,  1.77it/s, G_Loss=1.8916, D_Loss=0.4090]"
     ]
    },
    {
     "name": "stdout",
     "output_type": "stream",
     "text": [
      "Epoch 280 completed - Avg G Loss: 1.8916, Avg D Loss: 0.4090\n",
      "Saved sample images for epoch 280\n",
      "Saved comparison images for epoch 280\n",
      "\n",
      "Epoch 281/400\n"
     ]
    },
    {
     "name": "stderr",
     "output_type": "stream",
     "text": [
      "\n",
      "poch 281: 100%|████████████████████████████████████████| 729/729 [06:49<00:00,  1.78it/s, G_Loss=1.8994, D_Loss=0.4080]"
     ]
    },
    {
     "name": "stdout",
     "output_type": "stream",
     "text": [
      "Epoch 281 completed - Avg G Loss: 1.8994, Avg D Loss: 0.4080\n",
      "\n",
      "Epoch 282/400\n"
     ]
    },
    {
     "name": "stderr",
     "output_type": "stream",
     "text": [
      "\n",
      "poch 282: 100%|████████████████████████████████████████| 729/729 [06:48<00:00,  1.78it/s, G_Loss=1.9054, D_Loss=0.4095]"
     ]
    },
    {
     "name": "stdout",
     "output_type": "stream",
     "text": [
      "Epoch 282 completed - Avg G Loss: 1.9054, Avg D Loss: 0.4095\n",
      "\n",
      "Epoch 283/400\n"
     ]
    },
    {
     "name": "stderr",
     "output_type": "stream",
     "text": [
      "\n",
      "poch 283: 100%|████████████████████████████████████████| 729/729 [06:50<00:00,  1.78it/s, G_Loss=1.8949, D_Loss=0.4080]"
     ]
    },
    {
     "name": "stdout",
     "output_type": "stream",
     "text": [
      "Epoch 283 completed - Avg G Loss: 1.8949, Avg D Loss: 0.4080\n",
      "\n",
      "Epoch 284/400\n"
     ]
    },
    {
     "name": "stderr",
     "output_type": "stream",
     "text": [
      "\n",
      "poch 284: 100%|████████████████████████████████████████| 729/729 [06:53<00:00,  1.76it/s, G_Loss=1.8853, D_Loss=0.4079]"
     ]
    },
    {
     "name": "stdout",
     "output_type": "stream",
     "text": [
      "Epoch 284 completed - Avg G Loss: 1.8853, Avg D Loss: 0.4079\n",
      "\n",
      "Epoch 285/400\n"
     ]
    },
    {
     "name": "stderr",
     "output_type": "stream",
     "text": [
      "\n",
      "poch 285: 100%|████████████████████████████████████████| 729/729 [06:53<00:00,  1.76it/s, G_Loss=1.8847, D_Loss=0.4080]"
     ]
    },
    {
     "name": "stdout",
     "output_type": "stream",
     "text": [
      "Epoch 285 completed - Avg G Loss: 1.8847, Avg D Loss: 0.4080\n",
      "Saved sample images for epoch 285\n",
      "\n",
      "Epoch 286/400\n"
     ]
    },
    {
     "name": "stderr",
     "output_type": "stream",
     "text": [
      "\n",
      "poch 286: 100%|████████████████████████████████████████| 729/729 [06:48<00:00,  1.79it/s, G_Loss=1.8903, D_Loss=0.4076]"
     ]
    },
    {
     "name": "stdout",
     "output_type": "stream",
     "text": [
      "Epoch 286 completed - Avg G Loss: 1.8903, Avg D Loss: 0.4076\n",
      "\n",
      "Epoch 287/400\n"
     ]
    },
    {
     "name": "stderr",
     "output_type": "stream",
     "text": [
      "\n",
      "poch 287: 100%|████████████████████████████████████████| 729/729 [06:44<00:00,  1.80it/s, G_Loss=1.8864, D_Loss=0.4064]"
     ]
    },
    {
     "name": "stdout",
     "output_type": "stream",
     "text": [
      "Epoch 287 completed - Avg G Loss: 1.8864, Avg D Loss: 0.4064\n",
      "\n",
      "Epoch 288/400\n"
     ]
    },
    {
     "name": "stderr",
     "output_type": "stream",
     "text": [
      "\n",
      "poch 288: 100%|████████████████████████████████████████| 729/729 [06:47<00:00,  1.79it/s, G_Loss=1.8788, D_Loss=0.4074]"
     ]
    },
    {
     "name": "stdout",
     "output_type": "stream",
     "text": [
      "Epoch 288 completed - Avg G Loss: 1.8788, Avg D Loss: 0.4074\n",
      "\n",
      "Epoch 289/400\n"
     ]
    },
    {
     "name": "stderr",
     "output_type": "stream",
     "text": [
      "\n",
      "poch 289: 100%|████████████████████████████████████████| 729/729 [06:43<00:00,  1.81it/s, G_Loss=1.8823, D_Loss=0.4065]"
     ]
    },
    {
     "name": "stdout",
     "output_type": "stream",
     "text": [
      "Epoch 289 completed - Avg G Loss: 1.8823, Avg D Loss: 0.4065\n",
      "\n",
      "Epoch 290/400\n"
     ]
    },
    {
     "name": "stderr",
     "output_type": "stream",
     "text": [
      "\n",
      "poch 290: 100%|████████████████████████████████████████| 729/729 [06:23<00:00,  1.90it/s, G_Loss=1.8770, D_Loss=0.4061]"
     ]
    },
    {
     "name": "stdout",
     "output_type": "stream",
     "text": [
      "Epoch 290 completed - Avg G Loss: 1.8770, Avg D Loss: 0.4061\n",
      "Saved sample images for epoch 290\n",
      "Saved comparison images for epoch 290\n",
      "\n",
      "Epoch 291/400\n"
     ]
    },
    {
     "name": "stderr",
     "output_type": "stream",
     "text": [
      "\n",
      "poch 291: 100%|████████████████████████████████████████| 729/729 [07:11<00:00,  1.69it/s, G_Loss=1.8792, D_Loss=0.4059]"
     ]
    },
    {
     "name": "stdout",
     "output_type": "stream",
     "text": [
      "Epoch 291 completed - Avg G Loss: 1.8792, Avg D Loss: 0.4059\n",
      "\n",
      "Epoch 292/400\n"
     ]
    },
    {
     "name": "stderr",
     "output_type": "stream",
     "text": [
      "\n",
      "poch 292: 100%|████████████████████████████████████████| 729/729 [06:58<00:00,  1.74it/s, G_Loss=1.9134, D_Loss=0.4098]"
     ]
    },
    {
     "name": "stdout",
     "output_type": "stream",
     "text": [
      "Epoch 292 completed - Avg G Loss: 1.9134, Avg D Loss: 0.4098\n",
      "\n",
      "Epoch 293/400\n"
     ]
    },
    {
     "name": "stderr",
     "output_type": "stream",
     "text": [
      "\n",
      "poch 293: 100%|████████████████████████████████████████| 729/729 [06:28<00:00,  1.88it/s, G_Loss=1.9409, D_Loss=0.4110]"
     ]
    },
    {
     "name": "stdout",
     "output_type": "stream",
     "text": [
      "Epoch 293 completed - Avg G Loss: 1.9409, Avg D Loss: 0.4110\n",
      "\n",
      "Epoch 294/400\n"
     ]
    },
    {
     "name": "stderr",
     "output_type": "stream",
     "text": [
      "\n",
      "poch 294: 100%|████████████████████████████████████████| 729/729 [06:31<00:00,  1.86it/s, G_Loss=1.8929, D_Loss=0.4086]"
     ]
    },
    {
     "name": "stdout",
     "output_type": "stream",
     "text": [
      "Epoch 294 completed - Avg G Loss: 1.8929, Avg D Loss: 0.4086\n",
      "\n",
      "Epoch 295/400\n"
     ]
    },
    {
     "name": "stderr",
     "output_type": "stream",
     "text": [
      "\n",
      "poch 295: 100%|████████████████████████████████████████| 729/729 [06:32<00:00,  1.86it/s, G_Loss=1.9110, D_Loss=0.4096]"
     ]
    },
    {
     "name": "stdout",
     "output_type": "stream",
     "text": [
      "Epoch 295 completed - Avg G Loss: 1.9110, Avg D Loss: 0.4096\n",
      "Saved sample images for epoch 295\n",
      "\n",
      "Epoch 296/400\n"
     ]
    },
    {
     "name": "stderr",
     "output_type": "stream",
     "text": [
      "\n",
      "poch 296: 100%|████████████████████████████████████████| 729/729 [06:41<00:00,  1.82it/s, G_Loss=1.9087, D_Loss=0.4102]"
     ]
    },
    {
     "name": "stdout",
     "output_type": "stream",
     "text": [
      "Epoch 296 completed - Avg G Loss: 1.9087, Avg D Loss: 0.4102\n",
      "\n",
      "Epoch 297/400\n"
     ]
    },
    {
     "name": "stderr",
     "output_type": "stream",
     "text": [
      "\n",
      "poch 297: 100%|████████████████████████████████████████| 729/729 [06:33<00:00,  1.85it/s, G_Loss=1.8970, D_Loss=0.4079]"
     ]
    },
    {
     "name": "stdout",
     "output_type": "stream",
     "text": [
      "Epoch 297 completed - Avg G Loss: 1.8970, Avg D Loss: 0.4079\n",
      "\n",
      "Epoch 298/400\n"
     ]
    },
    {
     "name": "stderr",
     "output_type": "stream",
     "text": [
      "\n",
      "poch 298: 100%|████████████████████████████████████████| 729/729 [07:04<00:00,  1.72it/s, G_Loss=1.8888, D_Loss=0.4073]"
     ]
    },
    {
     "name": "stdout",
     "output_type": "stream",
     "text": [
      "Epoch 298 completed - Avg G Loss: 1.8888, Avg D Loss: 0.4073\n",
      "\n",
      "Epoch 299/400\n"
     ]
    },
    {
     "name": "stderr",
     "output_type": "stream",
     "text": [
      "\n",
      "poch 299: 100%|████████████████████████████████████████| 729/729 [07:04<00:00,  1.72it/s, G_Loss=1.8888, D_Loss=0.4083]"
     ]
    },
    {
     "name": "stdout",
     "output_type": "stream",
     "text": [
      "Epoch 299 completed - Avg G Loss: 1.8888, Avg D Loss: 0.4083\n",
      "\n",
      "Epoch 300/400\n"
     ]
    },
    {
     "name": "stderr",
     "output_type": "stream",
     "text": [
      "\n",
      "poch 300: 100%|████████████████████████████████████████| 729/729 [06:35<00:00,  1.84it/s, G_Loss=1.8968, D_Loss=0.4087]"
     ]
    },
    {
     "name": "stdout",
     "output_type": "stream",
     "text": [
      "Epoch 300 completed - Avg G Loss: 1.8968, Avg D Loss: 0.4087\n",
      "Saved sample images for epoch 300\n",
      "Saved comparison images for epoch 300\n",
      "Models saved at epoch 300\n",
      "\n",
      "Epoch 301/400\n"
     ]
    },
    {
     "name": "stderr",
     "output_type": "stream",
     "text": [
      "\n",
      "poch 301: 100%|████████████████████████████████████████| 729/729 [06:34<00:00,  1.85it/s, G_Loss=1.8830, D_Loss=0.4068]"
     ]
    },
    {
     "name": "stdout",
     "output_type": "stream",
     "text": [
      "Epoch 301 completed - Avg G Loss: 1.8830, Avg D Loss: 0.4068\n",
      "\n",
      "Epoch 302/400\n"
     ]
    },
    {
     "name": "stderr",
     "output_type": "stream",
     "text": [
      "\n",
      "poch 302: 100%|████████████████████████████████████████| 729/729 [06:30<00:00,  1.86it/s, G_Loss=1.9113, D_Loss=0.4103]"
     ]
    },
    {
     "name": "stdout",
     "output_type": "stream",
     "text": [
      "Epoch 302 completed - Avg G Loss: 1.9113, Avg D Loss: 0.4103\n",
      "\n",
      "Epoch 303/400\n"
     ]
    },
    {
     "name": "stderr",
     "output_type": "stream",
     "text": [
      "\n",
      "poch 303: 100%|████████████████████████████████████████| 729/729 [06:32<00:00,  1.86it/s, G_Loss=1.8928, D_Loss=0.4079]"
     ]
    },
    {
     "name": "stdout",
     "output_type": "stream",
     "text": [
      "Epoch 303 completed - Avg G Loss: 1.8928, Avg D Loss: 0.4079\n",
      "\n",
      "Epoch 304/400\n"
     ]
    },
    {
     "name": "stderr",
     "output_type": "stream",
     "text": [
      "\n",
      "poch 304: 100%|████████████████████████████████████████| 729/729 [07:09<00:00,  1.70it/s, G_Loss=1.8846, D_Loss=0.4066]"
     ]
    },
    {
     "name": "stdout",
     "output_type": "stream",
     "text": [
      "Epoch 304 completed - Avg G Loss: 1.8846, Avg D Loss: 0.4066\n",
      "\n",
      "Epoch 305/400\n"
     ]
    },
    {
     "name": "stderr",
     "output_type": "stream",
     "text": [
      "\n",
      "poch 305: 100%|████████████████████████████████████████| 729/729 [07:12<00:00,  1.68it/s, G_Loss=1.9027, D_Loss=0.4082]"
     ]
    },
    {
     "name": "stdout",
     "output_type": "stream",
     "text": [
      "Epoch 305 completed - Avg G Loss: 1.9027, Avg D Loss: 0.4082\n",
      "Saved sample images for epoch 305\n",
      "\n",
      "Epoch 306/400\n"
     ]
    },
    {
     "name": "stderr",
     "output_type": "stream",
     "text": [
      "\n",
      "poch 306: 100%|████████████████████████████████████████| 729/729 [07:21<00:00,  1.65it/s, G_Loss=1.8991, D_Loss=0.4071]"
     ]
    },
    {
     "name": "stdout",
     "output_type": "stream",
     "text": [
      "Epoch 306 completed - Avg G Loss: 1.8991, Avg D Loss: 0.4071\n",
      "\n",
      "Epoch 307/400\n"
     ]
    },
    {
     "name": "stderr",
     "output_type": "stream",
     "text": [
      "\n",
      "poch 307: 100%|████████████████████████████████████████| 729/729 [07:22<00:00,  1.65it/s, G_Loss=1.8938, D_Loss=0.4078]"
     ]
    },
    {
     "name": "stdout",
     "output_type": "stream",
     "text": [
      "Epoch 307 completed - Avg G Loss: 1.8938, Avg D Loss: 0.4078\n",
      "\n",
      "Epoch 308/400\n"
     ]
    },
    {
     "name": "stderr",
     "output_type": "stream",
     "text": [
      "\n",
      "poch 308: 100%|████████████████████████████████████████| 729/729 [07:07<00:00,  1.70it/s, G_Loss=1.8935, D_Loss=0.4077]"
     ]
    },
    {
     "name": "stdout",
     "output_type": "stream",
     "text": [
      "Epoch 308 completed - Avg G Loss: 1.8935, Avg D Loss: 0.4077\n",
      "\n",
      "Epoch 309/400\n"
     ]
    },
    {
     "name": "stderr",
     "output_type": "stream",
     "text": [
      "\n",
      "poch 309: 100%|████████████████████████████████████████| 729/729 [07:07<00:00,  1.71it/s, G_Loss=1.8975, D_Loss=0.4079]"
     ]
    },
    {
     "name": "stdout",
     "output_type": "stream",
     "text": [
      "Epoch 309 completed - Avg G Loss: 1.8975, Avg D Loss: 0.4079\n",
      "\n",
      "Epoch 310/400\n"
     ]
    },
    {
     "name": "stderr",
     "output_type": "stream",
     "text": [
      "\n",
      "poch 310: 100%|████████████████████████████████████████| 729/729 [07:07<00:00,  1.70it/s, G_Loss=1.8861, D_Loss=0.4074]"
     ]
    },
    {
     "name": "stdout",
     "output_type": "stream",
     "text": [
      "Epoch 310 completed - Avg G Loss: 1.8861, Avg D Loss: 0.4074\n",
      "Saved sample images for epoch 310\n",
      "Saved comparison images for epoch 310\n",
      "\n",
      "Epoch 311/400\n"
     ]
    },
    {
     "name": "stderr",
     "output_type": "stream",
     "text": [
      "\n",
      "poch 311: 100%|████████████████████████████████████████| 729/729 [06:59<00:00,  1.74it/s, G_Loss=1.9046, D_Loss=0.4089]"
     ]
    },
    {
     "name": "stdout",
     "output_type": "stream",
     "text": [
      "Epoch 311 completed - Avg G Loss: 1.9046, Avg D Loss: 0.4089\n",
      "\n",
      "Epoch 312/400\n"
     ]
    },
    {
     "name": "stderr",
     "output_type": "stream",
     "text": [
      "\n",
      "poch 312: 100%|████████████████████████████████████████| 729/729 [07:16<00:00,  1.67it/s, G_Loss=1.8960, D_Loss=0.4090]"
     ]
    },
    {
     "name": "stdout",
     "output_type": "stream",
     "text": [
      "Epoch 312 completed - Avg G Loss: 1.8960, Avg D Loss: 0.4090\n",
      "\n",
      "Epoch 313/400\n"
     ]
    },
    {
     "name": "stderr",
     "output_type": "stream",
     "text": [
      "\n",
      "poch 313: 100%|████████████████████████████████████████| 729/729 [07:20<00:00,  1.66it/s, G_Loss=1.8963, D_Loss=0.4078]"
     ]
    },
    {
     "name": "stdout",
     "output_type": "stream",
     "text": [
      "Epoch 313 completed - Avg G Loss: 1.8963, Avg D Loss: 0.4078\n",
      "\n",
      "Epoch 314/400\n"
     ]
    },
    {
     "name": "stderr",
     "output_type": "stream",
     "text": [
      "\n",
      "poch 314: 100%|████████████████████████████████████████| 729/729 [07:10<00:00,  1.69it/s, G_Loss=1.9229, D_Loss=0.4109]"
     ]
    },
    {
     "name": "stdout",
     "output_type": "stream",
     "text": [
      "Epoch 314 completed - Avg G Loss: 1.9229, Avg D Loss: 0.4109\n",
      "\n",
      "Epoch 315/400\n"
     ]
    },
    {
     "name": "stderr",
     "output_type": "stream",
     "text": [
      "\n",
      "poch 315: 100%|████████████████████████████████████████| 729/729 [07:03<00:00,  1.72it/s, G_Loss=1.8899, D_Loss=0.4094]"
     ]
    },
    {
     "name": "stdout",
     "output_type": "stream",
     "text": [
      "Epoch 315 completed - Avg G Loss: 1.8899, Avg D Loss: 0.4094\n",
      "Saved sample images for epoch 315\n",
      "\n",
      "Epoch 316/400\n"
     ]
    },
    {
     "name": "stderr",
     "output_type": "stream",
     "text": [
      "\n",
      "poch 316: 100%|████████████████████████████████████████| 729/729 [06:59<00:00,  1.74it/s, G_Loss=1.8880, D_Loss=0.4072]"
     ]
    },
    {
     "name": "stdout",
     "output_type": "stream",
     "text": [
      "Epoch 316 completed - Avg G Loss: 1.8880, Avg D Loss: 0.4072\n",
      "\n",
      "Epoch 317/400\n"
     ]
    },
    {
     "name": "stderr",
     "output_type": "stream",
     "text": [
      "\n",
      "poch 317: 100%|████████████████████████████████████████| 729/729 [07:04<00:00,  1.72it/s, G_Loss=1.8934, D_Loss=0.4089]"
     ]
    },
    {
     "name": "stdout",
     "output_type": "stream",
     "text": [
      "Epoch 317 completed - Avg G Loss: 1.8934, Avg D Loss: 0.4089\n",
      "\n",
      "Epoch 318/400\n"
     ]
    },
    {
     "name": "stderr",
     "output_type": "stream",
     "text": [
      "\n",
      "poch 318: 100%|████████████████████████████████████████| 729/729 [06:55<00:00,  1.75it/s, G_Loss=1.9029, D_Loss=0.4080]"
     ]
    },
    {
     "name": "stdout",
     "output_type": "stream",
     "text": [
      "Epoch 318 completed - Avg G Loss: 1.9029, Avg D Loss: 0.4080\n",
      "\n",
      "Epoch 319/400\n"
     ]
    },
    {
     "name": "stderr",
     "output_type": "stream",
     "text": [
      "\n",
      "poch 319: 100%|████████████████████████████████████████| 729/729 [06:49<00:00,  1.78it/s, G_Loss=1.8965, D_Loss=0.4103]"
     ]
    },
    {
     "name": "stdout",
     "output_type": "stream",
     "text": [
      "Epoch 319 completed - Avg G Loss: 1.8965, Avg D Loss: 0.4103\n",
      "\n",
      "Epoch 320/400\n"
     ]
    },
    {
     "name": "stderr",
     "output_type": "stream",
     "text": [
      "\n",
      "poch 320: 100%|████████████████████████████████████████| 729/729 [06:46<00:00,  1.79it/s, G_Loss=1.8979, D_Loss=0.4077]"
     ]
    },
    {
     "name": "stdout",
     "output_type": "stream",
     "text": [
      "Epoch 320 completed - Avg G Loss: 1.8979, Avg D Loss: 0.4077\n",
      "Saved sample images for epoch 320\n",
      "Saved comparison images for epoch 320\n",
      "\n",
      "Epoch 321/400\n"
     ]
    },
    {
     "name": "stderr",
     "output_type": "stream",
     "text": [
      "\n",
      "poch 321: 100%|████████████████████████████████████████| 729/729 [06:52<00:00,  1.77it/s, G_Loss=1.8884, D_Loss=0.4074]"
     ]
    },
    {
     "name": "stdout",
     "output_type": "stream",
     "text": [
      "Epoch 321 completed - Avg G Loss: 1.8884, Avg D Loss: 0.4074\n",
      "\n",
      "Epoch 322/400\n"
     ]
    },
    {
     "name": "stderr",
     "output_type": "stream",
     "text": [
      "\n",
      "poch 322: 100%|████████████████████████████████████████| 729/729 [06:43<00:00,  1.81it/s, G_Loss=1.8808, D_Loss=0.4062]"
     ]
    },
    {
     "name": "stdout",
     "output_type": "stream",
     "text": [
      "Epoch 322 completed - Avg G Loss: 1.8808, Avg D Loss: 0.4062\n",
      "\n",
      "Epoch 323/400\n"
     ]
    },
    {
     "name": "stderr",
     "output_type": "stream",
     "text": [
      "\n",
      "poch 323: 100%|████████████████████████████████████████| 729/729 [06:48<00:00,  1.78it/s, G_Loss=1.9007, D_Loss=0.4072]"
     ]
    },
    {
     "name": "stdout",
     "output_type": "stream",
     "text": [
      "Epoch 323 completed - Avg G Loss: 1.9007, Avg D Loss: 0.4072\n",
      "\n",
      "Epoch 324/400\n"
     ]
    },
    {
     "name": "stderr",
     "output_type": "stream",
     "text": [
      "\n",
      "poch 324: 100%|████████████████████████████████████████| 729/729 [06:57<00:00,  1.75it/s, G_Loss=1.8875, D_Loss=0.4081]"
     ]
    },
    {
     "name": "stdout",
     "output_type": "stream",
     "text": [
      "Epoch 324 completed - Avg G Loss: 1.8875, Avg D Loss: 0.4081\n",
      "\n",
      "Epoch 325/400\n"
     ]
    },
    {
     "name": "stderr",
     "output_type": "stream",
     "text": [
      "\n",
      "poch 325: 100%|████████████████████████████████████████| 729/729 [06:52<00:00,  1.77it/s, G_Loss=1.8813, D_Loss=0.4073]"
     ]
    },
    {
     "name": "stdout",
     "output_type": "stream",
     "text": [
      "Epoch 325 completed - Avg G Loss: 1.8813, Avg D Loss: 0.4073\n",
      "Saved sample images for epoch 325\n",
      "\n",
      "Epoch 326/400\n"
     ]
    },
    {
     "name": "stderr",
     "output_type": "stream",
     "text": [
      "\n",
      "poch 326: 100%|████████████████████████████████████████| 729/729 [06:54<00:00,  1.76it/s, G_Loss=1.9009, D_Loss=0.4078]"
     ]
    },
    {
     "name": "stdout",
     "output_type": "stream",
     "text": [
      "Epoch 326 completed - Avg G Loss: 1.9009, Avg D Loss: 0.4078\n",
      "\n",
      "Epoch 327/400\n"
     ]
    },
    {
     "name": "stderr",
     "output_type": "stream",
     "text": [
      "\n",
      "poch 327: 100%|████████████████████████████████████████| 729/729 [06:44<00:00,  1.80it/s, G_Loss=1.8937, D_Loss=0.4080]"
     ]
    },
    {
     "name": "stdout",
     "output_type": "stream",
     "text": [
      "Epoch 327 completed - Avg G Loss: 1.8937, Avg D Loss: 0.4080\n",
      "\n",
      "Epoch 328/400\n"
     ]
    },
    {
     "name": "stderr",
     "output_type": "stream",
     "text": [
      "\n",
      "poch 328: 100%|████████████████████████████████████████| 729/729 [06:46<00:00,  1.79it/s, G_Loss=1.9179, D_Loss=0.4101]"
     ]
    },
    {
     "name": "stdout",
     "output_type": "stream",
     "text": [
      "Epoch 328 completed - Avg G Loss: 1.9179, Avg D Loss: 0.4101\n",
      "\n",
      "Epoch 329/400\n"
     ]
    },
    {
     "name": "stderr",
     "output_type": "stream",
     "text": [
      "\n",
      "poch 329: 100%|████████████████████████████████████████| 729/729 [06:51<00:00,  1.77it/s, G_Loss=1.8871, D_Loss=0.4086]"
     ]
    },
    {
     "name": "stdout",
     "output_type": "stream",
     "text": [
      "Epoch 329 completed - Avg G Loss: 1.8871, Avg D Loss: 0.4086\n",
      "\n",
      "Epoch 330/400\n"
     ]
    },
    {
     "name": "stderr",
     "output_type": "stream",
     "text": [
      "\n",
      "poch 330: 100%|████████████████████████████████████████| 729/729 [07:01<00:00,  1.73it/s, G_Loss=1.9087, D_Loss=0.4092]"
     ]
    },
    {
     "name": "stdout",
     "output_type": "stream",
     "text": [
      "Epoch 330 completed - Avg G Loss: 1.9087, Avg D Loss: 0.4092\n",
      "Saved sample images for epoch 330\n",
      "Saved comparison images for epoch 330\n",
      "Models saved at epoch 330\n",
      "\n",
      "Epoch 331/400\n"
     ]
    },
    {
     "name": "stderr",
     "output_type": "stream",
     "text": [
      "\n",
      "poch 331: 100%|████████████████████████████████████████| 729/729 [06:59<00:00,  1.74it/s, G_Loss=1.8944, D_Loss=0.4077]"
     ]
    },
    {
     "name": "stdout",
     "output_type": "stream",
     "text": [
      "Epoch 331 completed - Avg G Loss: 1.8944, Avg D Loss: 0.4077\n",
      "\n",
      "Epoch 332/400\n"
     ]
    },
    {
     "name": "stderr",
     "output_type": "stream",
     "text": [
      "\n",
      "poch 332: 100%|████████████████████████████████████████| 729/729 [06:53<00:00,  1.76it/s, G_Loss=1.8871, D_Loss=0.4076]"
     ]
    },
    {
     "name": "stdout",
     "output_type": "stream",
     "text": [
      "Epoch 332 completed - Avg G Loss: 1.8871, Avg D Loss: 0.4076\n",
      "\n",
      "Epoch 333/400\n"
     ]
    },
    {
     "name": "stderr",
     "output_type": "stream",
     "text": [
      "\n",
      "poch 333: 100%|████████████████████████████████████████| 729/729 [06:54<00:00,  1.76it/s, G_Loss=1.8810, D_Loss=0.4062]"
     ]
    },
    {
     "name": "stdout",
     "output_type": "stream",
     "text": [
      "Epoch 333 completed - Avg G Loss: 1.8810, Avg D Loss: 0.4062\n",
      "\n",
      "Epoch 334/400\n"
     ]
    },
    {
     "name": "stderr",
     "output_type": "stream",
     "text": [
      "\n",
      "poch 334: 100%|████████████████████████████████████████| 729/729 [06:52<00:00,  1.77it/s, G_Loss=1.8851, D_Loss=0.4062]"
     ]
    },
    {
     "name": "stdout",
     "output_type": "stream",
     "text": [
      "Epoch 334 completed - Avg G Loss: 1.8851, Avg D Loss: 0.4062\n",
      "\n",
      "Epoch 335/400\n"
     ]
    },
    {
     "name": "stderr",
     "output_type": "stream",
     "text": [
      "\n",
      "poch 335: 100%|████████████████████████████████████████| 729/729 [06:45<00:00,  1.80it/s, G_Loss=1.8869, D_Loss=0.4077]"
     ]
    },
    {
     "name": "stdout",
     "output_type": "stream",
     "text": [
      "Epoch 335 completed - Avg G Loss: 1.8869, Avg D Loss: 0.4077\n",
      "Saved sample images for epoch 335\n",
      "\n",
      "Epoch 336/400\n"
     ]
    },
    {
     "name": "stderr",
     "output_type": "stream",
     "text": [
      "\n",
      "poch 336: 100%|████████████████████████████████████████| 729/729 [06:47<00:00,  1.79it/s, G_Loss=1.8970, D_Loss=0.4069]"
     ]
    },
    {
     "name": "stdout",
     "output_type": "stream",
     "text": [
      "Epoch 336 completed - Avg G Loss: 1.8970, Avg D Loss: 0.4069\n",
      "\n",
      "Epoch 337/400\n"
     ]
    },
    {
     "name": "stderr",
     "output_type": "stream",
     "text": [
      "\n",
      "poch 337: 100%|████████████████████████████████████████| 729/729 [06:50<00:00,  1.77it/s, G_Loss=1.9027, D_Loss=0.4091]"
     ]
    },
    {
     "name": "stdout",
     "output_type": "stream",
     "text": [
      "Epoch 337 completed - Avg G Loss: 1.9027, Avg D Loss: 0.4091\n",
      "\n",
      "Epoch 338/400\n"
     ]
    },
    {
     "name": "stderr",
     "output_type": "stream",
     "text": [
      "\n",
      "poch 338: 100%|████████████████████████████████████████| 729/729 [06:54<00:00,  1.76it/s, G_Loss=1.8921, D_Loss=0.4088]"
     ]
    },
    {
     "name": "stdout",
     "output_type": "stream",
     "text": [
      "Epoch 338 completed - Avg G Loss: 1.8921, Avg D Loss: 0.4088\n",
      "\n",
      "Epoch 339/400\n"
     ]
    },
    {
     "name": "stderr",
     "output_type": "stream",
     "text": [
      "\n",
      "poch 339: 100%|████████████████████████████████████████| 729/729 [07:02<00:00,  1.72it/s, G_Loss=1.9367, D_Loss=0.4115]"
     ]
    },
    {
     "name": "stdout",
     "output_type": "stream",
     "text": [
      "Epoch 339 completed - Avg G Loss: 1.9367, Avg D Loss: 0.4115\n",
      "\n",
      "Epoch 340/400\n"
     ]
    },
    {
     "name": "stderr",
     "output_type": "stream",
     "text": [
      "\n",
      "poch 340: 100%|████████████████████████████████████████| 729/729 [06:50<00:00,  1.78it/s, G_Loss=1.9008, D_Loss=0.4097]"
     ]
    },
    {
     "name": "stdout",
     "output_type": "stream",
     "text": [
      "Epoch 340 completed - Avg G Loss: 1.9008, Avg D Loss: 0.4097\n",
      "Saved sample images for epoch 340\n",
      "Saved comparison images for epoch 340\n",
      "\n",
      "Epoch 341/400\n"
     ]
    },
    {
     "name": "stderr",
     "output_type": "stream",
     "text": [
      "\n",
      "poch 341: 100%|████████████████████████████████████████| 729/729 [07:04<00:00,  1.72it/s, G_Loss=1.8893, D_Loss=0.4075]"
     ]
    },
    {
     "name": "stdout",
     "output_type": "stream",
     "text": [
      "Epoch 341 completed - Avg G Loss: 1.8893, Avg D Loss: 0.4075\n",
      "\n",
      "Epoch 342/400\n"
     ]
    },
    {
     "name": "stderr",
     "output_type": "stream",
     "text": [
      "\n",
      "poch 342: 100%|████████████████████████████████████████| 729/729 [06:54<00:00,  1.76it/s, G_Loss=1.8861, D_Loss=0.4068]"
     ]
    },
    {
     "name": "stdout",
     "output_type": "stream",
     "text": [
      "Epoch 342 completed - Avg G Loss: 1.8861, Avg D Loss: 0.4068\n",
      "\n",
      "Epoch 343/400\n"
     ]
    },
    {
     "name": "stderr",
     "output_type": "stream",
     "text": [
      "\n",
      "poch 343: 100%|████████████████████████████████████████| 729/729 [07:04<00:00,  1.72it/s, G_Loss=1.8889, D_Loss=0.4068]"
     ]
    },
    {
     "name": "stdout",
     "output_type": "stream",
     "text": [
      "Epoch 343 completed - Avg G Loss: 1.8889, Avg D Loss: 0.4068\n",
      "\n",
      "Epoch 344/400\n"
     ]
    },
    {
     "name": "stderr",
     "output_type": "stream",
     "text": [
      "\n",
      "poch 344: 100%|████████████████████████████████████████| 729/729 [06:47<00:00,  1.79it/s, G_Loss=1.8958, D_Loss=0.4080]"
     ]
    },
    {
     "name": "stdout",
     "output_type": "stream",
     "text": [
      "Epoch 344 completed - Avg G Loss: 1.8958, Avg D Loss: 0.4080\n",
      "\n",
      "Epoch 345/400\n"
     ]
    },
    {
     "name": "stderr",
     "output_type": "stream",
     "text": [
      "\n",
      "poch 345: 100%|████████████████████████████████████████| 729/729 [06:52<00:00,  1.77it/s, G_Loss=1.8965, D_Loss=0.4072]"
     ]
    },
    {
     "name": "stdout",
     "output_type": "stream",
     "text": [
      "Epoch 345 completed - Avg G Loss: 1.8965, Avg D Loss: 0.4072\n",
      "Saved sample images for epoch 345\n",
      "\n",
      "Epoch 346/400\n"
     ]
    },
    {
     "name": "stderr",
     "output_type": "stream",
     "text": [
      "\n",
      "poch 346: 100%|████████████████████████████████████████| 729/729 [06:57<00:00,  1.75it/s, G_Loss=1.8851, D_Loss=0.4065]"
     ]
    },
    {
     "name": "stdout",
     "output_type": "stream",
     "text": [
      "Epoch 346 completed - Avg G Loss: 1.8851, Avg D Loss: 0.4065\n",
      "\n",
      "Epoch 347/400\n"
     ]
    },
    {
     "name": "stderr",
     "output_type": "stream",
     "text": [
      "\n",
      "poch 347: 100%|████████████████████████████████████████| 729/729 [06:51<00:00,  1.77it/s, G_Loss=1.8889, D_Loss=0.4068]"
     ]
    },
    {
     "name": "stdout",
     "output_type": "stream",
     "text": [
      "Epoch 347 completed - Avg G Loss: 1.8889, Avg D Loss: 0.4068\n",
      "\n",
      "Epoch 348/400\n"
     ]
    },
    {
     "name": "stderr",
     "output_type": "stream",
     "text": [
      "\n",
      "poch 348: 100%|████████████████████████████████████████| 729/729 [06:44<00:00,  1.80it/s, G_Loss=1.9057, D_Loss=0.4080]"
     ]
    },
    {
     "name": "stdout",
     "output_type": "stream",
     "text": [
      "Epoch 348 completed - Avg G Loss: 1.9057, Avg D Loss: 0.4080\n",
      "\n",
      "Epoch 349/400\n"
     ]
    },
    {
     "name": "stderr",
     "output_type": "stream",
     "text": [
      "\n",
      "poch 349: 100%|████████████████████████████████████████| 729/729 [06:53<00:00,  1.76it/s, G_Loss=1.9151, D_Loss=0.4098]"
     ]
    },
    {
     "name": "stdout",
     "output_type": "stream",
     "text": [
      "Epoch 349 completed - Avg G Loss: 1.9151, Avg D Loss: 0.4098\n",
      "\n",
      "Epoch 350/400\n"
     ]
    },
    {
     "name": "stderr",
     "output_type": "stream",
     "text": [
      "\n",
      "poch 350: 100%|████████████████████████████████████████| 729/729 [06:42<00:00,  1.81it/s, G_Loss=1.9050, D_Loss=0.4085]"
     ]
    },
    {
     "name": "stdout",
     "output_type": "stream",
     "text": [
      "Epoch 350 completed - Avg G Loss: 1.9050, Avg D Loss: 0.4085\n",
      "Saved sample images for epoch 350\n",
      "Saved comparison images for epoch 350\n",
      "\n",
      "Epoch 351/400\n"
     ]
    },
    {
     "name": "stderr",
     "output_type": "stream",
     "text": [
      "\n",
      "poch 351: 100%|████████████████████████████████████████| 729/729 [06:46<00:00,  1.79it/s, G_Loss=1.8978, D_Loss=0.4083]"
     ]
    },
    {
     "name": "stdout",
     "output_type": "stream",
     "text": [
      "Epoch 351 completed - Avg G Loss: 1.8978, Avg D Loss: 0.4083\n",
      "\n",
      "Epoch 352/400\n"
     ]
    },
    {
     "name": "stderr",
     "output_type": "stream",
     "text": [
      "\n",
      "poch 352: 100%|████████████████████████████████████████| 729/729 [06:47<00:00,  1.79it/s, G_Loss=1.8928, D_Loss=0.4078]"
     ]
    },
    {
     "name": "stdout",
     "output_type": "stream",
     "text": [
      "Epoch 352 completed - Avg G Loss: 1.8928, Avg D Loss: 0.4078\n",
      "\n",
      "Epoch 353/400\n"
     ]
    },
    {
     "name": "stderr",
     "output_type": "stream",
     "text": [
      "\n",
      "poch 353: 100%|████████████████████████████████████████| 729/729 [06:40<00:00,  1.82it/s, G_Loss=1.9060, D_Loss=0.4090]"
     ]
    },
    {
     "name": "stdout",
     "output_type": "stream",
     "text": [
      "Epoch 353 completed - Avg G Loss: 1.9060, Avg D Loss: 0.4090\n",
      "\n",
      "Epoch 354/400\n"
     ]
    },
    {
     "name": "stderr",
     "output_type": "stream",
     "text": [
      "\n",
      "poch 354: 100%|████████████████████████████████████████| 729/729 [06:45<00:00,  1.80it/s, G_Loss=1.8825, D_Loss=0.4070]"
     ]
    },
    {
     "name": "stdout",
     "output_type": "stream",
     "text": [
      "Epoch 354 completed - Avg G Loss: 1.8825, Avg D Loss: 0.4070\n",
      "\n",
      "Epoch 355/400\n"
     ]
    },
    {
     "name": "stderr",
     "output_type": "stream",
     "text": [
      "\n",
      "poch 355: 100%|████████████████████████████████████████| 729/729 [06:39<00:00,  1.83it/s, G_Loss=1.8929, D_Loss=0.4090]"
     ]
    },
    {
     "name": "stdout",
     "output_type": "stream",
     "text": [
      "Epoch 355 completed - Avg G Loss: 1.8929, Avg D Loss: 0.4090\n",
      "Saved sample images for epoch 355\n",
      "\n",
      "Epoch 356/400\n"
     ]
    },
    {
     "name": "stderr",
     "output_type": "stream",
     "text": [
      "\n",
      "poch 356: 100%|████████████████████████████████████████| 729/729 [06:42<00:00,  1.81it/s, G_Loss=1.9124, D_Loss=0.4097]"
     ]
    },
    {
     "name": "stdout",
     "output_type": "stream",
     "text": [
      "Epoch 356 completed - Avg G Loss: 1.9124, Avg D Loss: 0.4097\n",
      "\n",
      "Epoch 357/400\n"
     ]
    },
    {
     "name": "stderr",
     "output_type": "stream",
     "text": [
      "\n",
      "poch 357: 100%|████████████████████████████████████████| 729/729 [06:27<00:00,  1.88it/s, G_Loss=1.8970, D_Loss=0.4084]"
     ]
    },
    {
     "name": "stdout",
     "output_type": "stream",
     "text": [
      "Epoch 357 completed - Avg G Loss: 1.8970, Avg D Loss: 0.4084\n",
      "\n",
      "Epoch 358/400\n"
     ]
    },
    {
     "name": "stderr",
     "output_type": "stream",
     "text": [
      "\n",
      "poch 358: 100%|████████████████████████████████████████| 729/729 [06:44<00:00,  1.80it/s, G_Loss=1.8825, D_Loss=0.4067]"
     ]
    },
    {
     "name": "stdout",
     "output_type": "stream",
     "text": [
      "Epoch 358 completed - Avg G Loss: 1.8825, Avg D Loss: 0.4067\n",
      "\n",
      "Epoch 359/400\n"
     ]
    },
    {
     "name": "stderr",
     "output_type": "stream",
     "text": [
      "\n",
      "poch 359: 100%|████████████████████████████████████████| 729/729 [06:37<00:00,  1.83it/s, G_Loss=1.8832, D_Loss=0.4063]"
     ]
    },
    {
     "name": "stdout",
     "output_type": "stream",
     "text": [
      "Epoch 359 completed - Avg G Loss: 1.8832, Avg D Loss: 0.4063\n",
      "\n",
      "Epoch 360/400\n"
     ]
    },
    {
     "name": "stderr",
     "output_type": "stream",
     "text": [
      "\n",
      "poch 360: 100%|████████████████████████████████████████| 729/729 [06:36<00:00,  1.84it/s, G_Loss=1.8784, D_Loss=0.4059]"
     ]
    },
    {
     "name": "stdout",
     "output_type": "stream",
     "text": [
      "Epoch 360 completed - Avg G Loss: 1.8784, Avg D Loss: 0.4059\n",
      "Saved sample images for epoch 360\n",
      "Saved comparison images for epoch 360\n",
      "Models saved at epoch 360\n",
      "\n",
      "Epoch 361/400\n"
     ]
    },
    {
     "name": "stderr",
     "output_type": "stream",
     "text": [
      "\n",
      "poch 361: 100%|████████████████████████████████████████| 729/729 [06:34<00:00,  1.85it/s, G_Loss=1.8843, D_Loss=0.4068]"
     ]
    },
    {
     "name": "stdout",
     "output_type": "stream",
     "text": [
      "Epoch 361 completed - Avg G Loss: 1.8843, Avg D Loss: 0.4068\n",
      "\n",
      "Epoch 362/400\n"
     ]
    },
    {
     "name": "stderr",
     "output_type": "stream",
     "text": [
      "\n",
      "poch 362: 100%|████████████████████████████████████████| 729/729 [06:42<00:00,  1.81it/s, G_Loss=1.9048, D_Loss=0.4082]"
     ]
    },
    {
     "name": "stdout",
     "output_type": "stream",
     "text": [
      "Epoch 362 completed - Avg G Loss: 1.9048, Avg D Loss: 0.4082\n",
      "\n",
      "Epoch 363/400\n"
     ]
    },
    {
     "name": "stderr",
     "output_type": "stream",
     "text": [
      "\n",
      "poch 363: 100%|████████████████████████████████████████| 729/729 [06:31<00:00,  1.86it/s, G_Loss=1.8837, D_Loss=0.4071]"
     ]
    },
    {
     "name": "stdout",
     "output_type": "stream",
     "text": [
      "Epoch 363 completed - Avg G Loss: 1.8837, Avg D Loss: 0.4071\n",
      "\n",
      "Epoch 364/400\n"
     ]
    },
    {
     "name": "stderr",
     "output_type": "stream",
     "text": [
      "\n",
      "poch 364: 100%|████████████████████████████████████████| 729/729 [06:31<00:00,  1.86it/s, G_Loss=1.8818, D_Loss=0.4064]"
     ]
    },
    {
     "name": "stdout",
     "output_type": "stream",
     "text": [
      "Epoch 364 completed - Avg G Loss: 1.8818, Avg D Loss: 0.4064\n",
      "\n",
      "Epoch 365/400\n"
     ]
    },
    {
     "name": "stderr",
     "output_type": "stream",
     "text": [
      "\n",
      "poch 365: 100%|████████████████████████████████████████| 729/729 [06:37<00:00,  1.84it/s, G_Loss=1.9335, D_Loss=0.4107]"
     ]
    },
    {
     "name": "stdout",
     "output_type": "stream",
     "text": [
      "Epoch 365 completed - Avg G Loss: 1.9335, Avg D Loss: 0.4107\n",
      "Saved sample images for epoch 365\n",
      "\n",
      "Epoch 366/400\n"
     ]
    },
    {
     "name": "stderr",
     "output_type": "stream",
     "text": [
      "\n",
      "poch 366: 100%|████████████████████████████████████████| 729/729 [06:33<00:00,  1.85it/s, G_Loss=1.8955, D_Loss=0.4088]"
     ]
    },
    {
     "name": "stdout",
     "output_type": "stream",
     "text": [
      "Epoch 366 completed - Avg G Loss: 1.8955, Avg D Loss: 0.4088\n",
      "\n",
      "Epoch 367/400\n"
     ]
    },
    {
     "name": "stderr",
     "output_type": "stream",
     "text": [
      "\n",
      "poch 367: 100%|████████████████████████████████████████| 729/729 [06:29<00:00,  1.87it/s, G_Loss=1.8892, D_Loss=0.4070]"
     ]
    },
    {
     "name": "stdout",
     "output_type": "stream",
     "text": [
      "Epoch 367 completed - Avg G Loss: 1.8892, Avg D Loss: 0.4070\n",
      "\n",
      "Epoch 368/400\n"
     ]
    },
    {
     "name": "stderr",
     "output_type": "stream",
     "text": [
      "\n",
      "poch 368: 100%|████████████████████████████████████████| 729/729 [06:43<00:00,  1.81it/s, G_Loss=1.8823, D_Loss=0.4065]"
     ]
    },
    {
     "name": "stdout",
     "output_type": "stream",
     "text": [
      "Epoch 368 completed - Avg G Loss: 1.8823, Avg D Loss: 0.4065\n",
      "\n",
      "Epoch 369/400\n"
     ]
    },
    {
     "name": "stderr",
     "output_type": "stream",
     "text": [
      "\n",
      "poch 369: 100%|████████████████████████████████████████| 729/729 [06:29<00:00,  1.87it/s, G_Loss=1.8887, D_Loss=0.4072]"
     ]
    },
    {
     "name": "stdout",
     "output_type": "stream",
     "text": [
      "Epoch 369 completed - Avg G Loss: 1.8887, Avg D Loss: 0.4072\n",
      "\n",
      "Epoch 370/400\n"
     ]
    },
    {
     "name": "stderr",
     "output_type": "stream",
     "text": [
      "\n",
      "poch 370: 100%|████████████████████████████████████████| 729/729 [06:46<00:00,  1.79it/s, G_Loss=1.8847, D_Loss=0.4066]"
     ]
    },
    {
     "name": "stdout",
     "output_type": "stream",
     "text": [
      "Epoch 370 completed - Avg G Loss: 1.8847, Avg D Loss: 0.4066\n",
      "Saved sample images for epoch 370\n",
      "Saved comparison images for epoch 370\n",
      "\n",
      "Epoch 371/400\n"
     ]
    },
    {
     "name": "stderr",
     "output_type": "stream",
     "text": [
      "\n",
      "poch 371: 100%|████████████████████████████████████████| 729/729 [06:45<00:00,  1.80it/s, G_Loss=1.8800, D_Loss=0.4065]"
     ]
    },
    {
     "name": "stdout",
     "output_type": "stream",
     "text": [
      "Epoch 371 completed - Avg G Loss: 1.8800, Avg D Loss: 0.4065\n",
      "\n",
      "Epoch 372/400\n"
     ]
    },
    {
     "name": "stderr",
     "output_type": "stream",
     "text": [
      "\n",
      "poch 372: 100%|████████████████████████████████████████| 729/729 [06:27<00:00,  1.88it/s, G_Loss=1.8843, D_Loss=0.4061]"
     ]
    },
    {
     "name": "stdout",
     "output_type": "stream",
     "text": [
      "Epoch 372 completed - Avg G Loss: 1.8843, Avg D Loss: 0.4061\n",
      "\n",
      "Epoch 373/400\n"
     ]
    },
    {
     "name": "stderr",
     "output_type": "stream",
     "text": [
      "Epoch 373:   6%|██▎                                      | 41/729 [00:22<06:05,  1.88it/s, G_Loss=1.8800, D_Loss=0.4059]"
     ]
    }
   ],
   "source": [
    "# %%\n",
    "# Improved DCGAN Implementation with Checkpoint Resumption for Color Images (RGB)\n",
    "\n",
    "import os\n",
    "import re\n",
    "import numpy as np\n",
    "import tensorflow as tf\n",
    "from tensorflow import keras\n",
    "from tensorflow.keras import layers\n",
    "from tensorflow.keras.optimizers import Adam\n",
    "import matplotlib.pyplot as plt\n",
    "from PIL import Image\n",
    "import glob\n",
    "import random\n",
    "import pickle\n",
    "from tqdm import tqdm\n",
    "from PIL import ImageEnhance\n",
    "\n",
    "# %%\n",
    "\n",
    "# Constants - Adjusted for color images\n",
    "MAX_IMAGES_PER_CLASS = 10000\n",
    "RESULT_SAVE_DIR = \"Vivian_128x128_results\"\n",
    "LATENT_DIM = 512\n",
    "IMAGE_SIZE = 128\n",
    "BATCH_SIZE = 8\n",
    "EPOCHS_PER_CLASS = 400\n",
    "DATASET_PATH = \"vivian_nsfw_sfw_cropped_combined_faces\"\n",
    "TOLERANCE = 89\n",
    "\n",
    "# %%\n",
    "class SingleClassDataGenerator(keras.utils.Sequence):\n",
    "    '''Improved data generator with better augmentation for color images'''\n",
    "    \n",
    "    def __init__(self, dataset_path, batch_size=32, max_images=1000, shuffle=True):\n",
    "        self.dataset_path = dataset_path\n",
    "        self.batch_size = batch_size\n",
    "        self.max_images = max_images\n",
    "        self.shuffle = shuffle\n",
    "        \n",
    "        print(f\"Loading images from: {dataset_path}\")\n",
    "        self._build_file_list()\n",
    "        \n",
    "        if self.shuffle:\n",
    "            random.shuffle(self.file_list)\n",
    "        self.indexes = np.arange(len(self.file_list))\n",
    "        \n",
    "    def _build_file_list(self):\n",
    "        \"\"\"Build file list for images\"\"\"\n",
    "        if not os.path.exists(self.dataset_path):\n",
    "            raise ValueError(f\"Directory not found: {self.dataset_path}\")\n",
    "        \n",
    "        # Support multiple image formats\n",
    "        image_files = []\n",
    "        for ext in ['*.png', '*.jpg', '*.jpeg', '*.PNG', '*.JPG', '*.JPEG']:\n",
    "            image_files.extend(glob.glob(os.path.join(self.dataset_path, ext)))\n",
    "        \n",
    "        if len(image_files) > self.max_images:\n",
    "            image_files = random.sample(image_files, self.max_images)\n",
    "            \n",
    "        self.file_list = image_files\n",
    "        print(f\"Found {len(self.file_list)} images\")\n",
    "        \n",
    "    def __len__(self):\n",
    "        return len(self.file_list) // self.batch_size\n",
    "        \n",
    "    def __getitem__(self, index):\n",
    "        batch_indexes = self.indexes[index * self.batch_size:(index + 1) * self.batch_size]\n",
    "        batch_files = [self.file_list[i] for i in batch_indexes]\n",
    "        \n",
    "        X = self._generate_batch(batch_files)\n",
    "        return X\n",
    "        \n",
    "    def _generate_batch(self, batch_files):\n",
    "        actual_batch_size = len(batch_files)\n",
    "        X = np.zeros((actual_batch_size, IMAGE_SIZE, IMAGE_SIZE, 3))\n",
    "    \n",
    "        for i, original_img_path in enumerate(batch_files):\n",
    "            \n",
    "            img_path_to_process = original_img_path\n",
    "            load_successful = False\n",
    "            max_attempts = len(batch_files) * 2 \n",
    "            attempts = 0\n",
    "    \n",
    "            while not load_successful and attempts < max_attempts:\n",
    "                attempts += 1\n",
    "                try:\n",
    "                    img = Image.open(img_path_to_process).convert('RGB')\n",
    "                    w, h = img.size\n",
    "                    \n",
    "                    if abs(w - IMAGE_SIZE) <= TOLERANCE and abs(h - IMAGE_SIZE) <= TOLERANCE:\n",
    "                        img = img.resize((IMAGE_SIZE, IMAGE_SIZE), Image.LANCZOS)\n",
    "                    else:\n",
    "                        short_side = min(w, h)\n",
    "                        left = (w - short_side) // 2\n",
    "                        top = (h - short_side) // 2\n",
    "                        right = left + short_side\n",
    "                        bottom = top + short_side\n",
    "                        img = img.crop((left, top, right, bottom)).resize((IMAGE_SIZE, IMAGE_SIZE), Image.LANCZOS)\n",
    "    \n",
    "                    if random.random() < 0.3:\n",
    "                        img = img.transpose(Image.FLIP_LEFT_RIGHT)\n",
    "                    if random.random() < 0.3:\n",
    "                        enhancer = ImageEnhance.Brightness(img)\n",
    "                        img = enhancer.enhance(random.uniform(0.9, 1.1))\n",
    "                    \n",
    "                    if random.random() < 0.3:\n",
    "                        enhancer = ImageEnhance.Contrast(img)\n",
    "                        img = enhancer.enhance(random.uniform(0.9, 1.1))\n",
    "    \n",
    "                    img_array = np.array(img, dtype=np.float32) / 255.0\n",
    "                    img_array = (img_array - 0.5) / 0.5\n",
    "                    X[i] = img_array\n",
    "                    \n",
    "                    load_successful = True\n",
    "    \n",
    "                except Exception as e:\n",
    "                    print(f\"Error loading {img_path_to_process}. Replacing with a random file. Original file: {original_img_path}. Error: {e}\")\n",
    "                    img_path_to_process = random.choice(batch_files)\n",
    "    \n",
    "            if not load_successful:\n",
    "                 print(f\"CRITICAL: Failed to load a valid image for batch slot {i} after {max_attempts} attempts.\")\n",
    "                 X[i] = np.zeros((IMAGE_SIZE, IMAGE_SIZE, 3))\n",
    "                 \n",
    "        return X\n",
    "        \n",
    "    def on_epoch_end(self):\n",
    "        if self.shuffle:\n",
    "            random.shuffle(self.file_list)\n",
    "            np.random.shuffle(self.indexes)\n",
    "\n",
    "\n",
    "def build_generator():\n",
    "    '''Improved generator with better architecture for 128x128 RGB output'''\n",
    "\n",
    "    noise_input = layers.Input(shape=(LATENT_DIM,), name='noise_input')\n",
    "\n",
    "    x = layers.Dense(4 * 4 * 1024, use_bias=False)(noise_input)\n",
    "    x = layers.BatchNormalization(momentum=0.9)(x)\n",
    "    x = layers.ReLU()(x)\n",
    "    x = layers.Reshape((4, 4, 1024))(x)\n",
    "\n",
    "    x = layers.Conv2DTranspose(512, kernel_size=4, strides=2, padding='same', use_bias=False)(x)\n",
    "    x = layers.BatchNormalization(momentum=0.9)(x)\n",
    "    x = layers.ReLU()(x)\n",
    "\n",
    "    x = layers.Conv2DTranspose(256, kernel_size=4, strides=2, padding='same', use_bias=False)(x)\n",
    "    x = layers.BatchNormalization(momentum=0.9)(x)\n",
    "    x = layers.ReLU()(x)\n",
    "\n",
    "    x = layers.Conv2DTranspose(128, kernel_size=4, strides=2, padding='same', use_bias=False)(x)\n",
    "    x = layers.BatchNormalization(momentum=0.9)(x)\n",
    "    x = layers.ReLU()(x)\n",
    "\n",
    "    x = layers.Conv2DTranspose(64, kernel_size=4, strides=2, padding='same', use_bias=False)(x)\n",
    "    x = layers.BatchNormalization(momentum=0.9)(x)\n",
    "    x = layers.ReLU()(x)\n",
    "\n",
    "    generated_image = layers.Conv2DTranspose(3, kernel_size=4, strides=2, padding='same', \n",
    "                                           activation='tanh', use_bias=False, name='generated_image')(x)\n",
    "\n",
    "    generator = keras.Model(inputs=noise_input, outputs=generated_image, name='Generator')\n",
    "    return generator\n",
    "\n",
    "def build_discriminator():\n",
    "    '''Improved discriminator with dropout for 128x128 RGB input'''\n",
    "\n",
    "    image_input = layers.Input(shape=(IMAGE_SIZE, IMAGE_SIZE, 3), name='image_input')\n",
    "\n",
    "    x = layers.Conv2D(64, kernel_size=4, strides=2, padding='same')(image_input)\n",
    "    x = layers.LeakyReLU(alpha=0.2)(x)\n",
    "    x = layers.Dropout(0.3)(x)\n",
    "\n",
    "    x = layers.Conv2D(128, kernel_size=4, strides=2, padding='same')(x)\n",
    "    x = layers.BatchNormalization()(x)\n",
    "    x = layers.LeakyReLU(alpha=0.2)(x)\n",
    "    x = layers.Dropout(0.3)(x)\n",
    "\n",
    "    x = layers.Conv2D(256, kernel_size=4, strides=2, padding='same')(x)\n",
    "    x = layers.BatchNormalization()(x)\n",
    "    x = layers.LeakyReLU(alpha=0.2)(x)\n",
    "    x = layers.Dropout(0.3)(x)\n",
    "\n",
    "    x = layers.Conv2D(512, kernel_size=4, strides=2, padding='same')(x)\n",
    "    x = layers.BatchNormalization()(x)\n",
    "    x = layers.LeakyReLU(alpha=0.2)(x)\n",
    "    x = layers.Dropout(0.3)(x)\n",
    "\n",
    "    x = layers.Conv2D(1024, kernel_size=4, strides=2, padding='same')(x)\n",
    "    x = layers.BatchNormalization()(x)\n",
    "    x = layers.LeakyReLU(alpha=0.2)(x)\n",
    "    x = layers.Dropout(0.3)(x)\n",
    "\n",
    "    x = layers.Flatten()(x)\n",
    "    validity = layers.Dense(1, activation='sigmoid', name='validity')(x)\n",
    "\n",
    "    discriminator = keras.Model(inputs=image_input, outputs=validity, name='Discriminator')\n",
    "    return discriminator\n",
    "\n",
    "\n",
    "def find_latest_checkpoint(checkpoint_dir):\n",
    "    '''Find the latest checkpoint epoch number'''\n",
    "    if not os.path.exists(checkpoint_dir):\n",
    "        return None, None\n",
    "    \n",
    "    generator_files = glob.glob(os.path.join(checkpoint_dir, 'generator2_epoch_*.keras'))\n",
    "    discriminator_files = glob.glob(os.path.join(checkpoint_dir, 'discriminator2_epoch_*.keras'))\n",
    "    \n",
    "    if not generator_files or not discriminator_files:\n",
    "        return None, None\n",
    "    \n",
    "    # Extract epoch numbers from filenames\n",
    "    gen_epochs = []\n",
    "    for f in generator_files:\n",
    "        match = re.search(r'generator2_epoch_(\\d+)\\.keras', f)\n",
    "        if match:\n",
    "            gen_epochs.append(int(match.group(1)))\n",
    "    \n",
    "    disc_epochs = []\n",
    "    for f in discriminator_files:\n",
    "        match = re.search(r'discriminator2_epoch_(\\d+)\\.keras', f)\n",
    "        if match:\n",
    "            disc_epochs.append(int(match.group(1)))\n",
    "    \n",
    "    if not gen_epochs or not disc_epochs:\n",
    "        return None, None\n",
    "    \n",
    "    # Find the latest epoch that has both generator and discriminator\n",
    "    common_epochs = set(gen_epochs) & set(disc_epochs)\n",
    "    if not common_epochs:\n",
    "        return None, None\n",
    "    \n",
    "    latest_epoch = max(common_epochs)\n",
    "    gen_path = os.path.join(checkpoint_dir, f'generator2_epoch_{latest_epoch:03d}.keras')\n",
    "    disc_path = os.path.join(checkpoint_dir, f'discriminator2_epoch_{latest_epoch:03d}.keras')\n",
    "    \n",
    "    return latest_epoch, (gen_path, disc_path)\n",
    "\n",
    "\n",
    "def find_latest_saved_image_epoch(result_dir):\n",
    "    '''Find the latest epoch number from saved images'''\n",
    "    if not os.path.exists(result_dir):\n",
    "        return 0\n",
    "    \n",
    "    # Check both generated and comparison images\n",
    "    generated_files = glob.glob(os.path.join(result_dir, 'new_generated_samples_vivian_epoch_*.png'))\n",
    "    comparison_files = glob.glob(os.path.join(result_dir, 'comparison_vivian_epoch_*.png'))\n",
    "    \n",
    "    all_files = generated_files + comparison_files\n",
    "    \n",
    "    if not all_files:\n",
    "        return 0\n",
    "    \n",
    "    epochs = []\n",
    "    for f in all_files:\n",
    "        # Match both numeric and \"final\" epochs\n",
    "        match = re.search(r'epoch_(\\d+)\\.png', f)\n",
    "        if match:\n",
    "            epochs.append(int(match.group(1)))\n",
    "    \n",
    "    return max(epochs) if epochs else 0\n",
    "\n",
    "\n",
    "class ImprovedDCGAN:\n",
    "    '''Improved DCGAN with better training dynamics and checkpoint resumption'''\n",
    "    \n",
    "    def __init__(self, latent_dim=100, checkpoint_paths=None):\n",
    "        self.latent_dim = latent_dim\n",
    "        \n",
    "        # Build or load networks\n",
    "        if checkpoint_paths:\n",
    "            print(f\"Loading generator from: {checkpoint_paths[0]}\")\n",
    "            print(f\"Loading discriminator from: {checkpoint_paths[1]}\")\n",
    "            self.generator = keras.models.load_model(checkpoint_paths[0])\n",
    "            self.discriminator = keras.models.load_model(checkpoint_paths[1])\n",
    "            print(\"Models loaded successfully!\")\n",
    "        else:\n",
    "            print(\"Building new models from scratch...\")\n",
    "            self.generator = build_generator()\n",
    "            self.discriminator = build_discriminator()\n",
    "        \n",
    "        # Different learning rates for G and D\n",
    "        self.gen_optimizer = Adam(learning_rate=0.0001, beta_1=0.5, beta_2=0.999)\n",
    "        self.disc_optimizer = Adam(learning_rate=0.0004, beta_1=0.5, beta_2=0.999)\n",
    "        \n",
    "        # Loss function and metrics\n",
    "        self.loss_fn = keras.losses.BinaryCrossentropy(from_logits=False, label_smoothing=0.1)\n",
    "        self.gen_loss_tracker = keras.metrics.Mean(name=\"generator_loss\")\n",
    "        self.disc_loss_tracker = keras.metrics.Mean(name=\"discriminator_loss\")\n",
    "    \n",
    "    def train_step(self, real_images):\n",
    "        \"\"\"Improved training step with better balance\"\"\"\n",
    "        \n",
    "        real_images = tf.convert_to_tensor(real_images, dtype=tf.float32)\n",
    "        batch_size = tf.shape(real_images)[0]\n",
    "        \n",
    "        # Train discriminator\n",
    "        with tf.GradientTape() as disc_tape:\n",
    "            real_validity = self.discriminator(real_images, training=True)\n",
    "            real_labels = tf.ones_like(real_validity) * 0.9\n",
    "            real_loss = self.loss_fn(real_labels, real_validity)\n",
    "            \n",
    "            noise = tf.random.normal([batch_size, self.latent_dim])\n",
    "            generated_images = self.generator(noise, training=True)\n",
    "            fake_validity = self.discriminator(generated_images, training=True)\n",
    "            fake_labels = tf.zeros_like(fake_validity) + 0.1\n",
    "            fake_loss = self.loss_fn(fake_labels, fake_validity)\n",
    "            \n",
    "            disc_loss = (real_loss + fake_loss) / 2\n",
    "            \n",
    "        disc_gradients = disc_tape.gradient(disc_loss, self.discriminator.trainable_variables)\n",
    "        self.disc_optimizer.apply_gradients(zip(disc_gradients, self.discriminator.trainable_variables))\n",
    "        \n",
    "        # Train generator\n",
    "        with tf.GradientTape() as gen_tape:\n",
    "            noise = tf.random.normal([batch_size, self.latent_dim])\n",
    "            generated_images = self.generator(noise, training=True)\n",
    "            validity = self.discriminator(generated_images, training=True)\n",
    "            \n",
    "            gen_loss = self.loss_fn(tf.ones_like(validity), validity)\n",
    "            \n",
    "        gen_gradients = gen_tape.gradient(gen_loss, self.generator.trainable_variables)\n",
    "        self.gen_optimizer.apply_gradients(zip(gen_gradients, self.generator.trainable_variables))\n",
    "        \n",
    "        # Update metrics\n",
    "        self.gen_loss_tracker.update_state(gen_loss)\n",
    "        self.disc_loss_tracker.update_state(disc_loss)\n",
    "        \n",
    "        return {\n",
    "            \"g_loss\": self.gen_loss_tracker.result(),\n",
    "            \"d_loss\": self.disc_loss_tracker.result(),\n",
    "        }\n",
    "    \n",
    "    def generate_images(self, num_samples=1):\n",
    "        '''Generate images'''\n",
    "        noise = tf.random.normal([num_samples, self.latent_dim])\n",
    "        generated_images = self.generator(noise, training=False)\n",
    "        \n",
    "        generated_images = (generated_images + 1) / 2.0\n",
    "        \n",
    "        return generated_images.numpy()\n",
    "    \n",
    "    def save_sample_images(self, epoch, num_samples=8):\n",
    "        '''Save sample generated images'''\n",
    "        \n",
    "        generated_images = self.generate_images(num_samples)\n",
    "        \n",
    "        cols = min(4, num_samples)\n",
    "        rows = (num_samples + cols - 1) // cols\n",
    "        \n",
    "        fig, axes = plt.subplots(rows, cols, figsize=(cols * 3, rows * 3))\n",
    "        \n",
    "        if rows == 1 and cols == 1:\n",
    "            axes = [axes]\n",
    "        elif rows == 1 or cols == 1:\n",
    "            axes = axes.flatten() if hasattr(axes, 'flatten') else [axes]\n",
    "        else:\n",
    "            axes = axes.flatten()\n",
    "        \n",
    "        for i in range(num_samples):\n",
    "            axes[i].imshow(generated_images[i])\n",
    "            axes[i].set_title(f'Generated Vivian')\n",
    "            axes[i].axis('off')\n",
    "        \n",
    "        for i in range(num_samples, len(axes)):\n",
    "            axes[i].axis('off')\n",
    "        \n",
    "        plt.tight_layout()\n",
    "        plt.savefig(f'{RESULT_SAVE_DIR}/new_generated_samples_vivian_epoch_{epoch}.png', dpi=150, bbox_inches='tight')\n",
    "        plt.close()\n",
    "        print(f\"Saved sample images for epoch {epoch}\")\n",
    "\n",
    "    def save_comparison_images(self, epoch, data_generator, num_samples=8):\n",
    "        '''Save comparison between real and generated images'''\n",
    "        \n",
    "        batch_idx = random.randint(0, len(data_generator) - 1)\n",
    "        real_batch = data_generator[batch_idx]\n",
    "        real_images = real_batch[:num_samples]\n",
    "        \n",
    "        generated_images = self.generate_images(num_samples)\n",
    "        \n",
    "        fig, axes = plt.subplots(2, num_samples, figsize=(num_samples * 2, 4))\n",
    "        \n",
    "        for i in range(num_samples):\n",
    "            real_img = (real_images[i] + 1) / 2.0\n",
    "            axes[0, i].imshow(real_img)\n",
    "            axes[0, i].set_title(f'Real Vivian' if i == 0 else '')\n",
    "            axes[0, i].axis('off')\n",
    "            \n",
    "            axes[1, i].imshow(generated_images[i])\n",
    "            axes[1, i].set_title(f'Generated Vivian' if i == 0 else '')\n",
    "            axes[1, i].axis('off')\n",
    "        \n",
    "        plt.tight_layout()\n",
    "        plt.savefig(f'{RESULT_SAVE_DIR}/comparison_vivian_epoch_{epoch}.png', dpi=150, bbox_inches='tight')\n",
    "        plt.close()\n",
    "        print(f\"Saved comparison images for epoch {epoch}\")\n",
    "\n",
    "\n",
    "# %%\n",
    "def train_vivian():\n",
    "    '''Improved training function with checkpoint resumption'''\n",
    "    \n",
    "    print(f\"\\n{'='*60}\")\n",
    "    print(f\"Training Vivian DCGAN with Checkpoint Resumption\")\n",
    "    print(f\"{'='*60}\")\n",
    "    \n",
    "    # Create necessary directories\n",
    "    checkpoint_dir = 'checkpoints_128x128/vivian'\n",
    "    os.makedirs(checkpoint_dir, exist_ok=True)\n",
    "    os.makedirs(RESULT_SAVE_DIR, exist_ok=True)\n",
    "    \n",
    "    # Check for existing checkpoints\n",
    "    latest_checkpoint_epoch, checkpoint_paths = find_latest_checkpoint(checkpoint_dir)\n",
    "    start_epoch = 0\n",
    "    \n",
    "    if latest_checkpoint_epoch is not None:\n",
    "        print(f\"\\n{'='*60}\")\n",
    "        print(f\"CHECKPOINT FOUND: Epoch {latest_checkpoint_epoch}\")\n",
    "        print(f\"{'='*60}\")\n",
    "        dcgan = ImprovedDCGAN(LATENT_DIM, checkpoint_paths=checkpoint_paths)\n",
    "        start_epoch = latest_checkpoint_epoch\n",
    "        print(f\"Resuming training from epoch {start_epoch + 1}\")\n",
    "    else:\n",
    "        print(\"No checkpoint found. Starting training from scratch.\")\n",
    "        dcgan = ImprovedDCGAN(LATENT_DIM)\n",
    "    \n",
    "    # Initialize data generator\n",
    "    data_generator = SingleClassDataGenerator(\n",
    "        dataset_path=DATASET_PATH,\n",
    "        batch_size=BATCH_SIZE,\n",
    "        max_images=MAX_IMAGES_PER_CLASS,\n",
    "        shuffle=True\n",
    "    )\n",
    "    \n",
    "    if len(data_generator.file_list) == 0:\n",
    "        print(f\"No images found in {DATASET_PATH}, stopping...\")\n",
    "        return\n",
    "    \n",
    "    print(f\"Training samples: {len(data_generator.file_list)}\")\n",
    "    print(f\"Batches per epoch: {len(data_generator)}\")\n",
    "    print(f\"Training from epoch {start_epoch + 1} to {EPOCHS_PER_CLASS}\")\n",
    "    \n",
    "    # Track loss history\n",
    "    g_losses = []\n",
    "    d_losses = []\n",
    "    \n",
    "    # Training loop - start from the next epoch after checkpoint\n",
    "    for epoch in range(start_epoch, EPOCHS_PER_CLASS):\n",
    "        actual_epoch_num = epoch + 1  # 1-indexed for display\n",
    "        print(f\"\\nEpoch {actual_epoch_num}/{EPOCHS_PER_CLASS}\")\n",
    "        \n",
    "        # Reset metrics\n",
    "        dcgan.gen_loss_tracker.reset_state()\n",
    "        dcgan.disc_loss_tracker.reset_state()\n",
    "        \n",
    "        # Training step for each batch\n",
    "        progress_bar = tqdm(range(len(data_generator)), desc=f\"Epoch {actual_epoch_num}\")\n",
    "        for batch_idx in progress_bar:\n",
    "            real_images = data_generator[batch_idx]\n",
    "            losses = dcgan.train_step(real_images)\n",
    "            \n",
    "            progress_bar.set_postfix({\n",
    "                'G_Loss': f\"{losses['g_loss']:.4f}\",\n",
    "                'D_Loss': f\"{losses['d_loss']:.4f}\",\n",
    "            })\n",
    "        \n",
    "        # Record losses\n",
    "        avg_g_loss = dcgan.gen_loss_tracker.result().numpy()\n",
    "        avg_d_loss = dcgan.disc_loss_tracker.result().numpy()\n",
    "        g_losses.append(avg_g_loss)\n",
    "        d_losses.append(avg_d_loss)\n",
    "        \n",
    "        print(f\"Epoch {actual_epoch_num} completed - \"\n",
    "              f\"Avg G Loss: {avg_g_loss:.4f}, Avg D Loss: {avg_d_loss:.4f}\")\n",
    "        \n",
    "        # Save sample images every 5 epochs\n",
    "        if actual_epoch_num % 5 == 0 or epoch == start_epoch:\n",
    "            dcgan.save_sample_images(actual_epoch_num)\n",
    "\n",
    "        # Save comparison images every 10 epochs\n",
    "        if actual_epoch_num % 10 == 0:\n",
    "            dcgan.save_comparison_images(actual_epoch_num, data_generator)\n",
    "        \n",
    "        # Save model checkpoints every 30 epochs\n",
    "        if actual_epoch_num % 30 == 0:\n",
    "            dcgan.generator.save(f'{checkpoint_dir}/generator2_epoch_{actual_epoch_num:03d}.keras')\n",
    "            dcgan.discriminator.save(f'{checkpoint_dir}/discriminator2_epoch_{actual_epoch_num:03d}.keras')\n",
    "            print(f\"Models saved at epoch {actual_epoch_num}\")\n",
    "        \n",
    "        # Early stopping conditions\n",
    "        if avg_d_loss < 0.01:\n",
    "            print(\"Discriminator loss too low, stopping training to prevent mode collapse\")\n",
    "            break\n",
    "            \n",
    "        if avg_g_loss > 6.0:\n",
    "            print(\"Generator loss too high, stopping training\")\n",
    "            break\n",
    "            \n",
    "        if len(g_losses) > 5:\n",
    "            recent_g_avg = np.mean(g_losses[-5:])\n",
    "            if avg_g_loss > recent_g_avg * 2:\n",
    "                print(\"Generator loss spiking, stopping training\")\n",
    "                break\n",
    "        \n",
    "        # Shuffle data\n",
    "        data_generator.on_epoch_end()\n",
    "    \n",
    "    # Save final models\n",
    "    dcgan.generator.save('vivianxsp2GenNet.keras')\n",
    "    dcgan.discriminator.save(f'{checkpoint_dir}/final_discriminator.keras')\n",
    "    print(f\"Final generator saved as vivianxsp2GenNet.keras!\")\n",
    "    \n",
    "    # Generate final sample images\n",
    "    dcgan.save_sample_images(\"final\", 9)\n",
    "    \n",
    "    return dcgan\n",
    "\n",
    "\n",
    "# %%\n",
    "def main():\n",
    "    '''Main training function with checkpoint resumption'''\n",
    "    \n",
    "    if not os.path.exists(DATASET_PATH):\n",
    "        print(\"ERROR: Dataset directory not found!\")\n",
    "        print(\"Please ensure Vivian images are available at:\", DATASET_PATH)\n",
    "        return\n",
    "    \n",
    "    print(\"Starting Vivian DCGAN training with checkpoint resumption...\")\n",
    "    \n",
    "    try:\n",
    "        dcgan = train_vivian()\n",
    "        print(\"\\nTraining completed successfully!\")\n",
    "        print(f\"Generator saved as: vivianxsp2GenNet.keras\")\n",
    "            \n",
    "    except KeyboardInterrupt:\n",
    "        print(\"\\n\\nTraining interrupted by user\")\n",
    "        print(\"Progress has been saved. Run the script again to resume training.\")\n",
    "    except Exception as e:\n",
    "        print(f\"\\nError during training: {e}\")\n",
    "        import traceback\n",
    "        traceback.print_exc()\n",
    "\n",
    "if __name__ == \"__main__\":\n",
    "    main()\n",
    "\n",
    "# %%"
   ]
  },
  {
   "cell_type": "code",
   "execution_count": null,
   "id": "ca5fa3f1-d48e-4b60-9b32-1f5b1240db49",
   "metadata": {},
   "outputs": [],
   "source": []
  }
 ],
 "metadata": {
  "kernelspec": {
   "display_name": "Python 3 (ipykernel)",
   "language": "python",
   "name": "python3"
  },
  "language_info": {
   "codemirror_mode": {
    "name": "ipython",
    "version": 3
   },
   "file_extension": ".py",
   "mimetype": "text/x-python",
   "name": "python",
   "nbconvert_exporter": "python",
   "pygments_lexer": "ipython3",
   "version": "3.12.3"
  }
 },
 "nbformat": 4,
 "nbformat_minor": 5
}
